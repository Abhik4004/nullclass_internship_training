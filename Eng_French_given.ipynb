{
 "cells": [
  {
   "cell_type": "markdown",
   "metadata": {
    "collapsed": true
   },
   "source": [
    "# Machine Translation Project (English to French)"
   ]
  },
  {
   "cell_type": "code",
   "execution_count": 2,
   "metadata": {},
   "outputs": [],
   "source": [
    "import collections\n",
    "import numpy as np\n",
    "import json\n",
    "\n",
    "from tensorflow.keras.preprocessing.text import Tokenizer\n",
    "from tensorflow.keras.preprocessing.sequence import pad_sequences\n",
    "from tensorflow.keras.models import Model, Sequential\n",
    "from tensorflow.keras.layers import Input, Dense, Embedding, GRU, LSTM, Bidirectional, Dropout, Activation, TimeDistributed, RepeatVector\n",
    "from tensorflow.keras.optimizers import Adam\n",
    "from tensorflow.keras.losses import sparse_categorical_crossentropy\n"
   ]
  },
  {
   "cell_type": "markdown",
   "metadata": {},
   "source": [
    "### Verify access to the GPU"
   ]
  },
  {
   "cell_type": "code",
   "execution_count": 3,
   "metadata": {},
   "outputs": [
    {
     "name": "stdout",
     "output_type": "stream",
     "text": [
      "[name: \"/device:CPU:0\"\n",
      "device_type: \"CPU\"\n",
      "memory_limit: 268435456\n",
      "locality {\n",
      "}\n",
      "incarnation: 1383685789919480344\n",
      "xla_global_id: -1\n",
      "]\n"
     ]
    }
   ],
   "source": [
    "from tensorflow.python.client import device_lib\n",
    "print(device_lib.list_local_devices())"
   ]
  },
  {
   "cell_type": "markdown",
   "metadata": {},
   "source": [
    "## Dataset\n",
    "For our machine translation project, we opt for a dataset featuring a limited vocabulary, specifically designed to facilitate a more manageable and efficient training process. Unlike the extensive [WMT](http://www.statmt.org/) datasets, our chosen dataset ensures a quicker training time and demands fewer computational resources. This strategic decision aims to balance the learning experience while still achieving meaningful results within practical time constraints.\n",
    "### Load Data"
   ]
  },
  {
   "cell_type": "code",
   "execution_count": 4,
   "metadata": {},
   "outputs": [],
   "source": [
    "def load_data(path):\n",
    "    input_file = path\n",
    "    with open(input_file, \"r\") as f:\n",
    "        data = f.read()\n",
    "    return data.split('\\n')\n",
    "\n",
    "english_sentences = load_data('data/english')\n",
    "french_sentences = load_data('data/french')"
   ]
  },
  {
   "cell_type": "markdown",
   "metadata": {},
   "source": [
    "### Sample Data"
   ]
  },
  {
   "cell_type": "code",
   "execution_count": 5,
   "metadata": {},
   "outputs": [
    {
     "data": {
      "text/plain": [
       "['new jersey is sometimes quiet during autumn , and it is snowy in april .',\n",
       " 'the united states is usually chilly during july , and it is usually freezing in november .',\n",
       " 'california is usually quiet during march , and it is usually hot in june .',\n",
       " 'the united states is sometimes mild during june , and it is cold in september .',\n",
       " 'your least liked fruit is the grape , but my least liked is the apple .']"
      ]
     },
     "execution_count": 5,
     "metadata": {},
     "output_type": "execute_result"
    }
   ],
   "source": [
    "english_sentences[:5]"
   ]
  },
  {
   "cell_type": "markdown",
   "metadata": {},
   "source": [
    "By examining the sentences, it's apparent that they have undergone preprocessing: punctuation has been delimited with spaces, and all the text has been converted to lowercase. This preprocessing serves a crucial purpose in text preparation. Firstly, delimiting punctuation with spaces ensures that each punctuation mark is treated as a separate token, aiding the model in understanding sentence structure. Secondly, converting the entire text to lowercase standardizes the input, preventing the model from distinguishing between words solely based on their casing. This uniformity facilitates more effective training and generalization, enhancing the model's ability to grasp patterns and generate accurate translations."
   ]
  },
  {
   "cell_type": "markdown",
   "metadata": {},
   "source": [
    "Structure of the Dataset"
   ]
  },
  {
   "cell_type": "code",
   "execution_count": 6,
   "metadata": {},
   "outputs": [
    {
     "name": "stdout",
     "output_type": "stream",
     "text": [
      "1823250 English words.\n",
      "227 unique English words.\n",
      "10 Most common words in the English dataset:\n",
      "\"is\" \",\" \".\" \"in\" \"it\" \"during\" \"the\" \"but\" \"and\" \"sometimes\"\n",
      "\n",
      "1961295 French words.\n",
      "355 unique French words.\n",
      "10 Most common words in the French dataset:\n",
      "\"est\" \".\" \",\" \"en\" \"il\" \"les\" \"mais\" \"et\" \"la\" \"parfois\"\n"
     ]
    }
   ],
   "source": [
    "english_words_counter = collections.Counter([word for sentence in english_sentences for word in sentence.split()])\n",
    "french_words_counter = collections.Counter([word for sentence in french_sentences for word in sentence.split()])\n",
    "\n",
    "print('{} English words.'.format(len([word for sentence in english_sentences for word in sentence.split()])))\n",
    "print('{} unique English words.'.format(len(english_words_counter)))\n",
    "print('10 Most common words in the English dataset:')\n",
    "print('\"' + '\" \"'.join(list(zip(*english_words_counter.most_common(10)))[0]) + '\"')\n",
    "\n",
    "print()\n",
    "print('{} French words.'.format(len([word for sentence in french_sentences for word in sentence.split()])))\n",
    "print('{} unique French words.'.format(len(french_words_counter)))\n",
    "print('10 Most common words in the French dataset:')\n",
    "print('\"' + '\" \"'.join(list(zip(*french_words_counter.most_common(10)))[0]) + '\"')"
   ]
  },
  {
   "cell_type": "markdown",
   "metadata": {},
   "source": [
    "### Preprocess\n",
    "1. Tokenize the words into ids\n",
    "2. Add padding to make all the sequences the same length."
   ]
  },
  {
   "cell_type": "code",
   "execution_count": 7,
   "metadata": {},
   "outputs": [
    {
     "name": "stdout",
     "output_type": "stream",
     "text": [
      "{'the': 1, 'quick': 2, 'a': 3, 'brown': 4, 'fox': 5, 'jumps': 6, 'over': 7, 'lazy': 8, 'dog': 9, 'by': 10, 'jove': 11, 'my': 12, 'study': 13, 'of': 14, 'lexicography': 15, 'won': 16, 'prize': 17, 'this': 18, 'is': 19, 'short': 20, 'sentence': 21}\n",
      "\n",
      "Sequence 1 in x\n",
      "  Input:  The quick brown fox jumps over the lazy dog .\n",
      "  Output: [1, 2, 4, 5, 6, 7, 1, 8, 9]\n",
      "Sequence 2 in x\n",
      "  Input:  By Jove , my quick study of lexicography won a prize .\n",
      "  Output: [10, 11, 12, 2, 13, 14, 15, 16, 3, 17]\n",
      "Sequence 3 in x\n",
      "  Input:  This is a short sentence .\n",
      "  Output: [18, 19, 3, 20, 21]\n"
     ]
    }
   ],
   "source": [
    "def tokenize(x):\n",
    "    tokenizer = Tokenizer()\n",
    "    tokenizer.fit_on_texts(x)\n",
    "    return tokenizer.texts_to_sequences(x), tokenizer\n",
    "\n",
    "text_sentences = [\n",
    "    'The quick brown fox jumps over the lazy dog .',\n",
    "    'By Jove , my quick study of lexicography won a prize .',\n",
    "    'This is a short sentence .']\n",
    "\n",
    "text_tokenized, text_tokenizer = tokenize(text_sentences)\n",
    "print(text_tokenizer.word_index)\n",
    "print()\n",
    "for sample_i, (sent, token_sent) in enumerate(zip(text_sentences, text_tokenized)):\n",
    "    print('Sequence {} in x'.format(sample_i + 1))\n",
    "    print('  Input:  {}'.format(sent))\n",
    "    print('  Output: {}'.format(token_sent))"
   ]
  },
  {
   "cell_type": "code",
   "execution_count": 8,
   "metadata": {},
   "outputs": [
    {
     "name": "stdout",
     "output_type": "stream",
     "text": [
      "Sequence 1 in x\n",
      "  Input:  [1 2 4 5 6 7 1 8 9]\n",
      "  Output: [1 2 4 5 6 7 1 8 9 0]\n",
      "Sequence 2 in x\n",
      "  Input:  [10 11 12  2 13 14 15 16  3 17]\n",
      "  Output: [10 11 12  2 13 14 15 16  3 17]\n",
      "Sequence 3 in x\n",
      "  Input:  [18 19  3 20 21]\n",
      "  Output: [18 19  3 20 21  0  0  0  0  0]\n"
     ]
    }
   ],
   "source": [
    "def pad(x, length=None):\n",
    "    if length is None:\n",
    "        length = max([len(sentence) for sentence in x])\n",
    "    return pad_sequences(x, maxlen=length, padding='post')\n",
    "\n",
    "test_pad = pad(text_tokenized)\n",
    "for sample_i, (token_sent, pad_sent) in enumerate(zip(text_tokenized, test_pad)):\n",
    "    print('Sequence {} in x'.format(sample_i + 1))\n",
    "    print('  Input:  {}'.format(np.array(token_sent)))\n",
    "    print('  Output: {}'.format(pad_sent))"
   ]
  },
  {
   "cell_type": "code",
   "execution_count": 9,
   "metadata": {},
   "outputs": [
    {
     "name": "stdout",
     "output_type": "stream",
     "text": [
      "Data Preprocessed\n",
      "Max English sentence length: 15\n",
      "Max French sentence length: 21\n",
      "English vocabulary size: 199\n",
      "French vocabulary size: 344\n"
     ]
    }
   ],
   "source": [
    "def preprocess(x,y):\n",
    "    preprocess_x, x_tk = tokenize(x)\n",
    "    preprocess_y, y_tk = tokenize(y)\n",
    "    \n",
    "    preprocess_x = pad(preprocess_x)\n",
    "    preprocess_y = pad(preprocess_y)\n",
    "    \n",
    "    preprocess_y = preprocess_y.reshape(*preprocess_y.shape, 1)\n",
    "    \n",
    "    return preprocess_x, preprocess_y, x_tk, y_tk\n",
    "\n",
    "preproc_english_sentences, preproc_french_sentences, english_tokenizer, french_tokenizer = preprocess(english_sentences, french_sentences)\n",
    "\n",
    "max_english_sequence_length = preproc_english_sentences.shape[1]\n",
    "max_french_sequence_length = preproc_french_sentences.shape[1]\n",
    "english_vocab_size = len(english_tokenizer.word_index)\n",
    "french_vocab_size = len(french_tokenizer.word_index)\n",
    "\n",
    "print('Data Preprocessed')\n",
    "print(\"Max English sentence length:\", max_english_sequence_length)\n",
    "print(\"Max French sentence length:\", max_french_sequence_length)\n",
    "print(\"English vocabulary size:\", english_vocab_size)\n",
    "print(\"French vocabulary size:\", french_vocab_size)"
   ]
  },
  {
   "cell_type": "markdown",
   "metadata": {},
   "source": [
    "## Models\n",
    "- Model 1 is a simple RNN\n",
    "- Model 2 is a Bidirectional RNN\n",
    "- Model 3 is an Embedding RNN\n",
    "\n",
    "### Ids Back to Text\n",
    "The neural network will be translating the input to words ids, which isn't the final form we want.  We want the French translation.  The function `logits_to_text` will bridge the gab between the logits from the neural network to the French translation.  You'll be using this function to better understand the output of the neural network."
   ]
  },
  {
   "cell_type": "code",
   "execution_count": 10,
   "metadata": {},
   "outputs": [],
   "source": [
    "def logits_to_text(logits, tokenizer):\n",
    "    index_to_words = {id: word for word, id in tokenizer.word_index.items()}\n",
    "    index_to_words[0] = '<PAD>'\n",
    "    \n",
    "    return ' '.join([index_to_words[prediction] for prediction in np.argmax(logits, 1)])"
   ]
  },
  {
   "cell_type": "markdown",
   "metadata": {},
   "source": [
    "### Model 1: RNN\n",
    "![RNN](images/rnn.png)\n",
    "A basic RNN model is a good baseline for sequence data.  In this model, you'll build a RNN that translates English to French."
   ]
  },
  {
   "cell_type": "code",
   "execution_count": 11,
   "metadata": {},
   "outputs": [
    {
     "name": "stdout",
     "output_type": "stream",
     "text": [
      "Epoch 1/10\n"
     ]
    },
    {
     "name": "stderr",
     "output_type": "stream",
     "text": [
      "c:\\Users\\abhik\\anaconda3\\envs\\nullclass\\lib\\site-packages\\keras\\src\\layers\\rnn\\rnn.py:204: UserWarning: Do not pass an `input_shape`/`input_dim` argument to a layer. When using Sequential models, prefer using an `Input(shape)` object as the first layer in the model instead.\n",
      "  super().__init__(**kwargs)\n"
     ]
    },
    {
     "name": "stdout",
     "output_type": "stream",
     "text": [
      "\u001b[1m108/108\u001b[0m \u001b[32m━━━━━━━━━━━━━━━━━━━━\u001b[0m\u001b[37m\u001b[0m \u001b[1m0s\u001b[0m 529ms/step - accuracy: 0.4642 - loss: 2.6203"
     ]
    },
    {
     "ename": "InvalidArgumentError",
     "evalue": "Graph execution error:\n\nDetected at node compile_loss/sparse_categorical_crossentropy/SparseSoftmaxCrossEntropyWithLogits/SparseSoftmaxCrossEntropyWithLogits defined at (most recent call last):\n  File \"c:\\Users\\abhik\\anaconda3\\envs\\nullclass\\lib\\runpy.py\", line 197, in _run_module_as_main\n\n  File \"c:\\Users\\abhik\\anaconda3\\envs\\nullclass\\lib\\runpy.py\", line 87, in _run_code\n\n  File \"c:\\Users\\abhik\\anaconda3\\envs\\nullclass\\lib\\site-packages\\ipykernel_launcher.py\", line 18, in <module>\n\n  File \"c:\\Users\\abhik\\anaconda3\\envs\\nullclass\\lib\\site-packages\\traitlets\\config\\application.py\", line 1075, in launch_instance\n\n  File \"c:\\Users\\abhik\\anaconda3\\envs\\nullclass\\lib\\site-packages\\ipykernel\\kernelapp.py\", line 739, in start\n\n  File \"c:\\Users\\abhik\\anaconda3\\envs\\nullclass\\lib\\site-packages\\tornado\\platform\\asyncio.py\", line 205, in start\n\n  File \"c:\\Users\\abhik\\anaconda3\\envs\\nullclass\\lib\\asyncio\\base_events.py\", line 601, in run_forever\n\n  File \"c:\\Users\\abhik\\anaconda3\\envs\\nullclass\\lib\\asyncio\\base_events.py\", line 1905, in _run_once\n\n  File \"c:\\Users\\abhik\\anaconda3\\envs\\nullclass\\lib\\asyncio\\events.py\", line 80, in _run\n\n  File \"c:\\Users\\abhik\\anaconda3\\envs\\nullclass\\lib\\site-packages\\ipykernel\\kernelbase.py\", line 545, in dispatch_queue\n\n  File \"c:\\Users\\abhik\\anaconda3\\envs\\nullclass\\lib\\site-packages\\ipykernel\\kernelbase.py\", line 534, in process_one\n\n  File \"c:\\Users\\abhik\\anaconda3\\envs\\nullclass\\lib\\site-packages\\ipykernel\\kernelbase.py\", line 437, in dispatch_shell\n\n  File \"c:\\Users\\abhik\\anaconda3\\envs\\nullclass\\lib\\site-packages\\ipykernel\\ipkernel.py\", line 362, in execute_request\n\n  File \"c:\\Users\\abhik\\anaconda3\\envs\\nullclass\\lib\\site-packages\\ipykernel\\kernelbase.py\", line 778, in execute_request\n\n  File \"c:\\Users\\abhik\\anaconda3\\envs\\nullclass\\lib\\site-packages\\ipykernel\\ipkernel.py\", line 449, in do_execute\n\n  File \"c:\\Users\\abhik\\anaconda3\\envs\\nullclass\\lib\\site-packages\\ipykernel\\zmqshell.py\", line 549, in run_cell\n\n  File \"c:\\Users\\abhik\\anaconda3\\envs\\nullclass\\lib\\site-packages\\IPython\\core\\interactiveshell.py\", line 3048, in run_cell\n\n  File \"c:\\Users\\abhik\\anaconda3\\envs\\nullclass\\lib\\site-packages\\IPython\\core\\interactiveshell.py\", line 3103, in _run_cell\n\n  File \"c:\\Users\\abhik\\anaconda3\\envs\\nullclass\\lib\\site-packages\\IPython\\core\\async_helpers.py\", line 129, in _pseudo_sync_runner\n\n  File \"c:\\Users\\abhik\\anaconda3\\envs\\nullclass\\lib\\site-packages\\IPython\\core\\interactiveshell.py\", line 3308, in run_cell_async\n\n  File \"c:\\Users\\abhik\\anaconda3\\envs\\nullclass\\lib\\site-packages\\IPython\\core\\interactiveshell.py\", line 3490, in run_ast_nodes\n\n  File \"c:\\Users\\abhik\\anaconda3\\envs\\nullclass\\lib\\site-packages\\IPython\\core\\interactiveshell.py\", line 3550, in run_code\n\n  File \"C:\\Users\\abhik\\AppData\\Local\\Temp\\ipykernel_27968\\1267588431.py\", line 30, in <module>\n\n  File \"c:\\Users\\abhik\\anaconda3\\envs\\nullclass\\lib\\site-packages\\keras\\src\\utils\\traceback_utils.py\", line 117, in error_handler\n\n  File \"c:\\Users\\abhik\\anaconda3\\envs\\nullclass\\lib\\site-packages\\keras\\src\\backend\\tensorflow\\trainer.py\", line 343, in fit\n\n  File \"c:\\Users\\abhik\\anaconda3\\envs\\nullclass\\lib\\site-packages\\keras\\src\\utils\\traceback_utils.py\", line 117, in error_handler\n\n  File \"c:\\Users\\abhik\\anaconda3\\envs\\nullclass\\lib\\site-packages\\keras\\src\\backend\\tensorflow\\trainer.py\", line 429, in evaluate\n\n  File \"c:\\Users\\abhik\\anaconda3\\envs\\nullclass\\lib\\site-packages\\keras\\src\\backend\\tensorflow\\trainer.py\", line 165, in one_step_on_iterator\n\n  File \"c:\\Users\\abhik\\anaconda3\\envs\\nullclass\\lib\\site-packages\\keras\\src\\backend\\tensorflow\\trainer.py\", line 154, in one_step_on_data\n\n  File \"c:\\Users\\abhik\\anaconda3\\envs\\nullclass\\lib\\site-packages\\keras\\src\\backend\\tensorflow\\trainer.py\", line 85, in test_step\n\n  File \"c:\\Users\\abhik\\anaconda3\\envs\\nullclass\\lib\\site-packages\\keras\\src\\trainers\\trainer.py\", line 357, in _compute_loss\n\n  File \"c:\\Users\\abhik\\anaconda3\\envs\\nullclass\\lib\\site-packages\\keras\\src\\trainers\\trainer.py\", line 325, in compute_loss\n\n  File \"c:\\Users\\abhik\\anaconda3\\envs\\nullclass\\lib\\site-packages\\keras\\src\\trainers\\compile_utils.py\", line 609, in __call__\n\n  File \"c:\\Users\\abhik\\anaconda3\\envs\\nullclass\\lib\\site-packages\\keras\\src\\trainers\\compile_utils.py\", line 645, in call\n\n  File \"c:\\Users\\abhik\\anaconda3\\envs\\nullclass\\lib\\site-packages\\keras\\src\\losses\\loss.py\", line 43, in __call__\n\n  File \"c:\\Users\\abhik\\anaconda3\\envs\\nullclass\\lib\\site-packages\\keras\\src\\losses\\losses.py\", line 27, in call\n\n  File \"c:\\Users\\abhik\\anaconda3\\envs\\nullclass\\lib\\site-packages\\keras\\src\\losses\\losses.py\", line 1853, in sparse_categorical_crossentropy\n\n  File \"c:\\Users\\abhik\\anaconda3\\envs\\nullclass\\lib\\site-packages\\keras\\src\\ops\\nn.py\", line 1567, in sparse_categorical_crossentropy\n\n  File \"c:\\Users\\abhik\\anaconda3\\envs\\nullclass\\lib\\site-packages\\keras\\src\\backend\\tensorflow\\nn.py\", line 645, in sparse_categorical_crossentropy\n\nReceived a label value of 344 which is outside the valid range of [0, 344).  Label values: 7 88 1 64 16 13 14 5 7 83 1 40 13 14 0 0 0 0 0 0 0 11 30 1 67 15 25 22 47 6 3 1 58 69 2 56 0 0 0 0 0 0 62 1 92 2 41 5 3 1 9 21 26 11 24 0 0 0 0 0 0 0 0 7 33 1 9 7 102 2 51 5 3 1 18 2 45 0 0 0 0 0 0 0 29 1 65 37 11 44 6 3 1 9 21 2 52 0 0 0 0 0 0 0 0 10 38 1 20 16 17 13 5 10 82 1 20 13 17 0 0 0 0 0 0 0 36 1 12 67 37 11 46 5 3 1 18 2 44 0 0 0 0 0 0 0 0 27 145 7 97 134 154 0 0 0 0 0 0 0 0 0 0 0 0 0 0 0 3 113 115 184 110 176 0 0 0 0 0 0 0 0 0 0 0 0 0 0 0 3 94 4 28 4 73 6 4 78 0 0 0 0 0 0 0 0 0 0 0 0 11 30 1 19 15 25 79 56 5 3 1 68 2 41 0 0 0 0 0 0 0 3 55 4 72 4 28 76 6 4 28 0 0 0 0 0 0 0 0 0 0 0 3 55 4 78 4 74 6 4 73 0 0 0 0 0 0 0 0 0 0 0 0 3 55 4 28 4 70 6 4 72 0 0 0 0 0 0 0 0 0 0 0 0 11 30 1 12 57 15 25 22 45 6 3 1 12 18 2 47 0 0 0 0 0 4 32 31 1 8 68 15 25 22 47 5 3 1 8 21 2 41 0 0 0 0 10 82 1 61 16 17 5 7 86 1 40 93 0 0 0 0 0 0 0 0 0 10 85 1 20 16 17 13 5 7 83 1 61 13 17 0 0 0 0 0 0 0 10 38 1 40 16 17 5 7 89 1 39 17 0 0 0 0 0 0 0 0 0 62 1 12 63 2 41 5 3 1 8 60 26 11 24 0 0 0 0 0 0 0 99 124 4 70 4 73 6 28 76 0 0 0 0 0 0 0 0 0 0 0 0 7 89 1 39 16 13 14 5 7 90 27 1 13 14 0 0 0 0 0 0 0 10 85 1 39 13 14 108 96 5 10 82 1 20 13 14 0 0 0 0 0 0 36 1 8 18 2 43 5 3 1 12 66 2 48 0 0 0 0 0 0 0 0 20 13 16 17 1 7 88 5 39 17 13 1 10 82 0 0 0 0 0 0 0 20 16 10 23 14 1 10 85 5 61 23 14 1 7 90 0 0 0 0 0 0 35 34 1 8 19 2 43 5 3 1 8 18 2 49 0 0 0 0 0 0 0 4 32 31 1 9 57 37 11 46 5 3 1 18 2 41 0 0 0 0 0 0 36 1 8 57 2 52 5 3 1 8 59 2 46 0 0 0 0 0 0 0 0 3 94 4 71 4 74 6 4 78 0 0 0 0 0 0 0 0 0 0 0 0 64 16 17 1 10 270 5 61 17 1 7 86 0 0 0 0 0 0 0 0 0 29 1 19 2 52 6 3 1 9 60 2 46 0 0 0 0 0 0 0 0 0 29 1 8 66 2 41 5 3 1 12 60 26 11 24 0 0 0 0 0 0 0 29 1 12 21 37 11 24 5 3 1 9 65 2 51 0 0 0 0 0 0 0 29 1 8 66 15 111 22 11 24 6 3 1 9 26 63 2 53 0 0 0 0 4 32 31 1 21 2 43 5 3 1 9 117 2 47 0 0 0 0 0 0 0 7 36 1 8 65 37 11 46 5 3 1 63 2 44 0 0 0 0 0 0 0 33 1 57 2 49 5 3 1 18 2 47 0 0 0 0 0 0 0 0 0 0 7 33 1 8 63 2 50 6 3 1 12 18 2 49 0 0 0 0 0 0 0 36 1 69 21 2 50 6 3 1 8 63 26 11 24 0 0 0 0 0 0 0 7 33 1 12 65 2 54 6 3 1 19 2 41 0 0 0 0 0 0 0 0 20 16 17 1 13 7 86 5 40 13 17 1 10 85 0 0 0 0 0 0 0 39 109 17 1 13 146 11 237 0 0 0 0 0 0 0 0 0 0 0 0 0 7 88 1 7 13 14 108 96 5 10 85 1 64 13 14 0 0 0 0 0 0 64 16 17 13 1 10 38 5 40 13 140 1 84 0 0 0 0 0 0 0 0 62 1 21 2 50 5 3 1 12 18 2 53 0 0 0 0 0 0 0 0 0 35 34 1 66 2 41 5 3 1 12 67 26 11 24 0 0 0 0 0 0 0 4 32 31 105 131 9 190 2 45 5 3 1 18 2 44 0 0 0 0 0 0 27 94 7 148 97 162 0 0 0 0 0 0 0 0 0 0 0 0 0 0 0 29 1 58 69 2 50 5 3 1 12 19 2 53 0 0 0 0 0 0 0 0 99 127 91 28 76 4 70 6 4 74 0 0 0 0 0 0 0 0 0 0 0 4 32 31 1 12 63 37 11 24 6 3 1 8 58 2 41 0 0 0 0 0 27 55 4 75 4 73 6 10 38 0 0 0 0 0 0 0 0 0 0 0 0 4 32 31 1 8 21 37 11 24 6 3 1 12 67 2 52 0 0 0 0 0 62 1 12 65 37 11 44 6 3 1 8 10 81 2 50 0 0 0 0 0 0 11 30 1 12 18 15 25 79 56 5 3 1 8 18 2 46 0 0 0 0 0 101 1 12 18 15 25 22 47 6 3 1 60 2 52 0 0 0 0 0 0 0 29 1 19 2 41 6 3 1 12 19 2 53 0 0 0 0 0 0 0 0 0 7 33 1 9 18 26 98 6 3 1 8 67 2 44 0 0 0 0 0 0 0 62 105 103 9 19 2 51 6 3 1 8 63 2 49 0 0 0 0 0 0 0 135 28 76 4 28 6 4 78 0 0 0 0 0 0 0 0 0 0 0 0 0 3 55 4 73 4 70 6 4 75 0 0 0 0 0 0 0 0 0 0 0 0 7 90 1 61 16 10 23 119 5 7 89 1 39 23 14 0 0 0 0 0 0 3 180 35 34 24 114 0 0 0 0 0 0 0 0 0 0 0 0 0 0 0 27 94 4 78 4 77 6 4 74 0 0 0 0 0 0 0 0 0 0 0 0 36 105 103 9 19 2 24 6 3 1 12 59 2 54 0 0 0 0 0 0 0 11 30 1 19 2 49 5 3 157 2 43 0 0 0 0 0 0 0 0 0 0 3 55 10 163 110 134 0 0 0 0 0 0 0 0 0 0 0 0 0 0 0 11 30 1 19 15 42 5 3 1 8 59 2 54 0 0 0 0 0 0 0 0 35 34 1 58 8 2 54 6 3 1 9 66 2 44 0 0 0 0 0 0 0 7 86 1 39 16 17 13 5 10 82 1 64 13 17 0 0 0 0 0 0 0 84 1 39 16 13 14 5 7 88 27 1 13 14 0 0 0 0 0 0 0 0 4 32 31 1 8 65 15 25 79 56 5 3 1 67 2 45 0 0 0 0 0 36 1 12 18 2 52 5 3 1 8 65 2 56 0 0 0 0 0 0 0 0 11 30 1 19 15 42 6 3 1 12 59 2 44 0 0 0 0 0 0 0 0 29 1 12 57 2 54 6 3 1 8 21 2 53 0 0 0 0 0 0 0 0 7 86 1 61 16 13 14 5 7 88 1 39 13 14 0 0 0 0 0 0 0 35 34 1 12 18 2 49 5 3 1 9 18 2 54 0 0 0 0 0 0 0 107 126 4 77 28 76 6 72 0 0 0 0 0 0 0 0 0 0 0 0 0 29 1 65 2 52 5 3 1 63 2 48 0 0 0 0 0 0 0 0 0 0 11 30 1 12 67 15 111 22 11 24 5 3 1 12 65 2 45 0 0 0 0 20 16 1 13 14 7 87 5 27 1 13 14 7 83 0 0 0 0 0 0 0 7 62 1 9 58 26 98 6 3 1 8 21 2 51 0 0 0 0 0 0 0 11 30 1 58 2 53 5 3 1 8 19 2 45 0 0 0 0 0 0 0 0 4 32 31 1 18 26 98 6 3 1 8 21 15 42 0 0 0 0 0 0 0 107 132 10 38 4 71 6 4 28 76 0 0 0 0 0 0 0 0 0 0 0 35 34 1 12 68 2 50 5 3 1 59 2 49 0 0 0 0 0 0 0 0 27 55 4 75 10 38 6 4 78 0 0 0 0 0 0 0 0 0 0 0 0 40 109 17 1 146 7 201 0 0 0 0 0 0 0 0 0 0 0 0 0 0 20 16 1 13 14 7 83 5 64 13 14 1 7 90 0 0 0 0 0 0 0 3 55 4 72 4 71 6 4 75 0 0 0 0 0 0 0 0 0 0 0 0 11 30 1 10 81 2 50 5 3 1 8 60 26 11 24 0 0 0 0 0 0 4 32 31 1 12 60 2 50 5 3 1 9 18 2 44 0 0 0 0 0 0 62 1 12 63 2 48 5 3 1 69 21 2 46 0 0 0 0 0 0 0 0 62 1 8 104 2 45 6 3 1 67 2 52 0 0 0 0 0 0 0 0 0 7 83 1 20 16 10 23 14 5 7 90 1 40 23 14 0 0 0 0 0 0 29 1 8 19 2 45 6 3 1 12 63 26 11 24 0 0 0 0 0 0 0 40 13 14 108 96 1 7 90 5 61 13 14 1 10 38 0 0 0 0 0 0 7 88 1 61 16 17 5 84 1 20 93 0 0 0 0 0 0 0 0 0 0 7 62 1 58 8 26 98 6 3 1 8 104 2 51 0 0 0 0 0 0 0 11 30 1 9 58 15 25 22 47 5 3 1 12 19 15 42 0 0 0 0 0 7 194 161 10 189 6 10 186 1 196 0 0 0 0 0 0 0 0 0 0 0 7 33 1 12 67 2 45 6 3 95 69 2 43 0 0 0 0 0 0 0 0 7 33 1 12 18 2 54 5 3 1 21 2 46 0 0 0 0 0 0 0 0 29 1 8 104 15 25 22 51 6 3 1 60 2 47 0 0 0 0 0 0 0 7 83 1 40 16 13 14 5 10 38 1 61 13 14 0 0 0 0 0 0 0 115 221 1 40 109 17 13 0 0 0 0 0 0 0 0 0 0 0 0 0 0 35 34 1 104 2 49 5 3 95 9 2 51 0 0 0 0 0 0 0 0 0 29 1 7 102 15 111 22 11 24 5 3 1 12 57 2 44 0 0 0 0 0 3 118 113 10 200 110 166 0 0 0 0 0 0 0 0 0 0 0 0 0 0 29 1 8 60 2 45 6 3 1 9 68 2 41 0 0 0 0 0 0 0 0 35 34 1 12 59 2 41 6 3 157 2 47 0 0 0 0 0 0 0 0 0 61 16 17 1 13 10 85 5 64 13 17 1 7 83 0 0 0 0 0 0 0 4 32 31 1 63 37 11 44 5 3 1 12 18 2 53 0 0 0 0 0 0 29 1 9 57 2 43 5 3 1 9 65 2 41 0 0 0 0 0 0 0 0 29 1 8 19 2 43 5 3 1 18 2 46 0 0 0 0 0 0 0 0 0 27 55 4 70 4 74 6 4 78 0 0 0 0 0 0 0 0 0 0 0 0 29 1 12 67 2 50 6 3 1 9 68 26 11 24 0 0 0 0 0 0 0 3 55 4 28 4 78 6 4 73 0 0 0 0 0 0 0 0 0 0 0 0 61 16 17 1 84 5 39 17 1 10 82 0 0 0 0 0 0 0 0 0 0 39 16 17 1 7 88 5 64 93 1 10 85 0 0 0 0 0 0 0 0 0 7 80 1 40 16 17 13 5 10 85 1 20 13 17 0 0 0 0 0 0 0 20 16 1 13 14 7 86 5 61 13 14 1 7 80 0 0 0 0 0 0 0 29 1 10 81 37 11 46 5 3 1 112 26 11 24 0 0 0 0 0 0 0 10 82 1 39 16 17 5 7 89 1 61 17 0 0 0 0 0 0 0 0 0 7 33 1 9 18 15 25 22 47 5 3 105 103 9 19 2 49 0 0 0 0 10 85 1 40 16 17 13 5 7 83 1 20 13 17 0 0 0 0 0 0 0 29 1 66 15 25 22 51 6 3 1 9 125 2 53 0 0 0 0 0 0 0 99 124 4 28 6 4 75 0 0 0 0 0 0 0 0 0 0 0 0 0 0 20 16 10 23 14 1 7 87 5 39 23 14 1 84 0 0 0 0 0 0 0 3 55 4 78 6 4 77 0 0 0 0 0 0 0 0 0 0 0 0 0 0 29 1 8 59 2 50 5 3 1 19 26 11 24 0 0 0 0 0 0 0 0 7 36 1 12 57 15 25 22 47 5 3 1 18 2 43 0 0 0 0 0 0 99 127 91 4 77 4 75 6 4 28 76 0 0 0 0 0 0 0 0 0 0 29 1 8 67 2 52 6 3 95 9 2 56 0 0 0 0 0 0 0 0 0 7 33 1 8 58 2 54 5 3 95 9 26 11 24 0 0 0 0 0 0 0 36 1 9 66 37 11 44 6 3 1 12 68 2 52 0 0 0 0 0 0 0 10 38 1 20 16 17 5 7 83 1 20 93 0 0 0 0 0 0 0 0 0 35 34 1 9 58 2 49 6 3 1 68 2 43 0 0 0 0 0 0 0 0 27 94 115 110 172 169 0 0 0 0 0 0 0 0 0 0 0 0 0 0 0 20 16 1 13 14 7 87 5 39 13 14 1 7 83 0 0 0 0 0 0 0 7 36 1 8 60 37 11 44 5 3 1 21 26 11 24 0 0 0 0 0 0 39 16 1 13 14 10 85 5 40 13 14 1 7 89 0 0 0 0 0 0 0 29 1 58 69 2 48 6 3 1 12 19 2 41 0 0 0 0 0 0 0 0 4 32 31 1 8 18 15 25 79 56 5 3 1 12 66 2 51 0 0 0 0 35 34 1 12 18 15 25 22 47 5 3 1 8 57 2 44 0 0 0 0 0 7 33 1 18 15 42 6 3 1 8 137 2 56 0 0 0 0 0 0 0 0 4 32 31 1 58 2 50 6 3 1 12 68 2 56 0 0 0 0 0 0 0 36 1 60 2 54 6 3 1 9 57 2 47 0 0 0 0 0 0 0 0 0 27 94 4 77 4 75 6 4 71 0 0 0 0 0 0 0 0 0 0 0 0 4 32 31 1 12 18 37 11 44 6 3 1 112 2 51 0 0 0 0 0 0 29 1 9 60 15 25 79 56 6 3 1 8 112 26 11 24 0 0 0 0 0 36 1 8 19 2 54 5 3 1 12 59 2 44 0 0 0 0 0 0 0 0 3 55 4 73 4 70 6 4 28 76 0 0 0 0 0 0 0 0 0 0 0 107 208 22 136 7 33 26 11 24 114 0 0 0 0 0 0 0 0 0 0 0 7 36 1 8 63 37 11 44 6 3 1 8 19 2 47 0 0 0 0 0 0 20 16 10 23 14 1 7 90 5 40 23 14 1 10 82 0 0 0 0 0 0 11 30 1 66 37 11 24 6 3 1 57 2 50 0 0 0 0 0 0 0 0 7 33 1 12 68 2 43 5 3 1 9 18 2 44 0 0 0 0 0 0 0 11 30 1 26 63 37 11 44 6 3 1 8 19 2 41 0 0 0 0 0 0 7 86 1 20 16 10 23 14 5 7 80 1 39 23 14 0 0 0 0 0 0 29 1 9 60 15 42 6 3 1 9 117 2 41 0 0 0 0 0 0 0 0 61 13 14 16 1 84 5 39 13 14 1 10 82 0 0 0 0 0 0 0 0 7 83 1 61 16 17 13 5 10 85 1 40 17 13 0 0 0 0 0 0 0 7 33 1 9 18 2 43 6 3 1 9 66 2 47 0 0 0 0 0 0 0 62 1 9 7 102 2 49 6 3 1 67 2 45 0 0 0 0 0 0 0 0 36 1 104 2 24 5 3 1 60 2 54 0 0 0 0 0 0 0 0 0 0 40 109 10 23 156 1 115 214 0 0 0 0 0 0 0 0 0 0 0 0 0 20 16 17 1 13 7 86 5 40 13 140 1 7 89 0 0 0 0 0 0 0 7 87 1 64 16 17 5 7 88 1 39 17 0 0 0 0 0 0 0 0 0 3 1 198 22 164 161 186 6 187 0 0 0 0 0 0 0 0 0 0 0 0 84 1 20 16 17 5 7 87 1 64 93 0 0 0 0 0 0 0 0 0 0 11 30 1 58 2 49 6 3 1 8 21 26 11 24 0 0 0 0 0 0 0 11 30 1 9 18 2 51 6 3 1 12 60 2 56 0 0 0 0 0 0 0 129 96 10 23 14 1 7 80 5 20 23 14 1 7 83 0 0 0 0 0 0 27 1 15 230 79 120 97 150 174 0 0 0 0 0 0 0 0 0 0 0 0 61 16 17 1 7 90 5 40 93 1 7 88 0 0 0 0 0 0 0 0 0 4 32 31 1 19 2 52 5 3 1 12 92 2 45 0 0 0 0 0 0 0 27 94 4 71 4 28 6 4 73 0 0 0 0 0 0 0 0 0 0 0 0 27 55 10 82 10 38 6 4 70 0 0 0 0 0 0 0 0 0 0 0 0 3 55 4 28 4 73 6 4 74 0 0 0 0 0 0 0 0 0 0 0 0 35 34 1 9 18 2 43 6 3 1 12 59 2 41 0 0 0 0 0 0 0 10 85 1 40 16 17 5 7 86 1 39 17 0 0 0 0 0 0 0 0 0 27 94 4 72 4 75 6 4 70 0 0 0 0 0 0 0 0 0 0 0 0 7 33 1 8 19 2 50 6 3 1 8 92 15 42 0 0 0 0 0 0 0 4 32 31 1 12 19 2 51 6 3 1 8 21 2 41 0 0 0 0 0 0 4 32 31 1 9 60 2 49 5 3 1 69 21 2 47 0 0 0 0 0 0 3 113 7 168 97 155 0 0 0 0 0 0 0 0 0 0 0 0 0 0 0 7 36 1 8 104 26 98 5 3 1 19 2 47 0 0 0 0 0 0 0 0 36 1 12 92 2 49 5 9 26 63 2 51 0 0 0 0 0 0 0 0 0 35 34 105 95 2 41 6 3 1 12 59 2 49 0 0 0 0 0 0 0 0 27 94 4 28 4 70 6 4 73 0 0 0 0 0 0 0 0 0 0 0 0 11 30 1 9 18 2 41 6 3 1 67 2 49 0 0 0 0 0 0 0 0 20 16 17 1 7 80 5 40 93 1 7 90 0 0 0 0 0 0 0 0 0 3 203 123 2 62 15 42 142 0 0 0 0 0 0 0 0 0 0 0 0 0 36 1 21 2 54 6 3 1 8 18 2 44 0 0 0 0 0 0 0 0 0 3 100 4 74 4 28 6 4 75 0 0 0 0 0 0 0 0 0 0 0 0 7 33 1 8 58 2 43 6 3 1 12 60 2 56 0 0 0 0 0 0 0 7 83 1 39 16 17 0 0 0 0 0 0 0 0 0 0 0 0 0 0 0 27 55 4 70 4 77 6 4 71 0 0 0 0 0 0 0 0 0 0 0 0 35 34 1 18 2 41 6 3 1 8 10 81 2 46 0 0 0 0 0 0 0 36 1 19 2 43 5 3 1 8 10 81 15 42 0 0 0 0 0 0 0 0 10 85 1 61 16 13 14 5 7 90 1 20 13 14 0 0 0 0 0 0 0 170 323 141 131 108 257 175 0 0 0 0 0 0 0 0 0 0 0 0 0 0 35 34 1 12 65 2 43 6 3 157 2 47 0 0 0 0 0 0 0 0 0 36 1 19 37 11 44 5 3 1 67 2 48 0 0 0 0 0 0 0 0 0 7 90 1 39 16 10 23 14 5 84 1 40 23 14 0 0 0 0 0 0 0 20 16 10 23 14 1 7 83 5 39 23 14 1 7 86 0 0 0 0 0 0 10 82 1 39 16 17 5 7 87 1 64 93 0 0 0 0 0 0 0 0 0 101 1 9 59 2 49 5 3 1 19 2 45 0 0 0 0 0 0 0 0 0 27 55 4 71 4 28 6 4 70 0 0 0 0 0 0 0 0 0 0 0 0 3 118 149 244 182 154 0 0 0 0 0 0 0 0 0 0 0 0 0 0 0 11 30 1 12 63 2 53 5 3 1 9 60 2 43 0 0 0 0 0 0 0 10 82 1 61 16 17 5 10 85 1 20 93 0 0 0 0 0 0 0 0 0 7 90 1 13 20 16 17 5 7 80 1 40 17 13 0 0 0 0 0 0 0 29 1 8 66 37 11 46 6 3 1 12 65 2 56 0 0 0 0 0 0 0 35 34 1 8 19 2 43 6 3 1 21 2 52 0 0 0 0 0 0 0 0 27 100 120 148 97 153 0 0 0 0 0 0 0 0 0 0 0 0 0 0 0 29 1 10 81 69 2 54 6 3 1 12 65 2 48 0 0 0 0 0 0 0 62 1 12 66 2 54 5 3 1 9 68 2 46 0 0 0 0 0 0 0 0 107 126 28 76 4 74 6 4 28 0 0 0 0 0 0 0 0 0 0 0 0 191 96 13 14 1 10 38 5 61 13 14 1 7 80 0 0 0 0 0 0 0 11 30 1 69 21 15 42 5 3 1 9 117 2 52 0 0 0 0 0 0 0 35 34 1 58 2 43 6 3 1 8 63 26 11 24 0 0 0 0 0 0 0 135 4 70 4 72 6 4 74 0 0 0 0 0 0 0 0 0 0 0 0 0 7 33 1 9 60 2 49 6 3 1 8 63 2 46 0 0 0 0 0 0 0 7 33 1 8 19 15 42 5 3 1 8 18 2 50 0 0 0 0 0 0 0 4 32 31 1 21 37 11 46 6 3 1 9 68 2 41 0 0 0 0 0 0 7 80 1 39 13 14 108 96 5 7 88 1 61 13 14 0 0 0 0 0 0 33 1 21 15 25 22 47 5 3 1 9 60 2 43 0 0 0 0 0 0 0 29 1 195 26 98 6 3 1 59 2 47 0 0 0 0 0 0 0 0 0 0 29 1 12 60 2 54 6 3 1 58 69 2 50 0 0 0 0 0 0 0 0 4 32 31 1 59 15 25 22 47 5 3 1 12 67 2 41 0 0 0 0 0 20 16 10 23 14 1 7 83 5 20 23 14 1 7 88 0 0 0 0 0 0 35 34 1 12 60 2 45 5 3 1 9 59 2 47 0 0 0 0 0 0 0 27 55 4 74 28 76 6 4 71 0 0 0 0 0 0 0 0 0 0 0 0 3 145 115 163 110 172 0 0 0 0 0 0 0 0 0 0 0 0 0 0 0 29 1 12 67 2 50 6 3 1 9 66 2 51 0 0 0 0 0 0 0 0 62 1 8 57 37 11 44 5 9 108 177 2 50 0 0 0 0 0 0 0 0 35 34 1 8 66 37 11 46 5 3 1 9 21 2 43 0 0 0 0 0 0 29 1 9 58 15 25 22 51 5 3 1 19 2 47 0 0 0 0 0 0 0 29 1 9 57 37 11 44 5 9 22 102 2 41 0 0 0 0 0 0 0 0 39 16 17 1 7 90 0 0 0 0 0 0 0 0 0 0 0 0 0 0 0 62 1 18 2 49 5 3 1 58 8 2 43 0 0 0 0 0 0 0 0 0 40 16 17 1 10 85 5 20 17 1 10 38 0 0 0 0 0 0 0 0 0 11 30 1 8 63 2 50 6 3 1 9 19 2 41 0 0 0 0 0 0 0 3 55 91 7 147 97 162 0 0 0 0 0 0 0 0 0 0 0 0 0 0 29 1 8 21 2 41 5 3 1 8 21 2 54 0 0 0 0 0 0 0 0 11 30 1 9 58 26 98 5 3 1 9 226 22 227 26 11 24 0 0 0 0 99 124 10 38 4 74 6 4 77 0 0 0 0 0 0 0 0 0 0 0 0 99 127 4 74 4 73 6 4 71 0 0 0 0 0 0 0 0 0 0 0 0 29 1 12 18 2 52 6 3 1 8 58 2 54 0 0 0 0 0 0 0 0 35 34 1 9 66 15 42 6 3 1 58 69 2 52 0 0 0 0 0 0 0 29 1 9 67 37 11 46 5 3 1 18 2 50 0 0 0 0 0 0 0 0 27 55 4 73 4 71 6 4 75 0 0 0 0 0 0 0 0 0 0 0 0 20 16 1 13 14 7 88 5 64 13 14 1 7 89 0 0 0 0 0 0 0 10 38 1 20 16 17 5 7 83 1 39 17 0 0 0 0 0 0 0 0 0 99 124 4 72 4 77 6 4 75 0 0 0 0 0 0 0 0 0 0 0 0 20 16 1 13 14 84 5 39 13 14 1 7 86 0 0 0 0 0 0 0 0 3 55 91 10 38 4 73 6 4 71 0 0 0 0 0 0 0 0 0 0 0 101 1 9 18 2 48 6 3 1 12 19 2 53 0 0 0 0 0 0 0 0 10 85 1 61 16 13 14 5 7 86 27 1 13 14 0 0 0 0 0 0 0 20 109 10 23 14 1 192 236 0 0 0 0 0 0 0 0 0 0 0 0 0 29 1 21 2 45 6 3 1 8 139 26 11 24 0 0 0 0 0 0 0 0 27 145 121 148 97 153 0 0 0 0 0 0 0 0 0 0 0 0 0 0 0 3 55 4 78 4 72 6 4 74 0 0 0 0 0 0 0 0 0 0 0 0 3 55 4 75 4 78 6 4 73 0 0 0 0 0 0 0 0 0 0 0 0 101 1 58 69 2 43 5 3 1 12 65 2 56 0 0 0 0 0 0 0 0 11 30 1 12 59 2 53 5 3 1 9 60 2 52 0 0 0 0 0 0 0 7 36 1 10 81 69 15 42 5 3 1 8 137 2 43 0 0 0 0 0 0 3 55 4 78 4 70 6 4 28 76 0 0 0 0 0 0 0 0 0 0 0 36 1 19 37 11 44 6 3 1 8 63 2 45 0 0 0 0 0 0 0 0 11 30 1 9 125 2 52 5 3 1 8 10 81 2 53 0 0 0 0 0 0 191 96 13 14 1 7 83 5 64 13 14 1 7 80 0 0 0 0 0 0 0 11 30 1 8 7 102 2 43 6 3 1 21 2 49 0 0 0 0 0 0 0 3 100 4 72 10 38 6 4 75 0 0 0 0 0 0 0 0 0 0 0 0 7 80 1 20 16 10 23 14 5 7 86 1 61 23 14 0 0 0 0 0 0 4 32 31 1 9 66 2 48 6 3 1 67 2 51 0 0 0 0 0 0 0 27 55 4 74 10 38 6 4 71 0 0 0 0 0 0 0 0 0 0 0 0 39 13 14 1 10 16 22 38 5 27 1 13 14 84 0 0 0 0 0 0 0 11 30 1 8 65 37 11 46 6 3 1 8 19 2 52 0 0 0 0 0 0 27 143 121 151 97 134 0 0 0 0 0 0 0 0 0 0 0 0 0 0 0 3 158 91 7 147 97 162 0 0 0 0 0 0 0 0 0 0 0 0 0 0 146 10 218 1 40 109 10 23 14 0 0 0 0 0 0 0 0 0 0 0 0 10 220 1 20 109 10 23 14 0 0 0 0 0 0 0 0 0 0 0 0 0 29 1 12 19 15 25 22 47 6 3 1 9 57 2 50 0 0 0 0 0 0 7 33 1 9 18 2 46 5 3 1 12 67 2 43 0 0 0 0 0 0 0 101 1 9 65 15 25 22 51 5 3 1 21 2 54 0 0 0 0 0 0 0 35 34 1 9 66 2 48 5 3 1 8 68 15 42 0 0 0 0 0 0 0 62 1 8 60 2 43 5 3 1 12 67 2 52 0 0 0 0 0 0 0 0 7 33 1 12 21 2 41 5 3 1 8 67 2 54 0 0 0 0 0 0 0 10 82 1 20 16 10 23 14 5 7 90 27 1 10 23 14 0 0 0 0 0 1 3 223 15 35 34 0 0 0 0 0 0 0 0 0 0 0 0 0 0 0 4 32 31 1 9 58 15 25 22 48 6 3 1 8 60 26 11 24 0 0 0 20 16 17 1 7 88 5 20 17 1 10 85 0 0 0 0 0 0 0 0 0 11 30 1 59 15 25 22 53 6 3 1 21 2 43 0 0 0 0 0 0 0 3 158 91 144 163 110 166 0 0 0 0 0 0 0 0 0 0 0 0 0 0 7 86 1 64 16 17 5 7 83 1 20 93 0 0 0 0 0 0 0 0 0 35 34 1 19 15 25 22 45 5 3 1 12 18 2 48 0 0 0 0 0 0 11 30 1 104 15 42 6 3 105 103 9 19 2 49 0 0 0 0 0 0 0 20 16 10 23 14 1 84 5 40 23 14 1 7 90 0 0 0 0 0 0 0 62 105 103 9 19 15 25 22 45 5 3 1 8 21 26 11 24 0 0 0 0 3 113 120 168 97 155 0 0 0 0 0 0 0 0 0 0 0 0 0 0 0 64 16 17 1 10 38 5 39 17 1 7 86 0 0 0 0 0 0 0 0 0 35 34 1 9 66 15 111 22 11 24 6 3 1 8 68 2 43 0 0 0 0 33 1 66 37 11 24 6 3 1 8 10 81 2 53 0 0 0 0 0 0 0 4 32 31 1 12 21 2 52 6 3 1 8 18 2 41 0 0 0 0 0 0 29 1 9 59 2 43 6 3 1 12 63 2 45 0 0 0 0 0 0 0 0 29 1 8 60 15 25 22 48 5 3 1 8 19 2 44 0 0 0 0 0 0 35 34 1 12 59 26 98 5 3 1 9 18 2 47 0 0 0 0 0 0 0 36 1 9 7 102 2 49 6 3 1 8 59 2 47 0 0 0 0 0 0 0 7 33 1 8 58 2 48 6 3 1 67 2 43 0 0 0 0 0 0 0 0 62 1 8 57 2 50 5 3 1 8 68 2 56 0 0 0 0 0 0 0 0 35 34 1 9 18 2 43 5 3 1 21 2 52 0 0 0 0 0 0 0 0 62 1 8 104 15 42 6 3 1 12 57 26 11 24 0 0 0 0 0 0 0 107 126 10 38 4 70 6 4 78 0 0 0 0 0 0 0 0 0 0 0 0 36 1 9 59 37 11 46 5 3 1 8 19 2 51 0 0 0 0 0 0 0 7 33 1 10 81 2 41 6 3 1 57 26 11 24 0 0 0 0 0 0 0 35 34 1 60 2 41 5 3 1 8 59 2 50 0 0 0 0 0 0 0 0 7 83 1 10 16 10 23 14 64 5 10 82 1 10 23 14 0 0 0 0 0 84 1 20 16 17 13 5 7 88 1 61 13 17 0 0 0 0 0 0 0 0 99 127 91 28 76 4 77 6 4 71 0 0 0 0 0 0 0 0 0 0 0 7 36 1 8 10 81 2 48 6 3 1 9 19 2 52 0 0 0 0 0 0 29 1 8 10 81 2 43 5 3 1 19 2 50 0 0 0 0 0 0 0 0 4 32 31 1 9 117 2 50 6 3 1 65 2 51 0 0 0 0 0 0 0 101 1 8 18 2 53 5 3 1 8 19 15 42 0 0 0 0 0 0 0 0 7 33 1 9 60 2 48 5 3 1 19 2 47 0 0 0 0 0 0 0 0 99 127 91 4 77 4 74 6 4 75 0 0 0 0 0 0 0 0 0 0 0 39 16 10 23 14 1 7 87 5 64 23 14 1 10 85 0 0 0 0 0 0 7 33 1 60 26 98 5 3 1 12 92 2 41 0 0 0 0 0 0 0 0 11 30 1 104 26 98 5 3 1 9 59 2 49 0 0 0 0 0 0 0 0 29 1 59 26 98 5 3 1 58 2 52 0 0 0 0 0 0 0 0 0 0 3 55 4 73 4 28 6 4 28 76 0 0 0 0 0 0 0 0 0 0 0 36 1 19 2 52 5 3 1 21 2 50 0 0 0 0 0 0 0 0 0 0 29 1 12 59 2 49 6 3 1 9 22 102 2 41 0 0 0 0 0 0 0 7 89 1 20 16 17 13 5 7 86 1 39 17 13 0 0 0 0 0 0 0 10 85 1 20 16 13 14 5 7 88 1 61 13 14 0 0 0 0 0 0 0 29 1 57 15 25 22 48 5 3 1 65 26 11 24 0 0 0 0 0 0 0 106 130 4 74 6 4 71 0 0 0 0 0 0 0 0 0 0 0 0 0 0 101 1 8 18 37 11 44 5 3 1 67 2 43 0 0 0 0 0 0 0 0 4 32 31 1 9 68 2 54 5 3 1 8 19 2 51 0 0 0 0 0 0 20 16 1 13 14 7 83 5 61 13 14 1 7 88 0 0 0 0 0 0 0 99 127 10 38 4 75 6 4 70 0 0 0 0 0 0 0 0 0 0 0 0 99 127 4 75 28 76 6 4 71 0 0 0 0 0 0 0 0 0 0 0 0 40 16 17 13 1 10 38 5 64 13 17 1 7 80 0 0 0 0 0 0 0 29 1 8 18 37 11 44 5 3 1 9 19 2 43 0 0 0 0 0 0 0 4 32 31 1 12 18 15 42 5 3 1 8 66 26 11 24 0 0 0 0 0 36 1 104 2 45 6 3 1 8 18 2 46 0 0 0 0 0 0 0 0 0 116 100 4 78 4 77 6 4 71 0 0 0 0 0 0 0 0 0 0 0 0 3 94 4 71 4 78 6 4 75 0 0 0 0 0 0 0 0 0 0 0 0 3 55 91 4 77 6 4 74 0 0 0 0 0 0 0 0 0 0 0 0 0 11 30 1 243 15 42 6 3 1 9 65 2 56 0 0 0 0 0 0 0 0 33 105 103 9 19 2 41 5 3 1 69 21 2 48 0 0 0 0 0 0 0 7 89 1 39 13 14 108 96 5 10 85 1 61 13 14 0 0 0 0 0 0 7 80 1 20 13 14 108 96 5 7 87 1 39 13 14 0 0 0 0 0 0 4 32 31 1 19 37 11 44 5 3 1 21 15 42 0 0 0 0 0 0 0 35 34 1 58 8 2 49 5 3 95 69 2 56 0 0 0 0 0 0 0 0 4 32 31 1 9 66 2 49 6 3 1 8 92 2 53 0 0 0 0 0 0 35 34 1 9 18 2 52 5 3 1 9 60 26 11 24 0 0 0 0 0 0 3 55 10 38 28 76 6 4 77 0 0 0 0 0 0 0 0 0 0 0 0 4 32 31 1 9 125 2 43 6 3 1 65 2 44 0 0 0 0 0 0 0 3 118 113 7 97 150 174 0 0 0 0 0 0 0 0 0 0 0 0 0 0 64 16 1 13 14 10 82 5 20 13 14 1 10 38 0 0 0 0 0 0 0 4 32 31 1 9 65 2 49 6 3 1 8 57 2 50 0 0 0 0 0 0 3 55 91 28 76 10 38 6 4 28 0 0 0 0 0 0 0 0 0 0 0 11 30 1 12 92 15 25 79 56 5 3 1 21 2 47 0 0 0 0 0 0 27 143 7 151 97 153 0 0 0 0 0 0 0 0 0 0 0 0 0 0 0 62 1 9 63 2 50 5 3 1 68 2 54 0 0 0 0 0 0 0 0 0 35 34 1 9 57 2 54 5 3 1 9 21 2 41 0 0 0 0 0 0 0 20 16 17 1 13 7 88 5 20 13 17 1 10 38 0 0 0 0 0 0 0 36 1 12 18 2 41 6 3 1 12 63 2 50 0 0 0 0 0 0 0 0 11 30 1 12 19 15 42 5 3 1 57 2 47 0 0 0 0 0 0 0 0 212 99 124 278 0 0 0 0 0 0 0 0 0 0 0 0 0 0 0 0 0 7 87 1 20 16 10 23 14 5 7 89 1 64 23 14 0 0 0 0 0 0 3 94 4 70 4 78 6 4 73 0 0 0 0 0 0 0 0 0 0 0 0 135 4 74 4 73 6 4 28 0 0 0 0 0 0 0 0 0 0 0 0 0 11 30 1 9 19 2 50 5 3 1 21 2 49 0 0 0 0 0 0 0 0 27 94 4 28 4 77 6 28 76 0 0 0 0 0 0 0 0 0 0 0 0 29 1 9 26 63 15 42 6 3 1 9 65 2 43 0 0 0 0 0 0 0 7 90 1 20 16 17 5 10 85 1 39 17 0 0 0 0 0 0 0 0 0 36 1 9 125 2 50 5 3 1 60 2 51 0 0 0 0 0 0 0 0 0 7 90 1 64 16 17 13 5 7 89 1 20 13 17 0 0 0 0 0 0 0 7 33 1 104 2 24 6 3 1 9 59 2 44 0 0 0 0 0 0 0 0 27 55 7 288 153 193 0 0 0 0 0 0 0 0 0 0 0 0 0 0 0 11 30 1 9 21 15 42 6 3 1 68 2 50 0 0 0 0 0 0 0 0 20 16 17 1 10 38 5 61 17 1 7 80 0 0 0 0 0 0 0 0 0 11 30 1 104 2 50 6 3 95 9 2 56 0 0 0 0 0 0 0 0 0 7 62 1 10 81 2 49 6 3 1 9 65 2 56 0 0 0 0 0 0 0 3 55 4 70 6 4 75 0 0 0 0 0 0 0 0 0 0 0 0 0 0 27 113 120 148 97 150 0 0 0 0 0 0 0 0 0 0 0 0 0 0 0 106 130 28 76 4 74 6 4 73 0 0 0 0 0 0 0 0 0 0 0 0 20 16 10 23 14 1 10 85 5 61 23 14 1 7 89 0 0 0 0 0 0 4 32 31 1 9 19 15 25 22 47 5 3 1 8 67 2 50 0 0 0 0 27 55 4 77 4 74 6 4 78 0 0 0 0 0 0 0 0 0 0 0 0 29 1 69 21 2 41 6 3 1 8 10 81 2 53 0 0 0 0 0 0 0 116 100 4 74 4 72 6 4 77 0 0 0 0 0 0 0 0 0 0 0 0 29 1 9 66 15 111 22 11 24 5 9 22 102 2 52 0 0 0 0 0 0 129 96 10 23 14 1 7 80 5 61 23 14 1 7 88 0 0 0 0 0 0 29 1 12 66 15 25 22 51 5 3 1 9 18 2 48 0 0 0 0 0 0 146 7 201 1 39 109 10 23 156 0 0 0 0 0 0 0 0 0 0 0 0 4 32 31 1 9 19 2 41 6 3 1 8 59 26 11 24 0 0 0 0 0 27 55 4 74 4 70 6 4 28 0 0 0 0 0 0 0 0 0 0 0 0 29 1 8 112 15 25 22 51 5 3 1 66 2 50 0 0 0 0 0 0 0 3 160 171 1 198 22 164 185 187 0 0 0 0 0 0 0 0 0 0 0 0 27 55 4 77 78 6 28 0 0 0 0 0 0 0 0 0 0 0 0 0 0 3 100 4 75 28 76 6 4 74 0 0 0 0 0 0 0 0 0 0 0 0 11 30 1 9 59 37 11 44 5 3 1 8 18 2 52 0 0 0 0 0 0 106 130 28 76 4 73 6 4 28 0 0 0 0 0 0 0 0 0 0 0 0 4 32 31 1 8 21 15 25 79 56 5 3 1 8 60 2 46 0 0 0 0 11 30 1 7 102 2 54 5 3 1 9 21 2 56 0 0 0 0 0 0 0 27 94 10 38 4 71 6 4 78 0 0 0 0 0 0 0 0 0 0 0 0 116 100 38 4 71 6 4 78 0 0 0 0 0 0 0 0 0 0 0 0 0 20 16 1 13 14 7 87 5 40 13 14 1 10 38 0 0 0 0 0 0 0 36 1 8 63 37 11 46 5 3 1 21 2 53 0 0 0 0 0 0 0 0 84 1 20 16 10 23 14 5 7 83 1 64 23 14 0 0 0 0 0 0 0 7 90 1 61 16 13 14 5 7 83 1 64 13 14 0 0 0 0 0 0 0 29 1 68 2 52 6 3 1 8 19 2 41 0 0 0 0 0 0 0 0 0 27 55 4 70 4 74 6 4 77 0 0 0 0 0 0 0 0 0 0 0 0 11 30 1 18 2 52 5 3 1 12 57 2 43 0 0 0 0 0 0 0 0 29 1 9 19 2 52 6 3 1 9 57 2 49 0 0 0 0 0 0 0 0 36 105 103 9 19 15 25 79 56 5 3 1 58 69 2 44 0 0 0 0 0 20 16 10 23 14 1 7 86 5 39 23 14 1 7 87 0 0 0 0 0 0 135 4 73 4 28 76 6 4 74 0 0 0 0 0 0 0 0 0 0 0 0 29 1 9 58 2 53 5 3 1 9 21 2 48 0 0 0 0 0 0 0 0 35 34 1 8 21 2 49 6 3 1 59 2 43 0 0 0 0 0 0 0 0 29 1 8 63 2 49 5 3 1 12 66 2 53 0 0 0 0 0 0 0 0 36 1 63 2 52 5 3 1 8 21 2 53 0 0 0 0 0 0 0 0 0 29 1 68 15 25 22 51 5 3 1 8 65 26 11 24 0 0 0 0 0 0 7 80 1 64 16 17 5 10 38 1 61 17 0 0 0 0 0 0 0 0 0 7 33 1 12 59 2 43 5 3 1 12 68 26 11 24 0 0 0 0 0 0 116 207 22 136 7 36 2 46 0 0 0 0 0 0 0 0 0 0 0 0 0 64 16 17 1 10 38 5 20 17 1 7 88 0 0 0 0 0 0 0 0 0 3 55 115 248 110 176 0 0 0 0 0 0 0 0 0 0 0 0 0 0 0 35 34 1 9 117 15 42 6 3 1 21 2 48 0 0 0 0 0 0 0 0 35 34 1 19 2 54 5 3 1 9 59 2 41 0 0 0 0 0 0 0 0 27 94 4 75 6 4 78 0 0 0 0 0 0 0 0 0 0 0 0 0 0 3 94 121 147 97 153 0 0 0 0 0 0 0 0 0 0 0 0 0 0 0 36 1 8 18 2 54 6 3 1 18 15 42 0 0 0 0 0 0 0 0 0 29 1 9 138 2 50 5 9 26 63 26 11 24 0 0 0 0 0 0 0 0 99 131 233 2 36 11 24 142 0 0 0 0 0 0 0 0 0 0 0 0 0 11 30 1 8 59 2 50 6 3 1 112 2 45 0 0 0 0 0 0 0 0 101 1 9 65 2 41 5 3 1 8 67 26 11 24 0 0 0 0 0 0 0 35 34 105 103 9 19 15 111 22 11 24 6 3 1 60 2 43 0 0 0 0 29 1 9 18 26 98 6 3 1 12 19 2 46 0 0 0 0 0 0 0 0 61 16 17 13 1 7 83 5 40 13 140 1 7 89 0 0 0 0 0 0 0 3 100 4 74 4 78 6 10 38 0 0 0 0 0 0 0 0 0 0 0 0 4 32 31 1 12 67 37 11 46 6 3 1 8 18 26 11 24 0 0 0 0 62 1 8 92 2 49 6 3 1 66 15 42 0 0 0 0 0 0 0 0 0 27 55 4 78 4 28 6 4 70 0 0 0 0 0 0 0 0 0 0 0 0 135 4 71 6 4 77 0 0 0 0 0 0 0 0 0 0 0 0 0 0 0 7 33 1 12 63 15 111 22 11 24 5 3 95 15 42 0 0 0 0 0 0 7 33 1 8 10 81 2 48 6 3 1 8 63 2 41 0 0 0 0 0 0 29 1 9 22 102 15 25 22 47 5 3 1 58 69 2 50 0 0 0 0 0 20 16 1 13 14 10 82 5 64 13 14 1 7 83 0 0 0 0 0 0 0 11 30 1 12 68 2 24 5 3 1 8 18 2 45 0 0 0 0 0 0 0 129 96 13 14 1 7 83 5 39 13 14 1 84 0 0 0 0 0 0 0 0 135 10 38 4 77 6 4 70 0 0 0 0 0 0 0 0 0 0 0 0 0 3 55 4 28 4 73 6 4 71 0 0 0 0 0 0 0 0 0 0 0 0 35 34 1 8 21 2 48 5 3 1 19 2 56 0 0 0 0 0 0 0 0 11 30 1 12 68 15 25 79 56 5 9 22 102 2 48 0 0 0 0 0 0 99 124 10 38 6 4 75 0 0 0 0 0 0 0 0 0 0 0 0 0 0 29 1 9 58 37 11 44 6 3 95 2 53 0 0 0 0 0 0 0 0 0 29 1 8 19 2 41 6 3 157 26 11 24 0 0 0 0 0 0 0 0 0 7 62 1 9 10 81 2 49 5 3 1 8 18 2 51 0 0 0 0 0 0 36 1 58 26 98 5 3 1 8 21 2 45 0 0 0 0 0 0 0 0 0 40 16 10 23 14 1 84 5 20 23 14 1 10 38 0 0 0 0 0 0 0 27 143 146 165 97 134 0 0 0 0 0 0 0 0 0 0 0 0 0 0 0 7 86 1 61 16 13 14 5 7 88 1 64 13 14 0 0 0 0 0 0 0 11 30 1 8 21 37 11 46 5 3 1 12 92 2 48 0 0 0 0 0 0 115 216 122 20 109 17 13 0 0 0 0 0 0 0 0 0 0 0 0 0 0 107 126 4 77 4 75 6 4 72 0 0 0 0 0 0 0 0 0 0 0 0 107 126 4 78 4 74 6 4 70 0 0 0 0 0 0 0 0 0 0 0 0 3 143 10 248 110 134 0 0 0 0 0 0 0 0 0 0 0 0 0 0 0 11 30 1 10 81 2 45 5 3 1 8 67 2 53 0 0 0 0 0 0 0 35 34 1 9 65 2 52 5 3 1 9 19 2 48 0 0 0 0 0 0 0 27 1 10 344 22 7 224 97 134 0 0 0 0 0 0 0 0 0 0 0 0 62 1 9 19 2 41 5 3 1 12 65 2 56 0 0 0 0 0 0 0 0 10 82 1 64 16 17 13 5 7 88 1 20 13 17 0 0 0 0 0 0 0 35 34 1 10 81 37 11 46 5 3 1 8 63 2 49 0 0 0 0 0 0 27 178 22 167 181 2 62 2 50 0 0 0 0 0 0 0 0 0 0 0 0 4 32 31 1 21 15 25 22 53 6 3 1 12 21 2 41 0 0 0 0 0 27 55 4 71 4 28 6 4 28 76 0 0 0 0 0 0 0 0 0 0 0 3 55 91 10 38 4 71 6 4 28 0 0 0 0 0 0 0 0 0 0 0 20 16 17 1 10 85 5 40 93 1 7 83 0 0 0 0 0 0 0 0 0 7 33 1 9 58 2 49 6 3 1 12 19 2 41 0 0 0 0 0 0 0 263 179 209 141 175 0 0 0 0 0 0 0 0 0 0 0 0 0 0 0 0 4 32 31 1 7 102 2 45 5 3 105 103 9 19 2 52 0 0 0 0 0 7 33 1 12 18 2 43 5 3 95 9 2 49 0 0 0 0 0 0 0 0 62 1 69 21 15 42 5 9 108 177 2 54 0 0 0 0 0 0 0 0 0 36 1 9 117 2 43 6 3 1 8 65 2 44 0 0 0 0 0 0 0 0 4 32 31 1 8 21 2 52 6 3 1 8 57 26 11 24 0 0 0 0 0 64 16 17 1 84 5 20 93 1 7 88 0 0 0 0 0 0 0 0 0 0 20 16 17 13 1 7 80 5 39 17 13 1 7 90 0 0 0 0 0 0 0 99 124 4 72 4 28 6 4 159 0 0 0 0 0 0 0 0 0 0 0 0 35 34 1 21 2 52 5 3 1 8 21 2 54 0 0 0 0 0 0 0 0 7 36 1 8 306 2 50 6 3 1 8 112 2 52 0 0 0 0 0 0 0 4 32 31 1 21 15 25 22 45 5 3 1 8 21 15 42 0 0 0 0 0 40 16 1 13 14 7 80 5 61 13 14 1 7 86 0 0 0 0 0 0 0 35 34 1 12 60 2 51 6 3 1 12 65 2 43 0 0 0 0 0 0 0 7 33 1 9 18 15 25 22 47 5 3 1 8 66 2 51 0 0 0 0 0 35 34 1 12 63 15 111 22 11 24 5 3 1 8 66 2 56 0 0 0 0 33 1 57 2 43 6 3 1 12 19 2 50 0 0 0 0 0 0 0 0 0 29 1 12 59 2 52 6 3 1 9 65 2 45 0 0 0 0 0 0 0 0 20 16 10 23 14 1 10 38 5 61 23 14 1 10 82 0 0 0 0 0 0 135 4 71 4 72 6 10 38 0 0 0 0 0 0 0 0 0 0 0 0 0 39 16 17 1 7 80 5 20 17 1 10 85 0 0 0 0 0 0 0 0 0 7 33 1 9 19 2 48 6 3 1 57 2 50 0 0 0 0 0 0 0 0 11 30 1 8 18 15 25 22 47 6 3 95 9 2 41 0 0 0 0 0 0 7 89 1 20 16 13 14 0 0 0 0 0 0 0 0 0 0 0 0 0 0 62 1 12 63 2 50 5 3 1 12 19 2 48 0 0 0 0 0 0 0 0 35 34 1 63 37 11 44 6 3 1 9 68 2 50 0 0 0 0 0 0 0 64 16 17 1 13 84 5 39 17 13 1 7 90 0 0 0 0 0 0 0 0 29 1 9 125 2 48 6 3 1 67 26 11 24 0 0 0 0 0 0 0 0 29 1 8 18 2 41 6 3 1 9 68 2 43 0 0 0 0 0 0 0 0 27 145 120 148 97 150 0 0 0 0 0 0 0 0 0 0 0 0 0 0 0 146 11 219 122 20 109 10 23 14 0 0 0 0 0 0 0 0 0 0 0 0 99 124 4 71 4 73 6 4 74 0 0 0 0 0 0 0 0 0 0 0 0 35 34 1 7 102 2 41 6 3 1 8 137 2 52 0 0 0 0 0 0 0 29 1 8 112 37 11 46 6 3 1 9 21 2 48 0 0 0 0 0 0 0 3 94 4 71 10 38 6 4 74 0 0 0 0 0 0 0 0 0 0 0 0 106 130 4 73 4 72 6 4 28 76 0 0 0 0 0 0 0 0 0 0 0 27 55 28 76 4 28 6 4 77 0 0 0 0 0 0 0 0 0 0 0 0 4 32 31 1 12 18 2 52 5 3 1 12 21 2 53 0 0 0 0 0 0 33 1 21 2 54 6 3 1 9 57 2 43 0 0 0 0 0 0 0 0 0 27 158 91 144 183 110 172 0 0 0 0 0 0 0 0 0 0 0 0 0 0 3 55 4 70 4 75 6 4 28 0 0 0 0 0 0 0 0 0 0 0 0 3 94 4 70 4 28 6 4 74 0 0 0 0 0 0 0 0 0 0 0 0 29 1 9 66 2 48 5 3 1 9 125 2 44 0 0 0 0 0 0 0 0 11 30 1 12 60 2 51 6 3 1 8 18 26 11 24 0 0 0 0 0 0 3 118 113 144 200 110 133 0 0 0 0 0 0 0 0 0 0 0 0 0 0 99 124 4 78 4 77 6 4 74 0 0 0 0 0 0 0 0 0 0 0 0 40 16 17 13 1 7 83 5 61 13 17 1 7 80 0 0 0 0 0 0 0 62 1 8 104 26 98 5 3 1 60 2 45 0 0 0 0 0 0 0 0 0 20 16 17 1 7 88 5 40 93 1 7 87 0 0 0 0 0 0 0 0 0 27 158 91 7 151 97 153 0 0 0 0 0 0 0 0 0 0 0 0 0 0 36 1 8 66 2 50 6 3 1 12 19 15 42 0 0 0 0 0 0 0 0 7 33 1 10 81 2 43 5 3 1 59 2 47 0 0 0 0 0 0 0 0 39 16 17 1 7 83 5 20 93 1 7 88 0 0 0 0 0 0 0 0 0 4 32 31 1 9 60 15 25 22 51 5 3 1 9 21 2 45 0 0 0 0 101 1 8 18 15 25 22 47 5 3 95 69 2 52 0 0 0 0 0 0 0 7 33 1 8 63 2 48 5 3 1 8 57 2 52 0 0 0 0 0 0 0 107 132 4 71 6 4 28 0 0 0 0 0 0 0 0 0 0 0 0 0 0 11 30 1 9 22 102 2 45 6 3 1 8 18 15 42 0 0 0 0 0 0 27 55 121 148 97 150 0 0 0 0 0 0 0 0 0 0 0 0 0 0 0 4 32 31 1 12 66 2 53 6 3 1 9 58 2 41 0 0 0 0 0 0 10 85 1 64 16 17 13 5 7 89 1 40 17 13 0 0 0 0 0 0 0 35 34 1 9 65 2 48 6 3 1 8 66 15 42 0 0 0 0 0 0 0 7 33 1 9 19 2 45 5 9 108 177 2 43 0 0 0 0 0 0 0 0 35 34 1 18 2 41 6 3 1 8 59 2 54 0 0 0 0 0 0 0 0 27 55 120 97 155 174 0 0 0 0 0 0 0 0 0 0 0 0 0 0 0 4 32 31 1 12 92 37 11 24 5 3 1 9 19 2 53 0 0 0 0 0 4 32 31 1 8 19 37 11 44 6 3 1 8 65 2 49 0 0 0 0 0 29 1 12 92 2 48 6 3 1 21 26 11 24 0 0 0 0 0 0 0 0 4 32 31 1 12 18 2 41 6 3 1 8 66 2 24 0 0 0 0 0 0 61 16 17 1 10 38 5 40 93 1 10 82 0 0 0 0 0 0 0 0 0 4 32 31 1 9 104 26 98 6 3 1 8 57 2 50 0 0 0 0 0 0 263 179 209 141 4 13 175 0 0 0 0 0 0 0 0 0 0 0 0 0 0 7 33 1 8 58 2 41 5 3 1 69 21 2 54 0 0 0 0 0 0 0 36 1 8 137 2 54 5 3 1 12 59 2 49 0 0 0 0 0 0 0 0 106 128 91 4 28 4 78 6 4 77 0 0 0 0 0 0 0 0 0 0 0 40 16 10 23 14 1 10 38 5 39 23 14 1 7 83 0 0 0 0 0 0 62 1 8 67 2 49 5 9 59 2 54 0 0 0 0 0 0 0 0 0 0 7 33 1 8 92 2 50 6 3 1 8 57 2 46 0 0 0 0 0 0 0 4 32 31 1 9 21 15 25 79 54 5 3 1 67 2 53 0 0 0 0 0 29 1 8 18 15 25 79 56 5 3 1 12 19 2 53 0 0 0 0 0 0 7 36 1 8 92 2 54 6 3 1 9 57 2 41 0 0 0 0 0 0 0 11 30 1 12 18 2 24 5 3 1 9 57 2 46 0 0 0 0 0 0 0 11 30 1 19 2 54 5 3 1 12 18 2 56 0 0 0 0 0 0 0 0 106 130 4 73 4 28 6 4 77 0 0 0 0 0 0 0 0 0 0 0 0 235 1 115 290 180 10 277 0 0 0 0 0 0 0 0 0 0 0 0 0 0 35 34 1 10 81 69 26 98 6 3 1 8 59 2 49 0 0 0 0 0 0 36 1 9 10 81 37 11 24 6 3 1 12 18 2 52 0 0 0 0 0 0 61 16 1 13 14 10 85 5 27 1 13 14 7 80 0 0 0 0 0 0 0 62 1 9 7 102 2 52 6 3 1 9 68 2 47 0 0 0 0 0 0 0 101 1 9 195 37 11 44 6 3 1 8 18 26 11 24 0 0 0 0 0 0 40 13 14 1 10 16 22 38 5 39 13 14 1 7 80 0 0 0 0 0 0 29 1 12 67 15 111 22 11 24 6 3 1 21 2 54 0 0 0 0 0 0 35 34 1 8 67 15 42 5 3 1 9 68 2 56 0 0 0 0 0 0 0 20 16 1 13 14 7 80 5 39 13 14 1 7 87 0 0 0 0 0 0 0 3 55 4 70 4 28 76 6 4 78 0 0 0 0 0 0 0 0 0 0 0 7 33 1 9 104 26 98 6 3 1 67 2 41 0 0 0 0 0 0 0 0 27 55 121 151 97 153 0 0 0 0 0 0 0 0 0 0 0 0 0 0 0 7 33 1 12 68 15 42 6 3 1 8 57 2 54 0 0 0 0 0 0 0 62 1 8 60 2 54 6 3 1 8 137 2 51 0 0 0 0 0 0 0 0 7 33 1 9 104 15 42 6 3 1 9 65 2 46 0 0 0 0 0 0 0 4 32 31 1 10 81 69 2 53 5 3 1 9 18 15 42 0 0 0 0 0 10 38 1 64 16 17 13 5 7 80 1 61 13 17 0 0 0 0 0 0 0 106 130 4 73 4 72 6 4 70 0 0 0 0 0 0 0 0 0 0 0 0 129 96 13 14 1 7 86 5 20 13 14 1 84 0 0 0 0 0 0 0 0 4 32 31 1 8 59 2 49 5 3 1 8 65 26 11 24 0 0 0 0 0 106 130 4 28 4 71 6 10 38 0 0 0 0 0 0 0 0 0 0 0 0 84 1 13 39 16 17 5 7 88 1 20 13 17 0 0 0 0 0 0 0 0 27 204 123 15 35 34 0 0 0 0 0 0 0 0 0 0 0 0 0 0 0 27 118 149 121 97 166 154 0 0 0 0 0 0 0 0 0 0 0 0 0 0 7 62 1 10 81 69 2 45 6 3 1 12 92 2 56 0 0 0 0 0 0 20 16 1 13 14 10 85 5 40 13 14 1 7 88 0 0 0 0 0 0 0 7 201 1 20 109 17 13 0 0 0 0 0 0 0 0 0 0 0 0 0 0 29 1 21 15 25 22 47 6 3 103 19 15 42 0 0 0 0 0 0 0 0 35 34 1 60 15 25 22 45 5 3 1 65 26 11 24 0 0 0 0 0 0 11 30 1 63 15 111 22 11 24 6 3 1 8 67 2 54 0 0 0 0 0 3 55 91 4 73 4 28 76 6 72 0 0 0 0 0 0 0 0 0 0 0 40 16 10 23 14 1 7 86 5 20 23 14 1 7 87 0 0 0 0 0 0 29 1 8 18 15 42 6 3 1 8 21 2 43 0 0 0 0 0 0 0 0 10 85 1 20 16 17 13 5 10 82 1 64 13 17 0 0 0 0 0 0 0 4 32 31 1 8 65 2 41 6 3 103 19 2 49 0 0 0 0 0 0 0 11 30 1 9 60 26 98 5 3 1 12 63 2 50 0 0 0 0 0 0 0 61 13 14 16 1 10 82 5 39 13 14 1 7 80 0 0 0 0 0 0 0 106 128 91 4 78 4 28 76 6 4 71 0 0 0 0 0 0 0 0 0 0 7 90 1 20 16 13 14 5 10 38 253 1 13 14 0 0 0 0 0 0 0 36 1 9 138 2 51 6 3 1 12 63 2 49 0 0 0 0 0 0 0 0 64 16 17 1 13 7 86 0 0 0 0 0 0 0 0 0 0 0 0 0 0 7 86 1 20 16 17 13 5 7 88 1 64 13 140 0 0 0 0 0 0 0 4 32 31 1 58 8 15 25 22 45 6 3 1 67 2 54 0 0 0 0 0 29 1 8 21 15 25 22 51 6 3 1 60 2 41 0 0 0 0 0 0 0 35 34 1 12 63 2 51 6 3 103 19 2 44 0 0 0 0 0 0 0 0 29 1 9 67 15 25 79 56 5 3 1 9 125 2 52 0 0 0 0 0 0 101 1 8 67 2 53 5 3 1 19 2 51 0 0 0 0 0 0 0 0 0 20 16 17 13 1 7 80 5 39 17 1 10 13 38 0 0 0 0 0 0 0 61 16 17 1 7 83 5 20 93 1 7 88 0 0 0 0 0 0 0 0 0 35 34 1 8 63 37 11 46 5 3 1 12 60 2 49 0 0 0 0 0 0 35 34 1 9 58 26 98 5 3 1 9 18 2 53 0 0 0 0 0 0 0 3 113 121 168 97 133 0 0 0 0 0 0 0 0 0 0 0 0 0 0 0 11 30 1 8 59 2 49 5 3 1 21 2 44 0 0 0 0 0 0 0 0 3 100 4 75 4 72 4 28 6 4 0 0 0 0 0 0 0 0 0 0 0 7 87 1 64 16 13 14 5 7 90 1 20 13 14 0 0 0 0 0 0 0 7 80 1 40 16 10 23 14 5 7 90 1 64 23 14 0 0 0 0 0 0 36 1 7 102 15 42 6 3 1 12 19 2 53 0 0 0 0 0 0 0 0 29 1 12 18 2 45 5 3 1 12 60 2 48 0 0 0 0 0 0 0 0 29 1 12 63 37 11 44 5 3 1 9 18 2 52 0 0 0 0 0 0 0 29 1 60 15 111 285 42 6 3 1 8 21 2 45 0 0 0 0 0 0 0 62 1 8 19 15 25 79 56 6 3 1 8 92 15 42 0 0 0 0 0 0 116 160 171 1 196 22 164 161 186 6 189 0 0 0 0 0 0 0 0 0 0 4 32 31 1 8 66 2 41 5 3 1 18 2 48 0 0 0 0 0 0 0 36 1 8 67 2 41 5 3 1 21 2 53 0 0 0 0 0 0 0 0 0 27 55 4 71 4 74 6 4 77 0 0 0 0 0 0 0 0 0 0 0 0 36 1 9 22 102 37 11 46 6 3 1 68 2 53 0 0 0 0 0 0 0 36 1 12 67 2 54 5 3 1 68 2 41 0 0 0 0 0 0 0 0 0 3 55 146 11 193 150 165 0 0 0 0 0 0 0 0 0 0 0 0 0 0 3 55 91 28 76 4 77 6 4 75 0 0 0 0 0 0 0 0 0 0 0 7 90 1 61 16 17 13 5 7 89 1 20 13 17 0 0 0 0 0 0 0 29 1 8 19 2 54 5 3 1 57 2 49 0 0 0 0 0 0 0 0 0 7 33 1 8 18 2 48 5 3 1 9 57 2 47 0 0 0 0 0 0 0 4 32 31 1 12 18 15 111 22 11 24 6 3 1 58 8 2 45 0 0 0 170 141 131 108 258 4 23 206 0 0 0 0 0 0 0 0 0 0 0 0 0 107 126 4 28 4 74 6 4 72 0 0 0 0 0 0 0 0 0 0 0 0 107 132 4 28 4 77 6 4 74 0 0 0 0 0 0 0 0 0 0 0 0 39 16 10 23 14 1 7 83 5 20 23 14 1 10 38 0 0 0 0 0 0 36 1 60 15 25 79 56 6 3 1 9 21 2 53 0 0 0 0 0 0 0 3 113 121 151 97 133 0 0 0 0 0 0 0 0 0 0 0 0 0 0 0 4 32 31 1 10 81 69 15 25 22 45 5 3 1 12 60 2 43 0 0 0 29 1 9 104 37 11 44 6 3 95 69 2 51 0 0 0 0 0 0 0 0 29 1 58 69 15 25 22 51 5 3 1 9 117 15 42 0 0 0 0 0 0 4 32 31 1 9 18 15 25 22 47 5 3 1 8 65 2 44 0 0 0 0 62 1 8 92 2 24 6 3 1 8 65 2 49 0 0 0 0 0 0 0 0 101 1 19 37 11 44 5 3 1 65 2 51 0 0 0 0 0 0 0 0 0 20 109 10 23 14 122 146 7 201 0 0 0 0 0 0 0 0 0 0 0 0 7 86 1 64 16 10 23 119 5 10 82 1 61 23 14 0 0 0 0 0 0 11 30 1 9 67 15 25 22 47 5 3 1 21 2 50 0 0 0 0 0 0 7 33 1 8 60 15 25 22 45 5 3 1 9 57 2 54 0 0 0 0 0 7 87 1 10 16 10 23 119 5 10 85 27 1 10 23 14 0 0 0 0 0 39 16 17 1 13 7 89 5 64 13 17 1 10 38 0 0 0 0 0 0 0 3 55 10 38 4 73 6 4 28 0 0 0 0 0 0 0 0 0 0 0 0 4 32 31 1 9 66 37 11 44 6 3 1 8 65 2 41 0 0 0 0 0 35 34 1 10 81 2 51 5 3 1 67 2 45 0 0 0 0 0 0 0 0 99 124 4 71 4 28 6 4 74 0 0 0 0 0 0 0 0 0 0 0 0 7 89 1 20 16 13 14 5 7 86 27 1 13 14 0 0 0 0 0 0 0 62 1 57 2 48 6 3 1 8 67 2 53 0 0 0 0 0 0 0 0 0 7 33 1 9 65 2 41 6 3 1 8 18 2 44 0 0 0 0 0 0 0 62 105 103 9 19 2 53 5 3 1 8 18 2 48 0 0 0 0 0 0 0 99 124 4 70 4 74 6 4 71 0 0 0 0 0 0 0 0 0 0 0 0 40 109 10 23 14 122 121 201 0 0 0 0 0 0 0 0 0 0 0 0 0 7 36 1 12 59 15 25 22 47 5 3 1 12 57 2 24 0 0 0 0 0 27 55 4 70 10 38 6 4 73 0 0 0 0 0 0 0 0 0 0 0 0 35 34 1 12 18 2 43 5 3 1 63 2 48 0 0 0 0 0 0 0 0 4 32 31 1 12 92 37 11 46 5 3 1 12 68 2 49 0 0 0 0 0 106 130 4 73 6 4 77 0 0 0 0 0 0 0 0 0 0 0 0 0 0 62 1 12 19 2 45 6 3 1 18 2 49 0 0 0 0 0 0 0 0 0 3 55 4 73 4 71 6 4 77 0 0 0 0 0 0 0 0 0 0 0 0 3 100 4 75 28 76 6 10 38 0 0 0 0 0 0 0 0 0 0 0 0 101 1 60 15 25 22 47 6 3 1 9 18 2 52 0 0 0 0 0 0 0 135 4 74 4 78 6 4 28 0 0 0 0 0 0 0 0 0 0 0 0 0 33 1 59 15 25 22 47 6 3 1 63 26 11 24 0 0 0 0 0 0 0 29 1 65 37 11 44 5 3 1 9 57 15 42 0 0 0 0 0 0 0 0 33 105 103 9 19 37 11 44 6 3 1 65 2 49 0 0 0 0 0 0 0 29 1 9 65 37 11 46 5 3 1 12 18 2 48 0 0 0 0 0 0 0 107 208 120 254 2 36 2 51 0 0 0 0 0 0 0 0 0 0 0 0 0 7 86 1 20 16 17 5 7 80 1 39 17 0 0 0 0 0 0 0 0 0 152 96 10 23 14 1 84 5 39 23 14 1 7 89 0 0 0 0 0 0 0 152 96 10 23 14 1 7 86 5 39 23 14 1 7 89 0 0 0 0 0 0 39 16 1 13 14 7 80 5 64 13 14 1 7 88 0 0 0 0 0 0 0 11 30 1 8 18 2 43 6 3 1 8 10 81 2 52 0 0 0 0 0 0 10 38 1 20 13 14 108 96 5 7 80 1 40 13 14 0 0 0 0 0 0 40 16 10 23 14 1 7 86 0 0 0 0 0 0 0 0 0 0 0 0 0 107 132 4 78 4 71 6 4 28 0 0 0 0 0 0 0 0 0 0 0 0 7 36 1 8 57 15 25 79 56 5 3 1 58 69 2 43 0 0 0 0 0 27 118 113 121 168 97 134 0 0 0 0 0 0 0 0 0 0 0 0 0 0 27 118 113 121 168 97 162 0 0 0 0 0 0 0 0 0 0 0 0 0 0 62 1 12 57 2 54 6 3 1 12 60 2 48 0 0 0 0 0 0 0 0 11 30 1 69 65 15 25 22 47 6 3 1 12 21 15 42 0 0 0 0 0 29 1 8 19 15 42 6 3 1 12 18 2 45 0 0 0 0 0 0 0 0 3 55 91 4 75 4 78 6 28 0 0 0 0 0 0 0 0 0 0 0 0 7 33 1 8 58 37 11 44 6 3 1 12 65 2 56 0 0 0 0 0 0 11 30 1 249 15 25 79 56 5 3 1 12 21 26 11 24 0 0 0 0 0 35 34 1 12 19 15 42 5 3 1 9 18 2 45 0 0 0 0 0 0 0 7 88 1 61 16 13 14 5 7 86 27 1 13 14 0 0 0 0 0 0 0 29 1 66 2 49 5 3 1 12 65 2 44 0 0 0 0 0 0 0 0 0 99 127 4 73 4 74 6 4 28 76 0 0 0 0 0 0 0 0 0 0 0 33 1 58 37 11 44 5 3 1 68 2 53 0 0 0 0 0 0 0 0 0 27 158 91 7 151 97 153 0 0 0 0 0 0 0 0 0 0 0 0 0 0 7 90 1 20 16 17 5 10 82 1 39 17 0 0 0 0 0 0 0 0 0 205 229 99 10 277 0 0 0 0 0 0 0 0 0 0 0 0 0 0 0 0 20 16 17 1 7 89 5 20 17 1 10 85 0 0 0 0 0 0 0 0 0 7 33 1 12 63 15 42 6 3 1 8 60 2 54 0 0 0 0 0 0 0 62 1 9 19 2 43 5 3 1 60 2 41 0 0 0 0 0 0 0 0 0 10 85 1 39 16 17 13 5 7 87 1 7 13 140 0 0 0 0 0 0 0 7 33 1 12 67 2 43 5 3 1 8 59 2 51 0 0 0 0 0 0 0 7 80 1 39 16 17 5 7 83 1 20 93 0 0 0 0 0 0 0 0 0 10 85 1 61 16 10 23 14 5 10 82 1 7 23 242 0 0 0 0 0 0 7 90 1 13 39 16 17 5 10 82 1 20 13 17 0 0 0 0 0 0 0 29 1 19 2 49 5 3 1 18 2 46 0 0 0 0 0 0 0 0 0 0 20 16 17 13 1 7 89 5 40 13 17 1 7 83 0 0 0 0 0 0 0 40 16 10 23 14 1 7 88 5 39 23 14 1 7 80 0 0 0 0 0 0 29 1 12 19 2 48 6 3 1 8 139 2 50 0 0 0 0 0 0 0 0 84 1 13 39 16 17 5 7 87 1 7 13 140 0 0 0 0 0 0 0 0 27 55 4 28 6 4 159 0 0 0 0 0 0 0 0 0 0 0 0 0 0 29 1 8 66 15 25 22 47 5 3 1 67 2 46 0 0 0 0 0 0 0 3 143 120 97 134 165 0 0 0 0 0 0 0 0 0 0 0 0 0 0 0 36 1 8 63 37 11 24 6 3 1 12 65 2 53 0 0 0 0 0 0 0 116 100 91 4 71 4 70 6 4 28 76 0 0 0 0 0 0 0 0 0 0 62 1 12 18 2 41 5 3 1 8 57 2 52 0 0 0 0 0 0 0 0 7 33 1 104 15 25 22 47 6 3 1 60 2 48 0 0 0 0 0 0 0 62 1 8 59 2 43 5 3 1 66 2 53 0 0 0 0 0 0 0 0 0 7 33 1 8 104 2 53 6 3 1 57 9 26 11 24 0 0 0 0 0 0 35 34 1 8 18 2 49 5 3 1 8 57 2 24 0 0 0 0 0 0 0 7 33 1 12 92 2 50 5 3 95 69 2 51 0 0 0 0 0 0 0 0 106 130 4 74 6 4 72 0 0 0 0 0 0 0 0 0 0 0 0 0 0 4 32 31 1 8 60 2 54 5 3 1 12 18 2 53 0 0 0 0 0 0 4 32 31 1 112 2 54 6 3 1 68 2 51 0 0 0 0 0 0 0 0 27 94 4 73 4 28 76 6 72 0 0 0 0 0 0 0 0 0 0 0 0 29 1 8 18 2 53 6 3 103 19 2 47 0 0 0 0 0 0 0 0 0 99 240 123 2 36 2 52 114 0 0 0 0 0 0 0 0 0 0 0 0 0 39 16 17 1 84 5 20 17 1 7 87 0 0 0 0 0 0 0 0 0 0 7 62 1 8 10 81 2 43 6 3 1 12 68 2 46 0 0 0 0 0 0 29 1 12 68 15 42 5 3 1 65 2 46 0 0 0 0 0 0 0 0 0 101 1 58 69 26 98 6 3 1 9 19 2 49 0 0 0 0 0 0 0 0 20 109 10 23 156 122 10 221 0 0 0 0 0 0 0 0 0 0 0 0 0 27 94 115 110 182 169 0 0 0 0 0 0 0 0 0 0 0 0 0 0 0 7 62 1 9 58 15 42 5 3 1 8 66 2 41 0 0 0 0 0 0 0 35 34 1 9 10 81 37 11 44 5 3 1 112 2 47 0 0 0 0 0 0 7 87 1 61 16 13 14 5 10 82 1 40 13 14 0 0 0 0 0 0 0 35 34 1 10 81 37 11 24 6 3 1 63 2 46 0 0 0 0 0 0 0 62 1 63 15 25 79 56 6 3 1 12 21 2 50 0 0 0 0 0 0 0 135 4 73 4 159 6 4 71 0 0 0 0 0 0 0 0 0 0 0 0 0 11 30 1 10 81 69 2 50 6 3 1 9 57 2 56 0 0 0 0 0 0 7 87 1 7 13 14 108 96 5 7 90 1 40 13 14 0 0 0 0 0 0 116 100 91 4 75 4 78 6 28 0 0 0 0 0 0 0 0 0 0 0 0 27 55 4 77 4 71 6 4 78 0 0 0 0 0 0 0 0 0 0 0 0 106 128 91 4 77 4 78 6 4 74 0 0 0 0 0 0 0 0 0 0 0 7 33 1 8 18 15 42 6 3 1 59 2 54 0 0 0 0 0 0 0 0 35 34 1 8 66 2 54 5 3 1 12 18 2 51 0 0 0 0 0 0 0 7 86 1 61 16 17 13 5 7 87 1 64 13 140 0 0 0 0 0 0 0 20 16 17 1 13 10 82 5 40 13 17 1 10 38 0 0 0 0 0 0 0 4 32 31 1 8 66 2 48 6 3 1 12 21 2 41 0 0 0 0 0 0 62 1 8 21 2 45 6 3 103 19 2 53 0 0 0 0 0 0 0 0 0 3 158 91 144 110 166 154 0 0 0 0 0 0 0 0 0 0 0 0 0 0 3 178 22 136 29 15 42 0 0 0 0 0 0 0 0 0 0 0 0 0 0 10 82 1 40 16 10 23 14 5 7 87 1 7 23 242 0 0 0 0 0 0 40 16 17 1 13 7 88 5 64 13 17 1 7 80 0 0 0 0 0 0 0 62 1 9 104 26 98 6 3 1 19 2 44 0 0 0 0 0 0 0 0 0 29 1 12 63 2 45 6 3 1 8 21 2 52 0 0 0 0 0 0 0 0 152 96 10 23 14 1 10 38 5 40 23 14 1 84 0 0 0 0 0 0 0 39 109 17 1 13 10 221 0 0 0 0 0 0 0 0 0 0 0 0 0 0 7 87 1 10 16 10 23 14 64 5 10 82 1 39 23 14 0 0 0 0 0 4 32 31 1 8 66 2 49 6 3 1 12 68 2 51 0 0 0 0 0 0 11 30 1 12 19 37 11 24 6 3 1 9 65 2 54 0 0 0 0 0 0 62 1 66 2 50 6 3 1 9 57 2 45 0 0 0 0 0 0 0 0 0 4 32 31 1 67 26 98 6 3 1 12 18 2 43 0 0 0 0 0 0 0 27 55 10 184 110 133 0 0 0 0 0 0 0 0 0 0 0 0 0 0 0 7 33 1 12 67 2 49 5 3 1 65 2 46 0 0 0 0 0 0 0 0 7 87 1 40 13 14 108 96 5 84 27 1 13 14 0 0 0 0 0 0 0 20 16 1 13 14 10 85 5 39 13 14 1 10 38 0 0 0 0 0 0 0 3 94 4 28 4 74 6 4 70 0 0 0 0 0 0 0 0 0 0 0 0 27 1 234 2 48 142 2 62 0 0 0 0 0 0 0 0 0 0 0 0 0 7 33 1 8 59 2 52 5 3 1 9 117 2 41 0 0 0 0 0 0 0 35 34 1 10 81 69 15 25 22 51 6 3 1 9 68 2 56 0 0 0 0 11 30 1 12 60 2 50 6 3 1 57 2 43 0 0 0 0 0 0 0 0 11 30 1 9 26 63 15 42 5 3 1 19 2 43 0 0 0 0 0 0 0 61 16 17 1 7 83 5 20 17 1 10 38 0 0 0 0 0 0 0 0 0 152 96 10 23 14 1 10 85 5 64 23 14 1 7 90 0 0 0 0 0 0 101 1 12 59 2 51 5 3 1 18 2 49 0 0 0 0 0 0 0 0 0 29 1 66 15 42 5 3 1 58 2 45 0 0 0 0 0 0 0 0 0 0 101 1 9 60 2 43 5 9 22 102 26 11 24 0 0 0 0 0 0 0 0 7 33 1 12 59 2 51 6 3 1 9 104 26 11 24 0 0 0 0 0 0 29 1 21 26 98 6 3 1 8 67 2 48 0 0 0 0 0 0 0 0 0 7 33 1 8 18 2 46 6 3 1 8 60 2 50 0 0 0 0 0 0 0 29 1 9 22 102 2 52 6 3 1 8 68 15 42 0 0 0 0 0 0 0 64 16 17 1 7 90 5 39 17 1 10 82 0 0 0 0 0 0 0 0 0 27 55 4 77 4 71 6 4 72 0 0 0 0 0 0 0 0 0 0 0 0 3 55 91 6 28 76 298 0 0 0 0 0 0 0 0 0 0 0 0 0 0 35 34 1 9 60 2 54 5 3 1 9 117 2 49 0 0 0 0 0 0 0 29 1 12 65 2 45 6 3 1 12 57 26 11 24 0 0 0 0 0 0 0 4 32 31 1 65 2 51 6 3 1 8 58 2 41 0 0 0 0 0 0 0 7 33 1 12 19 2 50 6 3 1 12 57 2 24 0 0 0 0 0 0 0 3 158 91 121 97 134 154 0 0 0 0 0 0 0 0 0 0 0 0 0 0 4 32 31 1 9 63 2 48 6 3 1 12 60 2 49 0 0 0 0 0 0 10 85 1 39 16 13 14 5 7 80 27 1 13 14 0 0 0 0 0 0 0 20 109 10 23 14 122 146 218 0 0 0 0 0 0 0 0 0 0 0 0 0 4 32 31 1 9 21 15 25 22 51 6 3 1 12 57 2 56 0 0 0 0 3 94 4 28 28 76 6 4 75 0 0 0 0 0 0 0 0 0 0 0 0 64 16 17 1 7 86 0 0 0 0 0 0 0 0 0 0 0 0 0 0 0 10 82 1 20 16 17 13 5 10 85 1 40 17 13 0 0 0 0 0 0 0 7 62 1 9 10 81 15 42 5 3 157 26 11 24 0 0 0 0 0 0 0 106 130 4 74 4 72 6 4 73 0 0 0 0 0 0 0 0 0 0 0 0 29 1 8 19 2 51 5 9 108 177 2 50 0 0 0 0 0 0 0 0 0 29 1 8 21 15 25 22 51 5 3 1 19 26 11 24 0 0 0 0 0 0 4 32 31 1 18 15 25 22 47 6 3 1 57 2 51 0 0 0 0 0 0 135 4 74 4 71 6 4 72 0 0 0 0 0 0 0 0 0 0 0 0 0 35 34 1 8 66 2 52 5 3 1 57 2 45 0 0 0 0 0 0 0 0 20 16 10 23 14 1 10 85 5 64 23 14 1 84 0 0 0 0 0 0 0 7 33 1 8 21 37 11 24 5 3 1 9 21 2 50 0 0 0 0 0 0 33 1 59 2 51 6 3 1 9 21 2 53 0 0 0 0 0 0 0 0 0 29 1 10 81 69 2 41 6 3 1 8 19 2 56 0 0 0 0 0 0 0 35 34 1 18 26 98 5 3 1 9 18 2 48 0 0 0 0 0 0 0 0 33 1 63 2 48 5 3 1 112 15 25 79 56 0 0 0 0 0 0 0 0 10 85 1 61 16 10 23 119 5 10 38 1 10 23 14 0 0 0 0 0 0 99 127 38 28 76 6 4 28 0 0 0 0 0 0 0 0 0 0 0 0 0 29 1 67 37 11 46 5 3 1 8 21 26 11 24 0 0 0 0 0 0 0 29 1 8 63 37 11 24 5 3 1 12 60 15 42 0 0 0 0 0 0 0 7 36 1 58 69 37 11 44 5 3 1 8 63 26 11 24 0 0 0 0 0 152 96 10 23 14 1 84 5 39 23 14 1 7 83 0 0 0 0 0 0 0 27 55 4 73 4 72 6 4 74 0 0 0 0 0 0 0 0 0 0 0 0 29 1 9 59 26 98 5 3 1 9 19 2 48 0 0 0 0 0 0 0 0 40 16 17 1 7 86 5 20 93 1 7 88 0 0 0 0 0 0 0 0 0 29 1 9 65 2 49 6 3 1 8 137 2 48 0 0 0 0 0 0 0 0 64 16 17 1 13 7 80 5 20 13 17 1 7 89 0 0 0 0 0 0 0 4 32 31 1 19 37 11 24 5 3 1 12 57 2 45 0 0 0 0 0 0 3 160 171 1 198 22 164 189 250 11 185 0 0 0 0 0 0 0 0 0 0 11 30 1 10 81 69 37 11 46 6 3 1 63 2 43 0 0 0 0 0 0 7 33 1 9 68 2 54 5 3 1 19 2 46 0 0 0 0 0 0 0 0 235 294 116 26 29 0 0 0 0 0 0 0 0 0 0 0 0 0 0 0 0 7 33 1 12 68 15 25 22 51 5 3 95 2 48 0 0 0 0 0 0 0 27 160 146 303 197 22 164 189 15 186 0 0 0 0 0 0 0 0 0 0 0 99 124 4 77 4 74 6 4 78 0 0 0 0 0 0 0 0 0 0 0 0 29 1 8 92 2 54 5 3 1 8 65 26 11 24 0 0 0 0 0 0 0 62 1 65 2 51 6 3 1 58 69 2 50 0 0 0 0 0 0 0 0 0 11 30 1 9 104 26 98 6 3 1 9 66 2 51 0 0 0 0 0 0 0 101 1 9 59 37 11 46 6 3 157 2 52 0 0 0 0 0 0 0 0 0 7 36 1 10 81 69 37 11 46 5 3 1 58 2 49 0 0 0 0 0 0 61 13 14 16 1 7 86 5 39 13 14 1 7 89 0 0 0 0 0 0 0 11 30 1 9 60 2 48 6 3 95 9 2 44 0 0 0 0 0 0 0 0 11 30 1 8 137 15 25 79 56 6 3 1 12 21 2 49 0 0 0 0 0 36 1 9 58 37 11 44 6 3 1 63 26 11 24 0 0 0 0 0 0 0 10 38 1 64 16 13 14 5 7 90 27 1 13 14 0 0 0 0 0 0 0 33 1 67 15 42 5 3 1 12 19 2 54 0 0 0 0 0 0 0 0 0 10 38 1 20 16 10 23 14 5 7 90 27 1 10 23 14 0 0 0 0 0 27 55 10 38 4 78 6 4 28 0 0 0 0 0 0 0 0 0 0 0 0 27 145 120 151 97 150 0 0 0 0 0 0 0 0 0 0 0 0 0 0 0 3 55 4 70 4 77 6 10 38 0 0 0 0 0 0 0 0 0 0 0 0 11 30 1 8 18 2 45 6 3 1 9 63 2 50 0 0 0 0 0 0 0 129 96 10 23 14 1 10 38 5 40 23 14 1 7 90 0 0 0 0 0 0 61 16 17 1 13 10 85 5 64 13 93 1 7 90 0 0 0 0 0 0 0 36 1 21 15 25 22 45 6 3 1 9 57 2 49 0 0 0 0 0 0 0 29 1 8 92 2 50 5 3 1 12 68 2 48 0 0 0 0 0 0 0 0 20 16 17 13 1 7 90 5 39 17 13 1 7 80 0 0 0 0 0 0 0 27 55 4 70 4 78 6 4 28 0 0 0 0 0 0 0 0 0 0 0 0 35 34 1 9 117 2 52 5 3 1 59 15 42 0 0 0 0 0 0 0 0 36 1 21 15 25 22 45 5 3 1 9 21 2 43 0 0 0 0 0 0 0 7 33 1 9 58 37 11 44 5 3 1 12 18 2 54 0 0 0 0 0 0 40 16 17 1 10 85 5 64 93 1 7 80 0 0 0 0 0 0 0 0 0 4 32 31 1 9 21 2 52 5 3 1 65 2 44 0 0 0 0 0 0 0 152 96 10 23 14 1 10 85 5 39 23 14 1 7 86 0 0 0 0 0 0 27 94 4 70 6 4 78 0 0 0 0 0 0 0 0 0 0 0 0 0 0 35 34 1 12 67 2 48 5 3 1 18 15 42 0 0 0 0 0 0 0 0 7 86 1 20 13 14 108 96 5 7 90 1 64 13 14 0 0 0 0 0 0 11 30 1 8 57 15 25 22 45 5 3 1 9 125 2 52 0 0 0 0 0 4 257 131 170 141 4 13 175 0 0 0 0 0 0 0 0 0 0 0 0 0 7 90 1 39 13 14 108 96 5 7 83 1 20 13 14 0 0 0 0 0 0 10 85 1 7 13 14 108 96 5 7 90 1 40 13 14 0 0 0 0 0 0 4 32 31 1 58 8 2 53 6 3 1 12 67 2 52 0 0 0 0 0 0 7 33 1 12 18 15 42 6 3 1 12 92 26 11 24 0 0 0 0 0 0 116 160 146 7 194 161 10 187 6 10 186 1 196 0 0 0 0 0 0 0 0 99 127 4 71 28 76 6 4 77 0 0 0 0 0 0 0 0 0 0 0 0 115 217 122 40 109 10 23 14 0 0 0 0 0 0 0 0 0 0 0 0 0 27 94 10 110 133 169 0 0 0 0 0 0 0 0 0 0 0 0 0 0 0 36 1 9 10 81 37 11 44 6 3 1 69 21 2 51 0 0 0 0 0 0 20 16 17 1 7 89 0 0 0 0 0 0 0 0 0 0 0 0 0 0 0 10 82 1 39 16 17 13 5 7 89 1 61 13 17 0 0 0 0 0 0 0 29 1 8 18 2 49 5 3 1 8 65 2 53 0 0 0 0 0 0 0 0 29 1 12 65 2 52 5 3 1 12 19 2 47 0 0 0 0 0 0 0 0 20 16 17 1 7 87 5 40 93 1 7 89 0 0 0 0 0 0 0 0 0 61 16 17 1 7 90 5 20 17 1 7 80 0 0 0 0 0 0 0 0 0 36 1 8 67 2 49 5 3 1 12 60 15 42 0 0 0 0 0 0 0 0 7 33 1 60 2 53 5 3 1 8 19 2 43 0 0 0 0 0 0 0 0 29 1 9 10 81 2 53 6 3 1 8 18 2 48 0 0 0 0 0 0 0 35 34 1 9 63 2 52 6 3 1 9 68 2 53 0 0 0 0 0 0 0 27 55 120 147 97 162 0 0 0 0 0 0 0 0 0 0 0 0 0 0 0 3 100 4 72 4 74 6 4 28 76 0 0 0 0 0 0 0 0 0 0 0 4 32 31 1 249 26 98 5 3 1 8 66 2 47 0 0 0 0 0 0 0 11 30 1 249 15 25 22 48 5 3 1 12 63 26 11 24 0 0 0 0 0 7 80 1 20 16 17 13 5 7 89 1 39 17 13 0 0 0 0 0 0 0 36 1 9 22 225 26 98 6 3 1 8 21 15 42 0 0 0 0 0 0 0 29 1 63 37 11 46 6 3 1 21 26 11 24 0 0 0 0 0 0 0 0 20 16 17 1 13 10 82 5 20 13 17 1 7 83 0 0 0 0 0 0 0 11 30 1 69 65 15 25 22 47 6 3 1 9 60 2 53 0 0 0 0 0 29 1 8 57 2 53 5 3 1 9 26 63 2 54 0 0 0 0 0 0 0 27 94 4 28 28 76 6 4 77 0 0 0 0 0 0 0 0 0 0 0 0 3 55 4 28 4 71 6 4 75 0 0 0 0 0 0 0 0 0 0 0 0 11 30 1 9 67 37 11 46 5 3 1 8 57 2 54 0 0 0 0 0 0 4 32 31 1 12 59 26 98 5 3 1 8 67 2 54 0 0 0 0 0 0 62 1 8 63 2 50 6 3 1 9 18 15 42 0 0 0 0 0 0 0 0 27 55 91 28 76 4 75 6 4 78 0 0 0 0 0 0 0 0 0 0 0 35 34 1 57 2 54 6 3 1 9 22 102 2 53 0 0 0 0 0 0 0 4 32 31 105 131 9 190 2 49 6 3 1 9 19 2 44 0 0 0 0 0 99 124 4 28 4 78 6 4 70 0 0 0 0 0 0 0 0 0 0 0 0 3 55 91 120 168 97 150 0 0 0 0 0 0 0 0 0 0 0 0 0 0 62 1 8 68 2 41 5 3 1 8 65 2 51 0 0 0 0 0 0 0 0 27 94 4 28 38 6 4 70 0 0 0 0 0 0 0 0 0 0 0 0 0 27 94 4 78 4 72 6 10 38 0 0 0 0 0 0 0 0 0 0 0 0 29 1 9 21 15 25 22 51 6 3 1 57 9 2 44 0 0 0 0 0 0 35 34 1 104 2 48 6 3 1 65 2 52 0 0 0 0 0 0 0 0 0 7 87 1 40 16 10 23 14 5 10 85 27 1 10 23 14 0 0 0 0 0 39 13 14 108 96 1 7 87 5 61 13 14 1 7 90 0 0 0 0 0 0 27 55 7 168 97 155 0 0 0 0 0 0 0 0 0 0 0 0 0 0 0 20 16 1 13 14 10 82 5 27 1 13 14 7 86 0 0 0 0 0 0 0 101 1 9 60 2 53 5 3 1 9 19 15 42 0 0 0 0 0 0 0 0 35 34 1 12 57 2 41 5 3 1 8 58 2 53 0 0 0 0 0 0 0 4 32 31 1 12 18 26 98 6 3 1 8 10 81 2 48 0 0 0 0 0 7 89 1 64 16 17 5 10 38 1 40 93 0 0 0 0 0 0 0 0 0 106 130 10 38 6 4 74 0 0 0 0 0 0 0 0 0 0 0 0 0 0 27 180 173 32 31 2 43 114 0 0 0 0 0 0 0 0 0 0 0 0 0 205 131 99 91 123 2 33 0 0 0 0 0 0 0 0 0 0 0 0 0 0 35 34 1 8 65 2 53 5 3 1 67 15 42 0 0 0 0 0 0 0 0 7 36 1 8 19 37 11 44 5 3 1 9 57 2 51 0 0 0 0 0 0 101 1 60 15 25 22 45 5 3 1 8 65 15 42 0 0 0 0 0 0 0 29 1 8 65 37 11 44 6 3 1 9 21 26 11 24 0 0 0 0 0 0 33 1 66 37 11 44 6 3 1 9 63 2 48 0 0 0 0 0 0 0 0 29 1 8 18 2 45 6 3 1 67 2 52 0 0 0 0 0 0 0 0 0 20 16 17 13 1 7 80 5 20 13 17 1 10 82 0 0 0 0 0 0 0 255 122 40 254 26 29 2 51 142 0 0 0 0 0 0 0 0 0 0 0 0 101 1 8 67 15 25 22 47 5 3 1 12 18 2 45 0 0 0 0 0 0 29 1 12 19 15 111 285 42 6 3 1 8 21 2 48 0 0 0 0 0 0 11 30 1 9 66 37 11 44 6 3 1 12 57 2 51 0 0 0 0 0 0 7 33 1 8 63 37 11 24 6 3 1 8 10 81 2 52 0 0 0 0 0 27 143 120 148 97 150 0 0 0 0 0 0 0 0 0 0 0 0 0 0 0 36 1 9 66 15 25 22 51 5 3 1 12 92 26 11 24 0 0 0 0 0 20 16 17 13 1 7 80 5 39 17 13 1 7 87 0 0 0 0 0 0 0 27 94 4 71 4 73 6 4 77 0 0 0 0 0 0 0 0 0 0 0 0 116 100 91 4 77 10 38 6 4 70 0 0 0 0 0 0 0 0 0 0 0 7 33 1 8 92 26 98 6 3 1 8 10 81 2 50 0 0 0 0 0 0 3 94 4 71 4 78 6 4 70 0 0 0 0 0 0 0 0 0 0 0 0 35 34 1 12 18 2 24 5 3 1 58 69 2 46 0 0 0 0 0 0 0 35 34 1 19 15 25 22 47 6 3 1 9 58 2 54 0 0 0 0 0 0 4 32 31 1 58 8 2 50 5 3 1 9 60 26 11 24 0 0 0 0 0 3 143 115 184 110 182 0 0 0 0 0 0 0 0 0 0 0 0 0 0 0 106 130 4 70 4 77 6 4 28 0 0 0 0 0 0 0 0 0 0 0 0 11 30 1 9 117 2 53 6 3 1 8 19 2 43 0 0 0 0 0 0 0 62 1 63 37 11 46 5 3 1 9 18 2 49 0 0 0 0 0 0 0 0 3 94 4 28 4 74 6 4 72 0 0 0 0 0 0 0 0 0 0 0 0 106 128 91 4 72 4 73 6 10 38 0 0 0 0 0 0 0 0 0 0 0 4 32 31 1 12 63 37 11 24 5 3 1 12 18 2 51 0 0 0 0 0 84 1 64 16 17 5 7 83 1 39 17 0 0 0 0 0 0 0 0 0 0 7 80 1 20 16 17 13 5 7 90 1 64 13 140 0 0 0 0 0 0 0 11 30 1 9 7 102 2 50 5 3 1 8 19 2 46 0 0 0 0 0 0 7 86 1 64 16 17 13 5 7 89 1 40 17 13 0 0 0 0 0 0 0 27 55 4 71 4 73 6 4 74 0 0 0 0 0 0 0 0 0 0 0 0 3 55 91 10 200 110 176 0 0 0 0 0 0 0 0 0 0 0 0 0 0 4 32 31 1 12 66 2 49 6 3 1 9 68 2 45 0 0 0 0 0 0 36 1 9 60 2 45 6 3 1 18 2 46 0 0 0 0 0 0 0 0 0 10 82 1 40 16 10 23 14 5 7 87 1 64 23 14 0 0 0 0 0 0 10 82 1 39 13 14 108 96 5 10 38 1 20 13 14 0 0 0 0 0 0 29 1 12 18 15 25 79 56 6 3 1 12 18 2 45 0 0 0 0 0 0 106 130 10 38 4 73 6 4 74 0 0 0 0 0 0 0 0 0 0 0 0 11 30 1 58 2 24 6 3 1 9 66 2 56 0 0 0 0 0 0 0 0 99 124 4 73 10 38 6 4 70 0 0 0 0 0 0 0 0 0 0 0 0 7 83 1 7 13 14 108 96 5 7 80 1 39 13 14 0 0 0 0 0 0 35 34 1 9 63 15 111 22 11 24 5 3 1 8 66 2 46 0 0 0 0 29 1 8 18 2 50 6 3 1 60 2 54 0 0 0 0 0 0 0 0 0 11 30 1 12 57 2 45 6 3 1 8 67 2 48 0 0 0 0 0 0 0 20 16 10 23 14 1 10 85 5 64 23 14 1 84 0 0 0 0 0 0 0 35 34 1 8 18 2 46 5 3 1 12 19 2 45 0 0 0 0 0 0 0 7 80 1 39 13 14 108 96 5 7 88 1 64 13 14 0 0 0 0 0 0 7 33 1 9 104 26 98 6 3 1 69 21 2 50 0 0 0 0 0 0 0 11 30 1 8 18 2 51 6 3 1 8 60 2 56 0 0 0 0 0 0 0 3 143 121 147 97 153 0 0 0 0 0 0 0 0 0 0 0 0 0 0 0 3 100 4 74 4 72 6 10 38 0 0 0 0 0 0 0 0 0 0 0 0 11 30 1 12 19 2 53 5 3 1 9 125 2 41 0 0 0 0 0 0 0 7 86 1 61 16 17 5 7 83 1 39 17 0 0 0 0 0 0 0 0 0 61 16 17 1 7 90 5 39 17 1 84 0 0 0 0 0 0 0 0 0 0 36 1 8 18 2 52 5 3 1 9 63 2 51 0 0 0 0 0 0 0 0 7 33 1 8 137 2 52 5 3 1 19 15 42 0 0 0 0 0 0 0 0 3 55 4 74 4 77 6 4 70 0 0 0 0 0 0 0 0 0 0 0 0 4 32 31 1 8 19 37 11 24 5 3 1 8 18 26 11 24 0 0 0 0 3 145 120 97 134 174 0 0 0 0 0 0 0 0 0 0 0 0 0 0 0 7 36 1 58 12 15 25 22 47 5 3 1 12 59 2 56 0 0 0 0 0 35 34 1 8 19 15 25 79 56 5 3 1 18 2 54 0 0 0 0 0 0 27 94 4 28 4 74 6 4 73 0 0 0 0 0 0 0 0 0 0 0 0 7 89 1 20 16 17 5 10 85 1 61 17 0 0 0 0 0 0 0 0 0 39 16 10 23 14 1 10 82 5 40 23 14 1 7 90 0 0 0 0 0 0 38 131 191 96 4 23 206 0 0 0 0 0 0 0 0 0 0 0 0 0 0 27 247 121 147 97 153 0 0 0 0 0 0 0 0 0 0 0 0 0 0 0 4 32 31 1 8 104 15 111 22 11 24 6 3 95 9 2 46 0 0 0 0 27 94 4 75 4 74 6 4 78 0 0 0 0 0 0 0 0 0 0 0 0 62 1 21 2 49 6 3 1 8 67 2 46 0 0 0 0 0 0 0 0 0 36 1 8 66 2 48 5 9 22 102 2 56 0 0 0 0 0 0 0 0 0 35 34 1 12 92 2 50 6 3 95 69 15 42 0 0 0 0 0 0 0 0 39 16 17 1 7 86 5 20 93 1 84 0 0 0 0 0 0 0 0 0 0 11 30 1 9 104 37 11 44 6 3 1 12 60 2 50 0 0 0 0 0 0 27 55 4 74 4 73 6 4 72 0 0 0 0 0 0 0 0 0 0 0 0 4 32 31 1 60 15 25 22 47 6 3 1 8 65 2 45 0 0 0 0 0 36 1 9 22 102 2 45 6 3 1 9 68 26 11 24 0 0 0 0 0 0 27 55 4 77 6 4 74 0 0 0 0 0 0 0 0 0 0 0 0 0 0 3 55 4 78 4 74 6 4 71 0 0 0 0 0 0 0 0 0 0 0 0 3 55 4 77 4 75 6 4 28 76 0 0 0 0 0 0 0 0 0 0 0 7 36 1 8 10 81 37 11 24 5 3 1 8 68 15 42 0 0 0 0 0 11 30 1 67 2 52 5 3 1 8 19 2 49 0 0 0 0 0 0 0 0 35 34 1 9 58 2 49 6 3 1 65 2 52 0 0 0 0 0 0 0 0 129 96 10 23 14 1 10 82 5 39 23 14 1 7 83 0 0 0 0 0 0 4 32 31 1 58 15 25 22 48 5 3 1 12 65 2 46 0 0 0 0 0 20 16 17 13 1 7 90 5 61 13 17 1 84 0 0 0 0 0 0 0 0 106 128 91 4 78 4 70 6 10 38 0 0 0 0 0 0 0 0 0 0 0 84 1 40 16 13 14 5 7 86 27 1 13 14 0 0 0 0 0 0 0 0 3 100 4 73 4 159 6 4 75 0 0 0 0 0 0 0 0 0 0 0 0 3 1 198 22 164 2 186 187 0 0 0 0 0 0 0 0 0 0 0 0 0 4 32 31 1 9 22 102 15 25 22 47 5 3 1 8 66 15 42 0 0 0\n\t [[{{node compile_loss/sparse_categorical_crossentropy/SparseSoftmaxCrossEntropyWithLogits/SparseSoftmaxCrossEntropyWithLogits}}]] [Op:__inference_one_step_on_iterator_7352]",
     "output_type": "error",
     "traceback": [
      "\u001b[1;31m---------------------------------------------------------------------------\u001b[0m",
      "\u001b[1;31mInvalidArgumentError\u001b[0m                      Traceback (most recent call last)",
      "Cell \u001b[1;32mIn[11], line 30\u001b[0m\n\u001b[0;32m     23\u001b[0m \u001b[38;5;66;03m#Train the neural network\u001b[39;00m\n\u001b[0;32m     24\u001b[0m simple_rnn_model \u001b[38;5;241m=\u001b[39m simple_model(\n\u001b[0;32m     25\u001b[0m     tmp_x\u001b[38;5;241m.\u001b[39mshape,\n\u001b[0;32m     26\u001b[0m     max_french_sequence_length,\n\u001b[0;32m     27\u001b[0m     english_vocab_size,\n\u001b[0;32m     28\u001b[0m     french_vocab_size)\n\u001b[1;32m---> 30\u001b[0m \u001b[43msimple_rnn_model\u001b[49m\u001b[38;5;241;43m.\u001b[39;49m\u001b[43mfit\u001b[49m\u001b[43m(\u001b[49m\u001b[43mtmp_x\u001b[49m\u001b[43m,\u001b[49m\u001b[43m \u001b[49m\u001b[43mpreproc_french_sentences\u001b[49m\u001b[43m,\u001b[49m\u001b[43m \u001b[49m\u001b[43mbatch_size\u001b[49m\u001b[38;5;241;43m=\u001b[39;49m\u001b[38;5;241;43m1024\u001b[39;49m\u001b[43m,\u001b[49m\u001b[43m \u001b[49m\u001b[43mepochs\u001b[49m\u001b[38;5;241;43m=\u001b[39;49m\u001b[38;5;241;43m10\u001b[39;49m\u001b[43m,\u001b[49m\u001b[43m \u001b[49m\u001b[43mvalidation_split\u001b[49m\u001b[38;5;241;43m=\u001b[39;49m\u001b[38;5;241;43m0.2\u001b[39;49m\u001b[43m)\u001b[49m\n",
      "File \u001b[1;32mc:\\Users\\abhik\\anaconda3\\envs\\nullclass\\lib\\site-packages\\keras\\src\\utils\\traceback_utils.py:122\u001b[0m, in \u001b[0;36mfilter_traceback.<locals>.error_handler\u001b[1;34m(*args, **kwargs)\u001b[0m\n\u001b[0;32m    119\u001b[0m     filtered_tb \u001b[38;5;241m=\u001b[39m _process_traceback_frames(e\u001b[38;5;241m.\u001b[39m__traceback__)\n\u001b[0;32m    120\u001b[0m     \u001b[38;5;66;03m# To get the full stack trace, call:\u001b[39;00m\n\u001b[0;32m    121\u001b[0m     \u001b[38;5;66;03m# `keras.config.disable_traceback_filtering()`\u001b[39;00m\n\u001b[1;32m--> 122\u001b[0m     \u001b[38;5;28;01mraise\u001b[39;00m e\u001b[38;5;241m.\u001b[39mwith_traceback(filtered_tb) \u001b[38;5;28;01mfrom\u001b[39;00m \u001b[38;5;28;01mNone\u001b[39;00m\n\u001b[0;32m    123\u001b[0m \u001b[38;5;28;01mfinally\u001b[39;00m:\n\u001b[0;32m    124\u001b[0m     \u001b[38;5;28;01mdel\u001b[39;00m filtered_tb\n",
      "File \u001b[1;32mc:\\Users\\abhik\\anaconda3\\envs\\nullclass\\lib\\site-packages\\tensorflow\\python\\eager\\execute.py:53\u001b[0m, in \u001b[0;36mquick_execute\u001b[1;34m(op_name, num_outputs, inputs, attrs, ctx, name)\u001b[0m\n\u001b[0;32m     51\u001b[0m \u001b[38;5;28;01mtry\u001b[39;00m:\n\u001b[0;32m     52\u001b[0m   ctx\u001b[38;5;241m.\u001b[39mensure_initialized()\n\u001b[1;32m---> 53\u001b[0m   tensors \u001b[38;5;241m=\u001b[39m pywrap_tfe\u001b[38;5;241m.\u001b[39mTFE_Py_Execute(ctx\u001b[38;5;241m.\u001b[39m_handle, device_name, op_name,\n\u001b[0;32m     54\u001b[0m                                       inputs, attrs, num_outputs)\n\u001b[0;32m     55\u001b[0m \u001b[38;5;28;01mexcept\u001b[39;00m core\u001b[38;5;241m.\u001b[39m_NotOkStatusException \u001b[38;5;28;01mas\u001b[39;00m e:\n\u001b[0;32m     56\u001b[0m   \u001b[38;5;28;01mif\u001b[39;00m name \u001b[38;5;129;01mis\u001b[39;00m \u001b[38;5;129;01mnot\u001b[39;00m \u001b[38;5;28;01mNone\u001b[39;00m:\n",
      "\u001b[1;31mInvalidArgumentError\u001b[0m: Graph execution error:\n\nDetected at node compile_loss/sparse_categorical_crossentropy/SparseSoftmaxCrossEntropyWithLogits/SparseSoftmaxCrossEntropyWithLogits defined at (most recent call last):\n  File \"c:\\Users\\abhik\\anaconda3\\envs\\nullclass\\lib\\runpy.py\", line 197, in _run_module_as_main\n\n  File \"c:\\Users\\abhik\\anaconda3\\envs\\nullclass\\lib\\runpy.py\", line 87, in _run_code\n\n  File \"c:\\Users\\abhik\\anaconda3\\envs\\nullclass\\lib\\site-packages\\ipykernel_launcher.py\", line 18, in <module>\n\n  File \"c:\\Users\\abhik\\anaconda3\\envs\\nullclass\\lib\\site-packages\\traitlets\\config\\application.py\", line 1075, in launch_instance\n\n  File \"c:\\Users\\abhik\\anaconda3\\envs\\nullclass\\lib\\site-packages\\ipykernel\\kernelapp.py\", line 739, in start\n\n  File \"c:\\Users\\abhik\\anaconda3\\envs\\nullclass\\lib\\site-packages\\tornado\\platform\\asyncio.py\", line 205, in start\n\n  File \"c:\\Users\\abhik\\anaconda3\\envs\\nullclass\\lib\\asyncio\\base_events.py\", line 601, in run_forever\n\n  File \"c:\\Users\\abhik\\anaconda3\\envs\\nullclass\\lib\\asyncio\\base_events.py\", line 1905, in _run_once\n\n  File \"c:\\Users\\abhik\\anaconda3\\envs\\nullclass\\lib\\asyncio\\events.py\", line 80, in _run\n\n  File \"c:\\Users\\abhik\\anaconda3\\envs\\nullclass\\lib\\site-packages\\ipykernel\\kernelbase.py\", line 545, in dispatch_queue\n\n  File \"c:\\Users\\abhik\\anaconda3\\envs\\nullclass\\lib\\site-packages\\ipykernel\\kernelbase.py\", line 534, in process_one\n\n  File \"c:\\Users\\abhik\\anaconda3\\envs\\nullclass\\lib\\site-packages\\ipykernel\\kernelbase.py\", line 437, in dispatch_shell\n\n  File \"c:\\Users\\abhik\\anaconda3\\envs\\nullclass\\lib\\site-packages\\ipykernel\\ipkernel.py\", line 362, in execute_request\n\n  File \"c:\\Users\\abhik\\anaconda3\\envs\\nullclass\\lib\\site-packages\\ipykernel\\kernelbase.py\", line 778, in execute_request\n\n  File \"c:\\Users\\abhik\\anaconda3\\envs\\nullclass\\lib\\site-packages\\ipykernel\\ipkernel.py\", line 449, in do_execute\n\n  File \"c:\\Users\\abhik\\anaconda3\\envs\\nullclass\\lib\\site-packages\\ipykernel\\zmqshell.py\", line 549, in run_cell\n\n  File \"c:\\Users\\abhik\\anaconda3\\envs\\nullclass\\lib\\site-packages\\IPython\\core\\interactiveshell.py\", line 3048, in run_cell\n\n  File \"c:\\Users\\abhik\\anaconda3\\envs\\nullclass\\lib\\site-packages\\IPython\\core\\interactiveshell.py\", line 3103, in _run_cell\n\n  File \"c:\\Users\\abhik\\anaconda3\\envs\\nullclass\\lib\\site-packages\\IPython\\core\\async_helpers.py\", line 129, in _pseudo_sync_runner\n\n  File \"c:\\Users\\abhik\\anaconda3\\envs\\nullclass\\lib\\site-packages\\IPython\\core\\interactiveshell.py\", line 3308, in run_cell_async\n\n  File \"c:\\Users\\abhik\\anaconda3\\envs\\nullclass\\lib\\site-packages\\IPython\\core\\interactiveshell.py\", line 3490, in run_ast_nodes\n\n  File \"c:\\Users\\abhik\\anaconda3\\envs\\nullclass\\lib\\site-packages\\IPython\\core\\interactiveshell.py\", line 3550, in run_code\n\n  File \"C:\\Users\\abhik\\AppData\\Local\\Temp\\ipykernel_27968\\1267588431.py\", line 30, in <module>\n\n  File \"c:\\Users\\abhik\\anaconda3\\envs\\nullclass\\lib\\site-packages\\keras\\src\\utils\\traceback_utils.py\", line 117, in error_handler\n\n  File \"c:\\Users\\abhik\\anaconda3\\envs\\nullclass\\lib\\site-packages\\keras\\src\\backend\\tensorflow\\trainer.py\", line 343, in fit\n\n  File \"c:\\Users\\abhik\\anaconda3\\envs\\nullclass\\lib\\site-packages\\keras\\src\\utils\\traceback_utils.py\", line 117, in error_handler\n\n  File \"c:\\Users\\abhik\\anaconda3\\envs\\nullclass\\lib\\site-packages\\keras\\src\\backend\\tensorflow\\trainer.py\", line 429, in evaluate\n\n  File \"c:\\Users\\abhik\\anaconda3\\envs\\nullclass\\lib\\site-packages\\keras\\src\\backend\\tensorflow\\trainer.py\", line 165, in one_step_on_iterator\n\n  File \"c:\\Users\\abhik\\anaconda3\\envs\\nullclass\\lib\\site-packages\\keras\\src\\backend\\tensorflow\\trainer.py\", line 154, in one_step_on_data\n\n  File \"c:\\Users\\abhik\\anaconda3\\envs\\nullclass\\lib\\site-packages\\keras\\src\\backend\\tensorflow\\trainer.py\", line 85, in test_step\n\n  File \"c:\\Users\\abhik\\anaconda3\\envs\\nullclass\\lib\\site-packages\\keras\\src\\trainers\\trainer.py\", line 357, in _compute_loss\n\n  File \"c:\\Users\\abhik\\anaconda3\\envs\\nullclass\\lib\\site-packages\\keras\\src\\trainers\\trainer.py\", line 325, in compute_loss\n\n  File \"c:\\Users\\abhik\\anaconda3\\envs\\nullclass\\lib\\site-packages\\keras\\src\\trainers\\compile_utils.py\", line 609, in __call__\n\n  File \"c:\\Users\\abhik\\anaconda3\\envs\\nullclass\\lib\\site-packages\\keras\\src\\trainers\\compile_utils.py\", line 645, in call\n\n  File \"c:\\Users\\abhik\\anaconda3\\envs\\nullclass\\lib\\site-packages\\keras\\src\\losses\\loss.py\", line 43, in __call__\n\n  File \"c:\\Users\\abhik\\anaconda3\\envs\\nullclass\\lib\\site-packages\\keras\\src\\losses\\losses.py\", line 27, in call\n\n  File \"c:\\Users\\abhik\\anaconda3\\envs\\nullclass\\lib\\site-packages\\keras\\src\\losses\\losses.py\", line 1853, in sparse_categorical_crossentropy\n\n  File \"c:\\Users\\abhik\\anaconda3\\envs\\nullclass\\lib\\site-packages\\keras\\src\\ops\\nn.py\", line 1567, in sparse_categorical_crossentropy\n\n  File \"c:\\Users\\abhik\\anaconda3\\envs\\nullclass\\lib\\site-packages\\keras\\src\\backend\\tensorflow\\nn.py\", line 645, in sparse_categorical_crossentropy\n\nReceived a label value of 344 which is outside the valid range of [0, 344).  Label values: 7 88 1 64 16 13 14 5 7 83 1 40 13 14 0 0 0 0 0 0 0 11 30 1 67 15 25 22 47 6 3 1 58 69 2 56 0 0 0 0 0 0 62 1 92 2 41 5 3 1 9 21 26 11 24 0 0 0 0 0 0 0 0 7 33 1 9 7 102 2 51 5 3 1 18 2 45 0 0 0 0 0 0 0 29 1 65 37 11 44 6 3 1 9 21 2 52 0 0 0 0 0 0 0 0 10 38 1 20 16 17 13 5 10 82 1 20 13 17 0 0 0 0 0 0 0 36 1 12 67 37 11 46 5 3 1 18 2 44 0 0 0 0 0 0 0 0 27 145 7 97 134 154 0 0 0 0 0 0 0 0 0 0 0 0 0 0 0 3 113 115 184 110 176 0 0 0 0 0 0 0 0 0 0 0 0 0 0 0 3 94 4 28 4 73 6 4 78 0 0 0 0 0 0 0 0 0 0 0 0 11 30 1 19 15 25 79 56 5 3 1 68 2 41 0 0 0 0 0 0 0 3 55 4 72 4 28 76 6 4 28 0 0 0 0 0 0 0 0 0 0 0 3 55 4 78 4 74 6 4 73 0 0 0 0 0 0 0 0 0 0 0 0 3 55 4 28 4 70 6 4 72 0 0 0 0 0 0 0 0 0 0 0 0 11 30 1 12 57 15 25 22 45 6 3 1 12 18 2 47 0 0 0 0 0 4 32 31 1 8 68 15 25 22 47 5 3 1 8 21 2 41 0 0 0 0 10 82 1 61 16 17 5 7 86 1 40 93 0 0 0 0 0 0 0 0 0 10 85 1 20 16 17 13 5 7 83 1 61 13 17 0 0 0 0 0 0 0 10 38 1 40 16 17 5 7 89 1 39 17 0 0 0 0 0 0 0 0 0 62 1 12 63 2 41 5 3 1 8 60 26 11 24 0 0 0 0 0 0 0 99 124 4 70 4 73 6 28 76 0 0 0 0 0 0 0 0 0 0 0 0 7 89 1 39 16 13 14 5 7 90 27 1 13 14 0 0 0 0 0 0 0 10 85 1 39 13 14 108 96 5 10 82 1 20 13 14 0 0 0 0 0 0 36 1 8 18 2 43 5 3 1 12 66 2 48 0 0 0 0 0 0 0 0 20 13 16 17 1 7 88 5 39 17 13 1 10 82 0 0 0 0 0 0 0 20 16 10 23 14 1 10 85 5 61 23 14 1 7 90 0 0 0 0 0 0 35 34 1 8 19 2 43 5 3 1 8 18 2 49 0 0 0 0 0 0 0 4 32 31 1 9 57 37 11 46 5 3 1 18 2 41 0 0 0 0 0 0 36 1 8 57 2 52 5 3 1 8 59 2 46 0 0 0 0 0 0 0 0 3 94 4 71 4 74 6 4 78 0 0 0 0 0 0 0 0 0 0 0 0 64 16 17 1 10 270 5 61 17 1 7 86 0 0 0 0 0 0 0 0 0 29 1 19 2 52 6 3 1 9 60 2 46 0 0 0 0 0 0 0 0 0 29 1 8 66 2 41 5 3 1 12 60 26 11 24 0 0 0 0 0 0 0 29 1 12 21 37 11 24 5 3 1 9 65 2 51 0 0 0 0 0 0 0 29 1 8 66 15 111 22 11 24 6 3 1 9 26 63 2 53 0 0 0 0 4 32 31 1 21 2 43 5 3 1 9 117 2 47 0 0 0 0 0 0 0 7 36 1 8 65 37 11 46 5 3 1 63 2 44 0 0 0 0 0 0 0 33 1 57 2 49 5 3 1 18 2 47 0 0 0 0 0 0 0 0 0 0 7 33 1 8 63 2 50 6 3 1 12 18 2 49 0 0 0 0 0 0 0 36 1 69 21 2 50 6 3 1 8 63 26 11 24 0 0 0 0 0 0 0 7 33 1 12 65 2 54 6 3 1 19 2 41 0 0 0 0 0 0 0 0 20 16 17 1 13 7 86 5 40 13 17 1 10 85 0 0 0 0 0 0 0 39 109 17 1 13 146 11 237 0 0 0 0 0 0 0 0 0 0 0 0 0 7 88 1 7 13 14 108 96 5 10 85 1 64 13 14 0 0 0 0 0 0 64 16 17 13 1 10 38 5 40 13 140 1 84 0 0 0 0 0 0 0 0 62 1 21 2 50 5 3 1 12 18 2 53 0 0 0 0 0 0 0 0 0 35 34 1 66 2 41 5 3 1 12 67 26 11 24 0 0 0 0 0 0 0 4 32 31 105 131 9 190 2 45 5 3 1 18 2 44 0 0 0 0 0 0 27 94 7 148 97 162 0 0 0 0 0 0 0 0 0 0 0 0 0 0 0 29 1 58 69 2 50 5 3 1 12 19 2 53 0 0 0 0 0 0 0 0 99 127 91 28 76 4 70 6 4 74 0 0 0 0 0 0 0 0 0 0 0 4 32 31 1 12 63 37 11 24 6 3 1 8 58 2 41 0 0 0 0 0 27 55 4 75 4 73 6 10 38 0 0 0 0 0 0 0 0 0 0 0 0 4 32 31 1 8 21 37 11 24 6 3 1 12 67 2 52 0 0 0 0 0 62 1 12 65 37 11 44 6 3 1 8 10 81 2 50 0 0 0 0 0 0 11 30 1 12 18 15 25 79 56 5 3 1 8 18 2 46 0 0 0 0 0 101 1 12 18 15 25 22 47 6 3 1 60 2 52 0 0 0 0 0 0 0 29 1 19 2 41 6 3 1 12 19 2 53 0 0 0 0 0 0 0 0 0 7 33 1 9 18 26 98 6 3 1 8 67 2 44 0 0 0 0 0 0 0 62 105 103 9 19 2 51 6 3 1 8 63 2 49 0 0 0 0 0 0 0 135 28 76 4 28 6 4 78 0 0 0 0 0 0 0 0 0 0 0 0 0 3 55 4 73 4 70 6 4 75 0 0 0 0 0 0 0 0 0 0 0 0 7 90 1 61 16 10 23 119 5 7 89 1 39 23 14 0 0 0 0 0 0 3 180 35 34 24 114 0 0 0 0 0 0 0 0 0 0 0 0 0 0 0 27 94 4 78 4 77 6 4 74 0 0 0 0 0 0 0 0 0 0 0 0 36 105 103 9 19 2 24 6 3 1 12 59 2 54 0 0 0 0 0 0 0 11 30 1 19 2 49 5 3 157 2 43 0 0 0 0 0 0 0 0 0 0 3 55 10 163 110 134 0 0 0 0 0 0 0 0 0 0 0 0 0 0 0 11 30 1 19 15 42 5 3 1 8 59 2 54 0 0 0 0 0 0 0 0 35 34 1 58 8 2 54 6 3 1 9 66 2 44 0 0 0 0 0 0 0 7 86 1 39 16 17 13 5 10 82 1 64 13 17 0 0 0 0 0 0 0 84 1 39 16 13 14 5 7 88 27 1 13 14 0 0 0 0 0 0 0 0 4 32 31 1 8 65 15 25 79 56 5 3 1 67 2 45 0 0 0 0 0 36 1 12 18 2 52 5 3 1 8 65 2 56 0 0 0 0 0 0 0 0 11 30 1 19 15 42 6 3 1 12 59 2 44 0 0 0 0 0 0 0 0 29 1 12 57 2 54 6 3 1 8 21 2 53 0 0 0 0 0 0 0 0 7 86 1 61 16 13 14 5 7 88 1 39 13 14 0 0 0 0 0 0 0 35 34 1 12 18 2 49 5 3 1 9 18 2 54 0 0 0 0 0 0 0 107 126 4 77 28 76 6 72 0 0 0 0 0 0 0 0 0 0 0 0 0 29 1 65 2 52 5 3 1 63 2 48 0 0 0 0 0 0 0 0 0 0 11 30 1 12 67 15 111 22 11 24 5 3 1 12 65 2 45 0 0 0 0 20 16 1 13 14 7 87 5 27 1 13 14 7 83 0 0 0 0 0 0 0 7 62 1 9 58 26 98 6 3 1 8 21 2 51 0 0 0 0 0 0 0 11 30 1 58 2 53 5 3 1 8 19 2 45 0 0 0 0 0 0 0 0 4 32 31 1 18 26 98 6 3 1 8 21 15 42 0 0 0 0 0 0 0 107 132 10 38 4 71 6 4 28 76 0 0 0 0 0 0 0 0 0 0 0 35 34 1 12 68 2 50 5 3 1 59 2 49 0 0 0 0 0 0 0 0 27 55 4 75 10 38 6 4 78 0 0 0 0 0 0 0 0 0 0 0 0 40 109 17 1 146 7 201 0 0 0 0 0 0 0 0 0 0 0 0 0 0 20 16 1 13 14 7 83 5 64 13 14 1 7 90 0 0 0 0 0 0 0 3 55 4 72 4 71 6 4 75 0 0 0 0 0 0 0 0 0 0 0 0 11 30 1 10 81 2 50 5 3 1 8 60 26 11 24 0 0 0 0 0 0 4 32 31 1 12 60 2 50 5 3 1 9 18 2 44 0 0 0 0 0 0 62 1 12 63 2 48 5 3 1 69 21 2 46 0 0 0 0 0 0 0 0 62 1 8 104 2 45 6 3 1 67 2 52 0 0 0 0 0 0 0 0 0 7 83 1 20 16 10 23 14 5 7 90 1 40 23 14 0 0 0 0 0 0 29 1 8 19 2 45 6 3 1 12 63 26 11 24 0 0 0 0 0 0 0 40 13 14 108 96 1 7 90 5 61 13 14 1 10 38 0 0 0 0 0 0 7 88 1 61 16 17 5 84 1 20 93 0 0 0 0 0 0 0 0 0 0 7 62 1 58 8 26 98 6 3 1 8 104 2 51 0 0 0 0 0 0 0 11 30 1 9 58 15 25 22 47 5 3 1 12 19 15 42 0 0 0 0 0 7 194 161 10 189 6 10 186 1 196 0 0 0 0 0 0 0 0 0 0 0 7 33 1 12 67 2 45 6 3 95 69 2 43 0 0 0 0 0 0 0 0 7 33 1 12 18 2 54 5 3 1 21 2 46 0 0 0 0 0 0 0 0 29 1 8 104 15 25 22 51 6 3 1 60 2 47 0 0 0 0 0 0 0 7 83 1 40 16 13 14 5 10 38 1 61 13 14 0 0 0 0 0 0 0 115 221 1 40 109 17 13 0 0 0 0 0 0 0 0 0 0 0 0 0 0 35 34 1 104 2 49 5 3 95 9 2 51 0 0 0 0 0 0 0 0 0 29 1 7 102 15 111 22 11 24 5 3 1 12 57 2 44 0 0 0 0 0 3 118 113 10 200 110 166 0 0 0 0 0 0 0 0 0 0 0 0 0 0 29 1 8 60 2 45 6 3 1 9 68 2 41 0 0 0 0 0 0 0 0 35 34 1 12 59 2 41 6 3 157 2 47 0 0 0 0 0 0 0 0 0 61 16 17 1 13 10 85 5 64 13 17 1 7 83 0 0 0 0 0 0 0 4 32 31 1 63 37 11 44 5 3 1 12 18 2 53 0 0 0 0 0 0 29 1 9 57 2 43 5 3 1 9 65 2 41 0 0 0 0 0 0 0 0 29 1 8 19 2 43 5 3 1 18 2 46 0 0 0 0 0 0 0 0 0 27 55 4 70 4 74 6 4 78 0 0 0 0 0 0 0 0 0 0 0 0 29 1 12 67 2 50 6 3 1 9 68 26 11 24 0 0 0 0 0 0 0 3 55 4 28 4 78 6 4 73 0 0 0 0 0 0 0 0 0 0 0 0 61 16 17 1 84 5 39 17 1 10 82 0 0 0 0 0 0 0 0 0 0 39 16 17 1 7 88 5 64 93 1 10 85 0 0 0 0 0 0 0 0 0 7 80 1 40 16 17 13 5 10 85 1 20 13 17 0 0 0 0 0 0 0 20 16 1 13 14 7 86 5 61 13 14 1 7 80 0 0 0 0 0 0 0 29 1 10 81 37 11 46 5 3 1 112 26 11 24 0 0 0 0 0 0 0 10 82 1 39 16 17 5 7 89 1 61 17 0 0 0 0 0 0 0 0 0 7 33 1 9 18 15 25 22 47 5 3 105 103 9 19 2 49 0 0 0 0 10 85 1 40 16 17 13 5 7 83 1 20 13 17 0 0 0 0 0 0 0 29 1 66 15 25 22 51 6 3 1 9 125 2 53 0 0 0 0 0 0 0 99 124 4 28 6 4 75 0 0 0 0 0 0 0 0 0 0 0 0 0 0 20 16 10 23 14 1 7 87 5 39 23 14 1 84 0 0 0 0 0 0 0 3 55 4 78 6 4 77 0 0 0 0 0 0 0 0 0 0 0 0 0 0 29 1 8 59 2 50 5 3 1 19 26 11 24 0 0 0 0 0 0 0 0 7 36 1 12 57 15 25 22 47 5 3 1 18 2 43 0 0 0 0 0 0 99 127 91 4 77 4 75 6 4 28 76 0 0 0 0 0 0 0 0 0 0 29 1 8 67 2 52 6 3 95 9 2 56 0 0 0 0 0 0 0 0 0 7 33 1 8 58 2 54 5 3 95 9 26 11 24 0 0 0 0 0 0 0 36 1 9 66 37 11 44 6 3 1 12 68 2 52 0 0 0 0 0 0 0 10 38 1 20 16 17 5 7 83 1 20 93 0 0 0 0 0 0 0 0 0 35 34 1 9 58 2 49 6 3 1 68 2 43 0 0 0 0 0 0 0 0 27 94 115 110 172 169 0 0 0 0 0 0 0 0 0 0 0 0 0 0 0 20 16 1 13 14 7 87 5 39 13 14 1 7 83 0 0 0 0 0 0 0 7 36 1 8 60 37 11 44 5 3 1 21 26 11 24 0 0 0 0 0 0 39 16 1 13 14 10 85 5 40 13 14 1 7 89 0 0 0 0 0 0 0 29 1 58 69 2 48 6 3 1 12 19 2 41 0 0 0 0 0 0 0 0 4 32 31 1 8 18 15 25 79 56 5 3 1 12 66 2 51 0 0 0 0 35 34 1 12 18 15 25 22 47 5 3 1 8 57 2 44 0 0 0 0 0 7 33 1 18 15 42 6 3 1 8 137 2 56 0 0 0 0 0 0 0 0 4 32 31 1 58 2 50 6 3 1 12 68 2 56 0 0 0 0 0 0 0 36 1 60 2 54 6 3 1 9 57 2 47 0 0 0 0 0 0 0 0 0 27 94 4 77 4 75 6 4 71 0 0 0 0 0 0 0 0 0 0 0 0 4 32 31 1 12 18 37 11 44 6 3 1 112 2 51 0 0 0 0 0 0 29 1 9 60 15 25 79 56 6 3 1 8 112 26 11 24 0 0 0 0 0 36 1 8 19 2 54 5 3 1 12 59 2 44 0 0 0 0 0 0 0 0 3 55 4 73 4 70 6 4 28 76 0 0 0 0 0 0 0 0 0 0 0 107 208 22 136 7 33 26 11 24 114 0 0 0 0 0 0 0 0 0 0 0 7 36 1 8 63 37 11 44 6 3 1 8 19 2 47 0 0 0 0 0 0 20 16 10 23 14 1 7 90 5 40 23 14 1 10 82 0 0 0 0 0 0 11 30 1 66 37 11 24 6 3 1 57 2 50 0 0 0 0 0 0 0 0 7 33 1 12 68 2 43 5 3 1 9 18 2 44 0 0 0 0 0 0 0 11 30 1 26 63 37 11 44 6 3 1 8 19 2 41 0 0 0 0 0 0 7 86 1 20 16 10 23 14 5 7 80 1 39 23 14 0 0 0 0 0 0 29 1 9 60 15 42 6 3 1 9 117 2 41 0 0 0 0 0 0 0 0 61 13 14 16 1 84 5 39 13 14 1 10 82 0 0 0 0 0 0 0 0 7 83 1 61 16 17 13 5 10 85 1 40 17 13 0 0 0 0 0 0 0 7 33 1 9 18 2 43 6 3 1 9 66 2 47 0 0 0 0 0 0 0 62 1 9 7 102 2 49 6 3 1 67 2 45 0 0 0 0 0 0 0 0 36 1 104 2 24 5 3 1 60 2 54 0 0 0 0 0 0 0 0 0 0 40 109 10 23 156 1 115 214 0 0 0 0 0 0 0 0 0 0 0 0 0 20 16 17 1 13 7 86 5 40 13 140 1 7 89 0 0 0 0 0 0 0 7 87 1 64 16 17 5 7 88 1 39 17 0 0 0 0 0 0 0 0 0 3 1 198 22 164 161 186 6 187 0 0 0 0 0 0 0 0 0 0 0 0 84 1 20 16 17 5 7 87 1 64 93 0 0 0 0 0 0 0 0 0 0 11 30 1 58 2 49 6 3 1 8 21 26 11 24 0 0 0 0 0 0 0 11 30 1 9 18 2 51 6 3 1 12 60 2 56 0 0 0 0 0 0 0 129 96 10 23 14 1 7 80 5 20 23 14 1 7 83 0 0 0 0 0 0 27 1 15 230 79 120 97 150 174 0 0 0 0 0 0 0 0 0 0 0 0 61 16 17 1 7 90 5 40 93 1 7 88 0 0 0 0 0 0 0 0 0 4 32 31 1 19 2 52 5 3 1 12 92 2 45 0 0 0 0 0 0 0 27 94 4 71 4 28 6 4 73 0 0 0 0 0 0 0 0 0 0 0 0 27 55 10 82 10 38 6 4 70 0 0 0 0 0 0 0 0 0 0 0 0 3 55 4 28 4 73 6 4 74 0 0 0 0 0 0 0 0 0 0 0 0 35 34 1 9 18 2 43 6 3 1 12 59 2 41 0 0 0 0 0 0 0 10 85 1 40 16 17 5 7 86 1 39 17 0 0 0 0 0 0 0 0 0 27 94 4 72 4 75 6 4 70 0 0 0 0 0 0 0 0 0 0 0 0 7 33 1 8 19 2 50 6 3 1 8 92 15 42 0 0 0 0 0 0 0 4 32 31 1 12 19 2 51 6 3 1 8 21 2 41 0 0 0 0 0 0 4 32 31 1 9 60 2 49 5 3 1 69 21 2 47 0 0 0 0 0 0 3 113 7 168 97 155 0 0 0 0 0 0 0 0 0 0 0 0 0 0 0 7 36 1 8 104 26 98 5 3 1 19 2 47 0 0 0 0 0 0 0 0 36 1 12 92 2 49 5 9 26 63 2 51 0 0 0 0 0 0 0 0 0 35 34 105 95 2 41 6 3 1 12 59 2 49 0 0 0 0 0 0 0 0 27 94 4 28 4 70 6 4 73 0 0 0 0 0 0 0 0 0 0 0 0 11 30 1 9 18 2 41 6 3 1 67 2 49 0 0 0 0 0 0 0 0 20 16 17 1 7 80 5 40 93 1 7 90 0 0 0 0 0 0 0 0 0 3 203 123 2 62 15 42 142 0 0 0 0 0 0 0 0 0 0 0 0 0 36 1 21 2 54 6 3 1 8 18 2 44 0 0 0 0 0 0 0 0 0 3 100 4 74 4 28 6 4 75 0 0 0 0 0 0 0 0 0 0 0 0 7 33 1 8 58 2 43 6 3 1 12 60 2 56 0 0 0 0 0 0 0 7 83 1 39 16 17 0 0 0 0 0 0 0 0 0 0 0 0 0 0 0 27 55 4 70 4 77 6 4 71 0 0 0 0 0 0 0 0 0 0 0 0 35 34 1 18 2 41 6 3 1 8 10 81 2 46 0 0 0 0 0 0 0 36 1 19 2 43 5 3 1 8 10 81 15 42 0 0 0 0 0 0 0 0 10 85 1 61 16 13 14 5 7 90 1 20 13 14 0 0 0 0 0 0 0 170 323 141 131 108 257 175 0 0 0 0 0 0 0 0 0 0 0 0 0 0 35 34 1 12 65 2 43 6 3 157 2 47 0 0 0 0 0 0 0 0 0 36 1 19 37 11 44 5 3 1 67 2 48 0 0 0 0 0 0 0 0 0 7 90 1 39 16 10 23 14 5 84 1 40 23 14 0 0 0 0 0 0 0 20 16 10 23 14 1 7 83 5 39 23 14 1 7 86 0 0 0 0 0 0 10 82 1 39 16 17 5 7 87 1 64 93 0 0 0 0 0 0 0 0 0 101 1 9 59 2 49 5 3 1 19 2 45 0 0 0 0 0 0 0 0 0 27 55 4 71 4 28 6 4 70 0 0 0 0 0 0 0 0 0 0 0 0 3 118 149 244 182 154 0 0 0 0 0 0 0 0 0 0 0 0 0 0 0 11 30 1 12 63 2 53 5 3 1 9 60 2 43 0 0 0 0 0 0 0 10 82 1 61 16 17 5 10 85 1 20 93 0 0 0 0 0 0 0 0 0 7 90 1 13 20 16 17 5 7 80 1 40 17 13 0 0 0 0 0 0 0 29 1 8 66 37 11 46 6 3 1 12 65 2 56 0 0 0 0 0 0 0 35 34 1 8 19 2 43 6 3 1 21 2 52 0 0 0 0 0 0 0 0 27 100 120 148 97 153 0 0 0 0 0 0 0 0 0 0 0 0 0 0 0 29 1 10 81 69 2 54 6 3 1 12 65 2 48 0 0 0 0 0 0 0 62 1 12 66 2 54 5 3 1 9 68 2 46 0 0 0 0 0 0 0 0 107 126 28 76 4 74 6 4 28 0 0 0 0 0 0 0 0 0 0 0 0 191 96 13 14 1 10 38 5 61 13 14 1 7 80 0 0 0 0 0 0 0 11 30 1 69 21 15 42 5 3 1 9 117 2 52 0 0 0 0 0 0 0 35 34 1 58 2 43 6 3 1 8 63 26 11 24 0 0 0 0 0 0 0 135 4 70 4 72 6 4 74 0 0 0 0 0 0 0 0 0 0 0 0 0 7 33 1 9 60 2 49 6 3 1 8 63 2 46 0 0 0 0 0 0 0 7 33 1 8 19 15 42 5 3 1 8 18 2 50 0 0 0 0 0 0 0 4 32 31 1 21 37 11 46 6 3 1 9 68 2 41 0 0 0 0 0 0 7 80 1 39 13 14 108 96 5 7 88 1 61 13 14 0 0 0 0 0 0 33 1 21 15 25 22 47 5 3 1 9 60 2 43 0 0 0 0 0 0 0 29 1 195 26 98 6 3 1 59 2 47 0 0 0 0 0 0 0 0 0 0 29 1 12 60 2 54 6 3 1 58 69 2 50 0 0 0 0 0 0 0 0 4 32 31 1 59 15 25 22 47 5 3 1 12 67 2 41 0 0 0 0 0 20 16 10 23 14 1 7 83 5 20 23 14 1 7 88 0 0 0 0 0 0 35 34 1 12 60 2 45 5 3 1 9 59 2 47 0 0 0 0 0 0 0 27 55 4 74 28 76 6 4 71 0 0 0 0 0 0 0 0 0 0 0 0 3 145 115 163 110 172 0 0 0 0 0 0 0 0 0 0 0 0 0 0 0 29 1 12 67 2 50 6 3 1 9 66 2 51 0 0 0 0 0 0 0 0 62 1 8 57 37 11 44 5 9 108 177 2 50 0 0 0 0 0 0 0 0 35 34 1 8 66 37 11 46 5 3 1 9 21 2 43 0 0 0 0 0 0 29 1 9 58 15 25 22 51 5 3 1 19 2 47 0 0 0 0 0 0 0 29 1 9 57 37 11 44 5 9 22 102 2 41 0 0 0 0 0 0 0 0 39 16 17 1 7 90 0 0 0 0 0 0 0 0 0 0 0 0 0 0 0 62 1 18 2 49 5 3 1 58 8 2 43 0 0 0 0 0 0 0 0 0 40 16 17 1 10 85 5 20 17 1 10 38 0 0 0 0 0 0 0 0 0 11 30 1 8 63 2 50 6 3 1 9 19 2 41 0 0 0 0 0 0 0 3 55 91 7 147 97 162 0 0 0 0 0 0 0 0 0 0 0 0 0 0 29 1 8 21 2 41 5 3 1 8 21 2 54 0 0 0 0 0 0 0 0 11 30 1 9 58 26 98 5 3 1 9 226 22 227 26 11 24 0 0 0 0 99 124 10 38 4 74 6 4 77 0 0 0 0 0 0 0 0 0 0 0 0 99 127 4 74 4 73 6 4 71 0 0 0 0 0 0 0 0 0 0 0 0 29 1 12 18 2 52 6 3 1 8 58 2 54 0 0 0 0 0 0 0 0 35 34 1 9 66 15 42 6 3 1 58 69 2 52 0 0 0 0 0 0 0 29 1 9 67 37 11 46 5 3 1 18 2 50 0 0 0 0 0 0 0 0 27 55 4 73 4 71 6 4 75 0 0 0 0 0 0 0 0 0 0 0 0 20 16 1 13 14 7 88 5 64 13 14 1 7 89 0 0 0 0 0 0 0 10 38 1 20 16 17 5 7 83 1 39 17 0 0 0 0 0 0 0 0 0 99 124 4 72 4 77 6 4 75 0 0 0 0 0 0 0 0 0 0 0 0 20 16 1 13 14 84 5 39 13 14 1 7 86 0 0 0 0 0 0 0 0 3 55 91 10 38 4 73 6 4 71 0 0 0 0 0 0 0 0 0 0 0 101 1 9 18 2 48 6 3 1 12 19 2 53 0 0 0 0 0 0 0 0 10 85 1 61 16 13 14 5 7 86 27 1 13 14 0 0 0 0 0 0 0 20 109 10 23 14 1 192 236 0 0 0 0 0 0 0 0 0 0 0 0 0 29 1 21 2 45 6 3 1 8 139 26 11 24 0 0 0 0 0 0 0 0 27 145 121 148 97 153 0 0 0 0 0 0 0 0 0 0 0 0 0 0 0 3 55 4 78 4 72 6 4 74 0 0 0 0 0 0 0 0 0 0 0 0 3 55 4 75 4 78 6 4 73 0 0 0 0 0 0 0 0 0 0 0 0 101 1 58 69 2 43 5 3 1 12 65 2 56 0 0 0 0 0 0 0 0 11 30 1 12 59 2 53 5 3 1 9 60 2 52 0 0 0 0 0 0 0 7 36 1 10 81 69 15 42 5 3 1 8 137 2 43 0 0 0 0 0 0 3 55 4 78 4 70 6 4 28 76 0 0 0 0 0 0 0 0 0 0 0 36 1 19 37 11 44 6 3 1 8 63 2 45 0 0 0 0 0 0 0 0 11 30 1 9 125 2 52 5 3 1 8 10 81 2 53 0 0 0 0 0 0 191 96 13 14 1 7 83 5 64 13 14 1 7 80 0 0 0 0 0 0 0 11 30 1 8 7 102 2 43 6 3 1 21 2 49 0 0 0 0 0 0 0 3 100 4 72 10 38 6 4 75 0 0 0 0 0 0 0 0 0 0 0 0 7 80 1 20 16 10 23 14 5 7 86 1 61 23 14 0 0 0 0 0 0 4 32 31 1 9 66 2 48 6 3 1 67 2 51 0 0 0 0 0 0 0 27 55 4 74 10 38 6 4 71 0 0 0 0 0 0 0 0 0 0 0 0 39 13 14 1 10 16 22 38 5 27 1 13 14 84 0 0 0 0 0 0 0 11 30 1 8 65 37 11 46 6 3 1 8 19 2 52 0 0 0 0 0 0 27 143 121 151 97 134 0 0 0 0 0 0 0 0 0 0 0 0 0 0 0 3 158 91 7 147 97 162 0 0 0 0 0 0 0 0 0 0 0 0 0 0 146 10 218 1 40 109 10 23 14 0 0 0 0 0 0 0 0 0 0 0 0 10 220 1 20 109 10 23 14 0 0 0 0 0 0 0 0 0 0 0 0 0 29 1 12 19 15 25 22 47 6 3 1 9 57 2 50 0 0 0 0 0 0 7 33 1 9 18 2 46 5 3 1 12 67 2 43 0 0 0 0 0 0 0 101 1 9 65 15 25 22 51 5 3 1 21 2 54 0 0 0 0 0 0 0 35 34 1 9 66 2 48 5 3 1 8 68 15 42 0 0 0 0 0 0 0 62 1 8 60 2 43 5 3 1 12 67 2 52 0 0 0 0 0 0 0 0 7 33 1 12 21 2 41 5 3 1 8 67 2 54 0 0 0 0 0 0 0 10 82 1 20 16 10 23 14 5 7 90 27 1 10 23 14 0 0 0 0 0 1 3 223 15 35 34 0 0 0 0 0 0 0 0 0 0 0 0 0 0 0 4 32 31 1 9 58 15 25 22 48 6 3 1 8 60 26 11 24 0 0 0 20 16 17 1 7 88 5 20 17 1 10 85 0 0 0 0 0 0 0 0 0 11 30 1 59 15 25 22 53 6 3 1 21 2 43 0 0 0 0 0 0 0 3 158 91 144 163 110 166 0 0 0 0 0 0 0 0 0 0 0 0 0 0 7 86 1 64 16 17 5 7 83 1 20 93 0 0 0 0 0 0 0 0 0 35 34 1 19 15 25 22 45 5 3 1 12 18 2 48 0 0 0 0 0 0 11 30 1 104 15 42 6 3 105 103 9 19 2 49 0 0 0 0 0 0 0 20 16 10 23 14 1 84 5 40 23 14 1 7 90 0 0 0 0 0 0 0 62 105 103 9 19 15 25 22 45 5 3 1 8 21 26 11 24 0 0 0 0 3 113 120 168 97 155 0 0 0 0 0 0 0 0 0 0 0 0 0 0 0 64 16 17 1 10 38 5 39 17 1 7 86 0 0 0 0 0 0 0 0 0 35 34 1 9 66 15 111 22 11 24 6 3 1 8 68 2 43 0 0 0 0 33 1 66 37 11 24 6 3 1 8 10 81 2 53 0 0 0 0 0 0 0 4 32 31 1 12 21 2 52 6 3 1 8 18 2 41 0 0 0 0 0 0 29 1 9 59 2 43 6 3 1 12 63 2 45 0 0 0 0 0 0 0 0 29 1 8 60 15 25 22 48 5 3 1 8 19 2 44 0 0 0 0 0 0 35 34 1 12 59 26 98 5 3 1 9 18 2 47 0 0 0 0 0 0 0 36 1 9 7 102 2 49 6 3 1 8 59 2 47 0 0 0 0 0 0 0 7 33 1 8 58 2 48 6 3 1 67 2 43 0 0 0 0 0 0 0 0 62 1 8 57 2 50 5 3 1 8 68 2 56 0 0 0 0 0 0 0 0 35 34 1 9 18 2 43 5 3 1 21 2 52 0 0 0 0 0 0 0 0 62 1 8 104 15 42 6 3 1 12 57 26 11 24 0 0 0 0 0 0 0 107 126 10 38 4 70 6 4 78 0 0 0 0 0 0 0 0 0 0 0 0 36 1 9 59 37 11 46 5 3 1 8 19 2 51 0 0 0 0 0 0 0 7 33 1 10 81 2 41 6 3 1 57 26 11 24 0 0 0 0 0 0 0 35 34 1 60 2 41 5 3 1 8 59 2 50 0 0 0 0 0 0 0 0 7 83 1 10 16 10 23 14 64 5 10 82 1 10 23 14 0 0 0 0 0 84 1 20 16 17 13 5 7 88 1 61 13 17 0 0 0 0 0 0 0 0 99 127 91 28 76 4 77 6 4 71 0 0 0 0 0 0 0 0 0 0 0 7 36 1 8 10 81 2 48 6 3 1 9 19 2 52 0 0 0 0 0 0 29 1 8 10 81 2 43 5 3 1 19 2 50 0 0 0 0 0 0 0 0 4 32 31 1 9 117 2 50 6 3 1 65 2 51 0 0 0 0 0 0 0 101 1 8 18 2 53 5 3 1 8 19 15 42 0 0 0 0 0 0 0 0 7 33 1 9 60 2 48 5 3 1 19 2 47 0 0 0 0 0 0 0 0 99 127 91 4 77 4 74 6 4 75 0 0 0 0 0 0 0 0 0 0 0 39 16 10 23 14 1 7 87 5 64 23 14 1 10 85 0 0 0 0 0 0 7 33 1 60 26 98 5 3 1 12 92 2 41 0 0 0 0 0 0 0 0 11 30 1 104 26 98 5 3 1 9 59 2 49 0 0 0 0 0 0 0 0 29 1 59 26 98 5 3 1 58 2 52 0 0 0 0 0 0 0 0 0 0 3 55 4 73 4 28 6 4 28 76 0 0 0 0 0 0 0 0 0 0 0 36 1 19 2 52 5 3 1 21 2 50 0 0 0 0 0 0 0 0 0 0 29 1 12 59 2 49 6 3 1 9 22 102 2 41 0 0 0 0 0 0 0 7 89 1 20 16 17 13 5 7 86 1 39 17 13 0 0 0 0 0 0 0 10 85 1 20 16 13 14 5 7 88 1 61 13 14 0 0 0 0 0 0 0 29 1 57 15 25 22 48 5 3 1 65 26 11 24 0 0 0 0 0 0 0 106 130 4 74 6 4 71 0 0 0 0 0 0 0 0 0 0 0 0 0 0 101 1 8 18 37 11 44 5 3 1 67 2 43 0 0 0 0 0 0 0 0 4 32 31 1 9 68 2 54 5 3 1 8 19 2 51 0 0 0 0 0 0 20 16 1 13 14 7 83 5 61 13 14 1 7 88 0 0 0 0 0 0 0 99 127 10 38 4 75 6 4 70 0 0 0 0 0 0 0 0 0 0 0 0 99 127 4 75 28 76 6 4 71 0 0 0 0 0 0 0 0 0 0 0 0 40 16 17 13 1 10 38 5 64 13 17 1 7 80 0 0 0 0 0 0 0 29 1 8 18 37 11 44 5 3 1 9 19 2 43 0 0 0 0 0 0 0 4 32 31 1 12 18 15 42 5 3 1 8 66 26 11 24 0 0 0 0 0 36 1 104 2 45 6 3 1 8 18 2 46 0 0 0 0 0 0 0 0 0 116 100 4 78 4 77 6 4 71 0 0 0 0 0 0 0 0 0 0 0 0 3 94 4 71 4 78 6 4 75 0 0 0 0 0 0 0 0 0 0 0 0 3 55 91 4 77 6 4 74 0 0 0 0 0 0 0 0 0 0 0 0 0 11 30 1 243 15 42 6 3 1 9 65 2 56 0 0 0 0 0 0 0 0 33 105 103 9 19 2 41 5 3 1 69 21 2 48 0 0 0 0 0 0 0 7 89 1 39 13 14 108 96 5 10 85 1 61 13 14 0 0 0 0 0 0 7 80 1 20 13 14 108 96 5 7 87 1 39 13 14 0 0 0 0 0 0 4 32 31 1 19 37 11 44 5 3 1 21 15 42 0 0 0 0 0 0 0 35 34 1 58 8 2 49 5 3 95 69 2 56 0 0 0 0 0 0 0 0 4 32 31 1 9 66 2 49 6 3 1 8 92 2 53 0 0 0 0 0 0 35 34 1 9 18 2 52 5 3 1 9 60 26 11 24 0 0 0 0 0 0 3 55 10 38 28 76 6 4 77 0 0 0 0 0 0 0 0 0 0 0 0 4 32 31 1 9 125 2 43 6 3 1 65 2 44 0 0 0 0 0 0 0 3 118 113 7 97 150 174 0 0 0 0 0 0 0 0 0 0 0 0 0 0 64 16 1 13 14 10 82 5 20 13 14 1 10 38 0 0 0 0 0 0 0 4 32 31 1 9 65 2 49 6 3 1 8 57 2 50 0 0 0 0 0 0 3 55 91 28 76 10 38 6 4 28 0 0 0 0 0 0 0 0 0 0 0 11 30 1 12 92 15 25 79 56 5 3 1 21 2 47 0 0 0 0 0 0 27 143 7 151 97 153 0 0 0 0 0 0 0 0 0 0 0 0 0 0 0 62 1 9 63 2 50 5 3 1 68 2 54 0 0 0 0 0 0 0 0 0 35 34 1 9 57 2 54 5 3 1 9 21 2 41 0 0 0 0 0 0 0 20 16 17 1 13 7 88 5 20 13 17 1 10 38 0 0 0 0 0 0 0 36 1 12 18 2 41 6 3 1 12 63 2 50 0 0 0 0 0 0 0 0 11 30 1 12 19 15 42 5 3 1 57 2 47 0 0 0 0 0 0 0 0 212 99 124 278 0 0 0 0 0 0 0 0 0 0 0 0 0 0 0 0 0 7 87 1 20 16 10 23 14 5 7 89 1 64 23 14 0 0 0 0 0 0 3 94 4 70 4 78 6 4 73 0 0 0 0 0 0 0 0 0 0 0 0 135 4 74 4 73 6 4 28 0 0 0 0 0 0 0 0 0 0 0 0 0 11 30 1 9 19 2 50 5 3 1 21 2 49 0 0 0 0 0 0 0 0 27 94 4 28 4 77 6 28 76 0 0 0 0 0 0 0 0 0 0 0 0 29 1 9 26 63 15 42 6 3 1 9 65 2 43 0 0 0 0 0 0 0 7 90 1 20 16 17 5 10 85 1 39 17 0 0 0 0 0 0 0 0 0 36 1 9 125 2 50 5 3 1 60 2 51 0 0 0 0 0 0 0 0 0 7 90 1 64 16 17 13 5 7 89 1 20 13 17 0 0 0 0 0 0 0 7 33 1 104 2 24 6 3 1 9 59 2 44 0 0 0 0 0 0 0 0 27 55 7 288 153 193 0 0 0 0 0 0 0 0 0 0 0 0 0 0 0 11 30 1 9 21 15 42 6 3 1 68 2 50 0 0 0 0 0 0 0 0 20 16 17 1 10 38 5 61 17 1 7 80 0 0 0 0 0 0 0 0 0 11 30 1 104 2 50 6 3 95 9 2 56 0 0 0 0 0 0 0 0 0 7 62 1 10 81 2 49 6 3 1 9 65 2 56 0 0 0 0 0 0 0 3 55 4 70 6 4 75 0 0 0 0 0 0 0 0 0 0 0 0 0 0 27 113 120 148 97 150 0 0 0 0 0 0 0 0 0 0 0 0 0 0 0 106 130 28 76 4 74 6 4 73 0 0 0 0 0 0 0 0 0 0 0 0 20 16 10 23 14 1 10 85 5 61 23 14 1 7 89 0 0 0 0 0 0 4 32 31 1 9 19 15 25 22 47 5 3 1 8 67 2 50 0 0 0 0 27 55 4 77 4 74 6 4 78 0 0 0 0 0 0 0 0 0 0 0 0 29 1 69 21 2 41 6 3 1 8 10 81 2 53 0 0 0 0 0 0 0 116 100 4 74 4 72 6 4 77 0 0 0 0 0 0 0 0 0 0 0 0 29 1 9 66 15 111 22 11 24 5 9 22 102 2 52 0 0 0 0 0 0 129 96 10 23 14 1 7 80 5 61 23 14 1 7 88 0 0 0 0 0 0 29 1 12 66 15 25 22 51 5 3 1 9 18 2 48 0 0 0 0 0 0 146 7 201 1 39 109 10 23 156 0 0 0 0 0 0 0 0 0 0 0 0 4 32 31 1 9 19 2 41 6 3 1 8 59 26 11 24 0 0 0 0 0 27 55 4 74 4 70 6 4 28 0 0 0 0 0 0 0 0 0 0 0 0 29 1 8 112 15 25 22 51 5 3 1 66 2 50 0 0 0 0 0 0 0 3 160 171 1 198 22 164 185 187 0 0 0 0 0 0 0 0 0 0 0 0 27 55 4 77 78 6 28 0 0 0 0 0 0 0 0 0 0 0 0 0 0 3 100 4 75 28 76 6 4 74 0 0 0 0 0 0 0 0 0 0 0 0 11 30 1 9 59 37 11 44 5 3 1 8 18 2 52 0 0 0 0 0 0 106 130 28 76 4 73 6 4 28 0 0 0 0 0 0 0 0 0 0 0 0 4 32 31 1 8 21 15 25 79 56 5 3 1 8 60 2 46 0 0 0 0 11 30 1 7 102 2 54 5 3 1 9 21 2 56 0 0 0 0 0 0 0 27 94 10 38 4 71 6 4 78 0 0 0 0 0 0 0 0 0 0 0 0 116 100 38 4 71 6 4 78 0 0 0 0 0 0 0 0 0 0 0 0 0 20 16 1 13 14 7 87 5 40 13 14 1 10 38 0 0 0 0 0 0 0 36 1 8 63 37 11 46 5 3 1 21 2 53 0 0 0 0 0 0 0 0 84 1 20 16 10 23 14 5 7 83 1 64 23 14 0 0 0 0 0 0 0 7 90 1 61 16 13 14 5 7 83 1 64 13 14 0 0 0 0 0 0 0 29 1 68 2 52 6 3 1 8 19 2 41 0 0 0 0 0 0 0 0 0 27 55 4 70 4 74 6 4 77 0 0 0 0 0 0 0 0 0 0 0 0 11 30 1 18 2 52 5 3 1 12 57 2 43 0 0 0 0 0 0 0 0 29 1 9 19 2 52 6 3 1 9 57 2 49 0 0 0 0 0 0 0 0 36 105 103 9 19 15 25 79 56 5 3 1 58 69 2 44 0 0 0 0 0 20 16 10 23 14 1 7 86 5 39 23 14 1 7 87 0 0 0 0 0 0 135 4 73 4 28 76 6 4 74 0 0 0 0 0 0 0 0 0 0 0 0 29 1 9 58 2 53 5 3 1 9 21 2 48 0 0 0 0 0 0 0 0 35 34 1 8 21 2 49 6 3 1 59 2 43 0 0 0 0 0 0 0 0 29 1 8 63 2 49 5 3 1 12 66 2 53 0 0 0 0 0 0 0 0 36 1 63 2 52 5 3 1 8 21 2 53 0 0 0 0 0 0 0 0 0 29 1 68 15 25 22 51 5 3 1 8 65 26 11 24 0 0 0 0 0 0 7 80 1 64 16 17 5 10 38 1 61 17 0 0 0 0 0 0 0 0 0 7 33 1 12 59 2 43 5 3 1 12 68 26 11 24 0 0 0 0 0 0 116 207 22 136 7 36 2 46 0 0 0 0 0 0 0 0 0 0 0 0 0 64 16 17 1 10 38 5 20 17 1 7 88 0 0 0 0 0 0 0 0 0 3 55 115 248 110 176 0 0 0 0 0 0 0 0 0 0 0 0 0 0 0 35 34 1 9 117 15 42 6 3 1 21 2 48 0 0 0 0 0 0 0 0 35 34 1 19 2 54 5 3 1 9 59 2 41 0 0 0 0 0 0 0 0 27 94 4 75 6 4 78 0 0 0 0 0 0 0 0 0 0 0 0 0 0 3 94 121 147 97 153 0 0 0 0 0 0 0 0 0 0 0 0 0 0 0 36 1 8 18 2 54 6 3 1 18 15 42 0 0 0 0 0 0 0 0 0 29 1 9 138 2 50 5 9 26 63 26 11 24 0 0 0 0 0 0 0 0 99 131 233 2 36 11 24 142 0 0 0 0 0 0 0 0 0 0 0 0 0 11 30 1 8 59 2 50 6 3 1 112 2 45 0 0 0 0 0 0 0 0 101 1 9 65 2 41 5 3 1 8 67 26 11 24 0 0 0 0 0 0 0 35 34 105 103 9 19 15 111 22 11 24 6 3 1 60 2 43 0 0 0 0 29 1 9 18 26 98 6 3 1 12 19 2 46 0 0 0 0 0 0 0 0 61 16 17 13 1 7 83 5 40 13 140 1 7 89 0 0 0 0 0 0 0 3 100 4 74 4 78 6 10 38 0 0 0 0 0 0 0 0 0 0 0 0 4 32 31 1 12 67 37 11 46 6 3 1 8 18 26 11 24 0 0 0 0 62 1 8 92 2 49 6 3 1 66 15 42 0 0 0 0 0 0 0 0 0 27 55 4 78 4 28 6 4 70 0 0 0 0 0 0 0 0 0 0 0 0 135 4 71 6 4 77 0 0 0 0 0 0 0 0 0 0 0 0 0 0 0 7 33 1 12 63 15 111 22 11 24 5 3 95 15 42 0 0 0 0 0 0 7 33 1 8 10 81 2 48 6 3 1 8 63 2 41 0 0 0 0 0 0 29 1 9 22 102 15 25 22 47 5 3 1 58 69 2 50 0 0 0 0 0 20 16 1 13 14 10 82 5 64 13 14 1 7 83 0 0 0 0 0 0 0 11 30 1 12 68 2 24 5 3 1 8 18 2 45 0 0 0 0 0 0 0 129 96 13 14 1 7 83 5 39 13 14 1 84 0 0 0 0 0 0 0 0 135 10 38 4 77 6 4 70 0 0 0 0 0 0 0 0 0 0 0 0 0 3 55 4 28 4 73 6 4 71 0 0 0 0 0 0 0 0 0 0 0 0 35 34 1 8 21 2 48 5 3 1 19 2 56 0 0 0 0 0 0 0 0 11 30 1 12 68 15 25 79 56 5 9 22 102 2 48 0 0 0 0 0 0 99 124 10 38 6 4 75 0 0 0 0 0 0 0 0 0 0 0 0 0 0 29 1 9 58 37 11 44 6 3 95 2 53 0 0 0 0 0 0 0 0 0 29 1 8 19 2 41 6 3 157 26 11 24 0 0 0 0 0 0 0 0 0 7 62 1 9 10 81 2 49 5 3 1 8 18 2 51 0 0 0 0 0 0 36 1 58 26 98 5 3 1 8 21 2 45 0 0 0 0 0 0 0 0 0 40 16 10 23 14 1 84 5 20 23 14 1 10 38 0 0 0 0 0 0 0 27 143 146 165 97 134 0 0 0 0 0 0 0 0 0 0 0 0 0 0 0 7 86 1 61 16 13 14 5 7 88 1 64 13 14 0 0 0 0 0 0 0 11 30 1 8 21 37 11 46 5 3 1 12 92 2 48 0 0 0 0 0 0 115 216 122 20 109 17 13 0 0 0 0 0 0 0 0 0 0 0 0 0 0 107 126 4 77 4 75 6 4 72 0 0 0 0 0 0 0 0 0 0 0 0 107 126 4 78 4 74 6 4 70 0 0 0 0 0 0 0 0 0 0 0 0 3 143 10 248 110 134 0 0 0 0 0 0 0 0 0 0 0 0 0 0 0 11 30 1 10 81 2 45 5 3 1 8 67 2 53 0 0 0 0 0 0 0 35 34 1 9 65 2 52 5 3 1 9 19 2 48 0 0 0 0 0 0 0 27 1 10 344 22 7 224 97 134 0 0 0 0 0 0 0 0 0 0 0 0 62 1 9 19 2 41 5 3 1 12 65 2 56 0 0 0 0 0 0 0 0 10 82 1 64 16 17 13 5 7 88 1 20 13 17 0 0 0 0 0 0 0 35 34 1 10 81 37 11 46 5 3 1 8 63 2 49 0 0 0 0 0 0 27 178 22 167 181 2 62 2 50 0 0 0 0 0 0 0 0 0 0 0 0 4 32 31 1 21 15 25 22 53 6 3 1 12 21 2 41 0 0 0 0 0 27 55 4 71 4 28 6 4 28 76 0 0 0 0 0 0 0 0 0 0 0 3 55 91 10 38 4 71 6 4 28 0 0 0 0 0 0 0 0 0 0 0 20 16 17 1 10 85 5 40 93 1 7 83 0 0 0 0 0 0 0 0 0 7 33 1 9 58 2 49 6 3 1 12 19 2 41 0 0 0 0 0 0 0 263 179 209 141 175 0 0 0 0 0 0 0 0 0 0 0 0 0 0 0 0 4 32 31 1 7 102 2 45 5 3 105 103 9 19 2 52 0 0 0 0 0 7 33 1 12 18 2 43 5 3 95 9 2 49 0 0 0 0 0 0 0 0 62 1 69 21 15 42 5 9 108 177 2 54 0 0 0 0 0 0 0 0 0 36 1 9 117 2 43 6 3 1 8 65 2 44 0 0 0 0 0 0 0 0 4 32 31 1 8 21 2 52 6 3 1 8 57 26 11 24 0 0 0 0 0 64 16 17 1 84 5 20 93 1 7 88 0 0 0 0 0 0 0 0 0 0 20 16 17 13 1 7 80 5 39 17 13 1 7 90 0 0 0 0 0 0 0 99 124 4 72 4 28 6 4 159 0 0 0 0 0 0 0 0 0 0 0 0 35 34 1 21 2 52 5 3 1 8 21 2 54 0 0 0 0 0 0 0 0 7 36 1 8 306 2 50 6 3 1 8 112 2 52 0 0 0 0 0 0 0 4 32 31 1 21 15 25 22 45 5 3 1 8 21 15 42 0 0 0 0 0 40 16 1 13 14 7 80 5 61 13 14 1 7 86 0 0 0 0 0 0 0 35 34 1 12 60 2 51 6 3 1 12 65 2 43 0 0 0 0 0 0 0 7 33 1 9 18 15 25 22 47 5 3 1 8 66 2 51 0 0 0 0 0 35 34 1 12 63 15 111 22 11 24 5 3 1 8 66 2 56 0 0 0 0 33 1 57 2 43 6 3 1 12 19 2 50 0 0 0 0 0 0 0 0 0 29 1 12 59 2 52 6 3 1 9 65 2 45 0 0 0 0 0 0 0 0 20 16 10 23 14 1 10 38 5 61 23 14 1 10 82 0 0 0 0 0 0 135 4 71 4 72 6 10 38 0 0 0 0 0 0 0 0 0 0 0 0 0 39 16 17 1 7 80 5 20 17 1 10 85 0 0 0 0 0 0 0 0 0 7 33 1 9 19 2 48 6 3 1 57 2 50 0 0 0 0 0 0 0 0 11 30 1 8 18 15 25 22 47 6 3 95 9 2 41 0 0 0 0 0 0 7 89 1 20 16 13 14 0 0 0 0 0 0 0 0 0 0 0 0 0 0 62 1 12 63 2 50 5 3 1 12 19 2 48 0 0 0 0 0 0 0 0 35 34 1 63 37 11 44 6 3 1 9 68 2 50 0 0 0 0 0 0 0 64 16 17 1 13 84 5 39 17 13 1 7 90 0 0 0 0 0 0 0 0 29 1 9 125 2 48 6 3 1 67 26 11 24 0 0 0 0 0 0 0 0 29 1 8 18 2 41 6 3 1 9 68 2 43 0 0 0 0 0 0 0 0 27 145 120 148 97 150 0 0 0 0 0 0 0 0 0 0 0 0 0 0 0 146 11 219 122 20 109 10 23 14 0 0 0 0 0 0 0 0 0 0 0 0 99 124 4 71 4 73 6 4 74 0 0 0 0 0 0 0 0 0 0 0 0 35 34 1 7 102 2 41 6 3 1 8 137 2 52 0 0 0 0 0 0 0 29 1 8 112 37 11 46 6 3 1 9 21 2 48 0 0 0 0 0 0 0 3 94 4 71 10 38 6 4 74 0 0 0 0 0 0 0 0 0 0 0 0 106 130 4 73 4 72 6 4 28 76 0 0 0 0 0 0 0 0 0 0 0 27 55 28 76 4 28 6 4 77 0 0 0 0 0 0 0 0 0 0 0 0 4 32 31 1 12 18 2 52 5 3 1 12 21 2 53 0 0 0 0 0 0 33 1 21 2 54 6 3 1 9 57 2 43 0 0 0 0 0 0 0 0 0 27 158 91 144 183 110 172 0 0 0 0 0 0 0 0 0 0 0 0 0 0 3 55 4 70 4 75 6 4 28 0 0 0 0 0 0 0 0 0 0 0 0 3 94 4 70 4 28 6 4 74 0 0 0 0 0 0 0 0 0 0 0 0 29 1 9 66 2 48 5 3 1 9 125 2 44 0 0 0 0 0 0 0 0 11 30 1 12 60 2 51 6 3 1 8 18 26 11 24 0 0 0 0 0 0 3 118 113 144 200 110 133 0 0 0 0 0 0 0 0 0 0 0 0 0 0 99 124 4 78 4 77 6 4 74 0 0 0 0 0 0 0 0 0 0 0 0 40 16 17 13 1 7 83 5 61 13 17 1 7 80 0 0 0 0 0 0 0 62 1 8 104 26 98 5 3 1 60 2 45 0 0 0 0 0 0 0 0 0 20 16 17 1 7 88 5 40 93 1 7 87 0 0 0 0 0 0 0 0 0 27 158 91 7 151 97 153 0 0 0 0 0 0 0 0 0 0 0 0 0 0 36 1 8 66 2 50 6 3 1 12 19 15 42 0 0 0 0 0 0 0 0 7 33 1 10 81 2 43 5 3 1 59 2 47 0 0 0 0 0 0 0 0 39 16 17 1 7 83 5 20 93 1 7 88 0 0 0 0 0 0 0 0 0 4 32 31 1 9 60 15 25 22 51 5 3 1 9 21 2 45 0 0 0 0 101 1 8 18 15 25 22 47 5 3 95 69 2 52 0 0 0 0 0 0 0 7 33 1 8 63 2 48 5 3 1 8 57 2 52 0 0 0 0 0 0 0 107 132 4 71 6 4 28 0 0 0 0 0 0 0 0 0 0 0 0 0 0 11 30 1 9 22 102 2 45 6 3 1 8 18 15 42 0 0 0 0 0 0 27 55 121 148 97 150 0 0 0 0 0 0 0 0 0 0 0 0 0 0 0 4 32 31 1 12 66 2 53 6 3 1 9 58 2 41 0 0 0 0 0 0 10 85 1 64 16 17 13 5 7 89 1 40 17 13 0 0 0 0 0 0 0 35 34 1 9 65 2 48 6 3 1 8 66 15 42 0 0 0 0 0 0 0 7 33 1 9 19 2 45 5 9 108 177 2 43 0 0 0 0 0 0 0 0 35 34 1 18 2 41 6 3 1 8 59 2 54 0 0 0 0 0 0 0 0 27 55 120 97 155 174 0 0 0 0 0 0 0 0 0 0 0 0 0 0 0 4 32 31 1 12 92 37 11 24 5 3 1 9 19 2 53 0 0 0 0 0 4 32 31 1 8 19 37 11 44 6 3 1 8 65 2 49 0 0 0 0 0 29 1 12 92 2 48 6 3 1 21 26 11 24 0 0 0 0 0 0 0 0 4 32 31 1 12 18 2 41 6 3 1 8 66 2 24 0 0 0 0 0 0 61 16 17 1 10 38 5 40 93 1 10 82 0 0 0 0 0 0 0 0 0 4 32 31 1 9 104 26 98 6 3 1 8 57 2 50 0 0 0 0 0 0 263 179 209 141 4 13 175 0 0 0 0 0 0 0 0 0 0 0 0 0 0 7 33 1 8 58 2 41 5 3 1 69 21 2 54 0 0 0 0 0 0 0 36 1 8 137 2 54 5 3 1 12 59 2 49 0 0 0 0 0 0 0 0 106 128 91 4 28 4 78 6 4 77 0 0 0 0 0 0 0 0 0 0 0 40 16 10 23 14 1 10 38 5 39 23 14 1 7 83 0 0 0 0 0 0 62 1 8 67 2 49 5 9 59 2 54 0 0 0 0 0 0 0 0 0 0 7 33 1 8 92 2 50 6 3 1 8 57 2 46 0 0 0 0 0 0 0 4 32 31 1 9 21 15 25 79 54 5 3 1 67 2 53 0 0 0 0 0 29 1 8 18 15 25 79 56 5 3 1 12 19 2 53 0 0 0 0 0 0 7 36 1 8 92 2 54 6 3 1 9 57 2 41 0 0 0 0 0 0 0 11 30 1 12 18 2 24 5 3 1 9 57 2 46 0 0 0 0 0 0 0 11 30 1 19 2 54 5 3 1 12 18 2 56 0 0 0 0 0 0 0 0 106 130 4 73 4 28 6 4 77 0 0 0 0 0 0 0 0 0 0 0 0 235 1 115 290 180 10 277 0 0 0 0 0 0 0 0 0 0 0 0 0 0 35 34 1 10 81 69 26 98 6 3 1 8 59 2 49 0 0 0 0 0 0 36 1 9 10 81 37 11 24 6 3 1 12 18 2 52 0 0 0 0 0 0 61 16 1 13 14 10 85 5 27 1 13 14 7 80 0 0 0 0 0 0 0 62 1 9 7 102 2 52 6 3 1 9 68 2 47 0 0 0 0 0 0 0 101 1 9 195 37 11 44 6 3 1 8 18 26 11 24 0 0 0 0 0 0 40 13 14 1 10 16 22 38 5 39 13 14 1 7 80 0 0 0 0 0 0 29 1 12 67 15 111 22 11 24 6 3 1 21 2 54 0 0 0 0 0 0 35 34 1 8 67 15 42 5 3 1 9 68 2 56 0 0 0 0 0 0 0 20 16 1 13 14 7 80 5 39 13 14 1 7 87 0 0 0 0 0 0 0 3 55 4 70 4 28 76 6 4 78 0 0 0 0 0 0 0 0 0 0 0 7 33 1 9 104 26 98 6 3 1 67 2 41 0 0 0 0 0 0 0 0 27 55 121 151 97 153 0 0 0 0 0 0 0 0 0 0 0 0 0 0 0 7 33 1 12 68 15 42 6 3 1 8 57 2 54 0 0 0 0 0 0 0 62 1 8 60 2 54 6 3 1 8 137 2 51 0 0 0 0 0 0 0 0 7 33 1 9 104 15 42 6 3 1 9 65 2 46 0 0 0 0 0 0 0 4 32 31 1 10 81 69 2 53 5 3 1 9 18 15 42 0 0 0 0 0 10 38 1 64 16 17 13 5 7 80 1 61 13 17 0 0 0 0 0 0 0 106 130 4 73 4 72 6 4 70 0 0 0 0 0 0 0 0 0 0 0 0 129 96 13 14 1 7 86 5 20 13 14 1 84 0 0 0 0 0 0 0 0 4 32 31 1 8 59 2 49 5 3 1 8 65 26 11 24 0 0 0 0 0 106 130 4 28 4 71 6 10 38 0 0 0 0 0 0 0 0 0 0 0 0 84 1 13 39 16 17 5 7 88 1 20 13 17 0 0 0 0 0 0 0 0 27 204 123 15 35 34 0 0 0 0 0 0 0 0 0 0 0 0 0 0 0 27 118 149 121 97 166 154 0 0 0 0 0 0 0 0 0 0 0 0 0 0 7 62 1 10 81 69 2 45 6 3 1 12 92 2 56 0 0 0 0 0 0 20 16 1 13 14 10 85 5 40 13 14 1 7 88 0 0 0 0 0 0 0 7 201 1 20 109 17 13 0 0 0 0 0 0 0 0 0 0 0 0 0 0 29 1 21 15 25 22 47 6 3 103 19 15 42 0 0 0 0 0 0 0 0 35 34 1 60 15 25 22 45 5 3 1 65 26 11 24 0 0 0 0 0 0 11 30 1 63 15 111 22 11 24 6 3 1 8 67 2 54 0 0 0 0 0 3 55 91 4 73 4 28 76 6 72 0 0 0 0 0 0 0 0 0 0 0 40 16 10 23 14 1 7 86 5 20 23 14 1 7 87 0 0 0 0 0 0 29 1 8 18 15 42 6 3 1 8 21 2 43 0 0 0 0 0 0 0 0 10 85 1 20 16 17 13 5 10 82 1 64 13 17 0 0 0 0 0 0 0 4 32 31 1 8 65 2 41 6 3 103 19 2 49 0 0 0 0 0 0 0 11 30 1 9 60 26 98 5 3 1 12 63 2 50 0 0 0 0 0 0 0 61 13 14 16 1 10 82 5 39 13 14 1 7 80 0 0 0 0 0 0 0 106 128 91 4 78 4 28 76 6 4 71 0 0 0 0 0 0 0 0 0 0 7 90 1 20 16 13 14 5 10 38 253 1 13 14 0 0 0 0 0 0 0 36 1 9 138 2 51 6 3 1 12 63 2 49 0 0 0 0 0 0 0 0 64 16 17 1 13 7 86 0 0 0 0 0 0 0 0 0 0 0 0 0 0 7 86 1 20 16 17 13 5 7 88 1 64 13 140 0 0 0 0 0 0 0 4 32 31 1 58 8 15 25 22 45 6 3 1 67 2 54 0 0 0 0 0 29 1 8 21 15 25 22 51 6 3 1 60 2 41 0 0 0 0 0 0 0 35 34 1 12 63 2 51 6 3 103 19 2 44 0 0 0 0 0 0 0 0 29 1 9 67 15 25 79 56 5 3 1 9 125 2 52 0 0 0 0 0 0 101 1 8 67 2 53 5 3 1 19 2 51 0 0 0 0 0 0 0 0 0 20 16 17 13 1 7 80 5 39 17 1 10 13 38 0 0 0 0 0 0 0 61 16 17 1 7 83 5 20 93 1 7 88 0 0 0 0 0 0 0 0 0 35 34 1 8 63 37 11 46 5 3 1 12 60 2 49 0 0 0 0 0 0 35 34 1 9 58 26 98 5 3 1 9 18 2 53 0 0 0 0 0 0 0 3 113 121 168 97 133 0 0 0 0 0 0 0 0 0 0 0 0 0 0 0 11 30 1 8 59 2 49 5 3 1 21 2 44 0 0 0 0 0 0 0 0 3 100 4 75 4 72 4 28 6 4 0 0 0 0 0 0 0 0 0 0 0 7 87 1 64 16 13 14 5 7 90 1 20 13 14 0 0 0 0 0 0 0 7 80 1 40 16 10 23 14 5 7 90 1 64 23 14 0 0 0 0 0 0 36 1 7 102 15 42 6 3 1 12 19 2 53 0 0 0 0 0 0 0 0 29 1 12 18 2 45 5 3 1 12 60 2 48 0 0 0 0 0 0 0 0 29 1 12 63 37 11 44 5 3 1 9 18 2 52 0 0 0 0 0 0 0 29 1 60 15 111 285 42 6 3 1 8 21 2 45 0 0 0 0 0 0 0 62 1 8 19 15 25 79 56 6 3 1 8 92 15 42 0 0 0 0 0 0 116 160 171 1 196 22 164 161 186 6 189 0 0 0 0 0 0 0 0 0 0 4 32 31 1 8 66 2 41 5 3 1 18 2 48 0 0 0 0 0 0 0 36 1 8 67 2 41 5 3 1 21 2 53 0 0 0 0 0 0 0 0 0 27 55 4 71 4 74 6 4 77 0 0 0 0 0 0 0 0 0 0 0 0 36 1 9 22 102 37 11 46 6 3 1 68 2 53 0 0 0 0 0 0 0 36 1 12 67 2 54 5 3 1 68 2 41 0 0 0 0 0 0 0 0 0 3 55 146 11 193 150 165 0 0 0 0 0 0 0 0 0 0 0 0 0 0 3 55 91 28 76 4 77 6 4 75 0 0 0 0 0 0 0 0 0 0 0 7 90 1 61 16 17 13 5 7 89 1 20 13 17 0 0 0 0 0 0 0 29 1 8 19 2 54 5 3 1 57 2 49 0 0 0 0 0 0 0 0 0 7 33 1 8 18 2 48 5 3 1 9 57 2 47 0 0 0 0 0 0 0 4 32 31 1 12 18 15 111 22 11 24 6 3 1 58 8 2 45 0 0 0 170 141 131 108 258 4 23 206 0 0 0 0 0 0 0 0 0 0 0 0 0 107 126 4 28 4 74 6 4 72 0 0 0 0 0 0 0 0 0 0 0 0 107 132 4 28 4 77 6 4 74 0 0 0 0 0 0 0 0 0 0 0 0 39 16 10 23 14 1 7 83 5 20 23 14 1 10 38 0 0 0 0 0 0 36 1 60 15 25 79 56 6 3 1 9 21 2 53 0 0 0 0 0 0 0 3 113 121 151 97 133 0 0 0 0 0 0 0 0 0 0 0 0 0 0 0 4 32 31 1 10 81 69 15 25 22 45 5 3 1 12 60 2 43 0 0 0 29 1 9 104 37 11 44 6 3 95 69 2 51 0 0 0 0 0 0 0 0 29 1 58 69 15 25 22 51 5 3 1 9 117 15 42 0 0 0 0 0 0 4 32 31 1 9 18 15 25 22 47 5 3 1 8 65 2 44 0 0 0 0 62 1 8 92 2 24 6 3 1 8 65 2 49 0 0 0 0 0 0 0 0 101 1 19 37 11 44 5 3 1 65 2 51 0 0 0 0 0 0 0 0 0 20 109 10 23 14 122 146 7 201 0 0 0 0 0 0 0 0 0 0 0 0 7 86 1 64 16 10 23 119 5 10 82 1 61 23 14 0 0 0 0 0 0 11 30 1 9 67 15 25 22 47 5 3 1 21 2 50 0 0 0 0 0 0 7 33 1 8 60 15 25 22 45 5 3 1 9 57 2 54 0 0 0 0 0 7 87 1 10 16 10 23 119 5 10 85 27 1 10 23 14 0 0 0 0 0 39 16 17 1 13 7 89 5 64 13 17 1 10 38 0 0 0 0 0 0 0 3 55 10 38 4 73 6 4 28 0 0 0 0 0 0 0 0 0 0 0 0 4 32 31 1 9 66 37 11 44 6 3 1 8 65 2 41 0 0 0 0 0 35 34 1 10 81 2 51 5 3 1 67 2 45 0 0 0 0 0 0 0 0 99 124 4 71 4 28 6 4 74 0 0 0 0 0 0 0 0 0 0 0 0 7 89 1 20 16 13 14 5 7 86 27 1 13 14 0 0 0 0 0 0 0 62 1 57 2 48 6 3 1 8 67 2 53 0 0 0 0 0 0 0 0 0 7 33 1 9 65 2 41 6 3 1 8 18 2 44 0 0 0 0 0 0 0 62 105 103 9 19 2 53 5 3 1 8 18 2 48 0 0 0 0 0 0 0 99 124 4 70 4 74 6 4 71 0 0 0 0 0 0 0 0 0 0 0 0 40 109 10 23 14 122 121 201 0 0 0 0 0 0 0 0 0 0 0 0 0 7 36 1 12 59 15 25 22 47 5 3 1 12 57 2 24 0 0 0 0 0 27 55 4 70 10 38 6 4 73 0 0 0 0 0 0 0 0 0 0 0 0 35 34 1 12 18 2 43 5 3 1 63 2 48 0 0 0 0 0 0 0 0 4 32 31 1 12 92 37 11 46 5 3 1 12 68 2 49 0 0 0 0 0 106 130 4 73 6 4 77 0 0 0 0 0 0 0 0 0 0 0 0 0 0 62 1 12 19 2 45 6 3 1 18 2 49 0 0 0 0 0 0 0 0 0 3 55 4 73 4 71 6 4 77 0 0 0 0 0 0 0 0 0 0 0 0 3 100 4 75 28 76 6 10 38 0 0 0 0 0 0 0 0 0 0 0 0 101 1 60 15 25 22 47 6 3 1 9 18 2 52 0 0 0 0 0 0 0 135 4 74 4 78 6 4 28 0 0 0 0 0 0 0 0 0 0 0 0 0 33 1 59 15 25 22 47 6 3 1 63 26 11 24 0 0 0 0 0 0 0 29 1 65 37 11 44 5 3 1 9 57 15 42 0 0 0 0 0 0 0 0 33 105 103 9 19 37 11 44 6 3 1 65 2 49 0 0 0 0 0 0 0 29 1 9 65 37 11 46 5 3 1 12 18 2 48 0 0 0 0 0 0 0 107 208 120 254 2 36 2 51 0 0 0 0 0 0 0 0 0 0 0 0 0 7 86 1 20 16 17 5 7 80 1 39 17 0 0 0 0 0 0 0 0 0 152 96 10 23 14 1 84 5 39 23 14 1 7 89 0 0 0 0 0 0 0 152 96 10 23 14 1 7 86 5 39 23 14 1 7 89 0 0 0 0 0 0 39 16 1 13 14 7 80 5 64 13 14 1 7 88 0 0 0 0 0 0 0 11 30 1 8 18 2 43 6 3 1 8 10 81 2 52 0 0 0 0 0 0 10 38 1 20 13 14 108 96 5 7 80 1 40 13 14 0 0 0 0 0 0 40 16 10 23 14 1 7 86 0 0 0 0 0 0 0 0 0 0 0 0 0 107 132 4 78 4 71 6 4 28 0 0 0 0 0 0 0 0 0 0 0 0 7 36 1 8 57 15 25 79 56 5 3 1 58 69 2 43 0 0 0 0 0 27 118 113 121 168 97 134 0 0 0 0 0 0 0 0 0 0 0 0 0 0 27 118 113 121 168 97 162 0 0 0 0 0 0 0 0 0 0 0 0 0 0 62 1 12 57 2 54 6 3 1 12 60 2 48 0 0 0 0 0 0 0 0 11 30 1 69 65 15 25 22 47 6 3 1 12 21 15 42 0 0 0 0 0 29 1 8 19 15 42 6 3 1 12 18 2 45 0 0 0 0 0 0 0 0 3 55 91 4 75 4 78 6 28 0 0 0 0 0 0 0 0 0 0 0 0 7 33 1 8 58 37 11 44 6 3 1 12 65 2 56 0 0 0 0 0 0 11 30 1 249 15 25 79 56 5 3 1 12 21 26 11 24 0 0 0 0 0 35 34 1 12 19 15 42 5 3 1 9 18 2 45 0 0 0 0 0 0 0 7 88 1 61 16 13 14 5 7 86 27 1 13 14 0 0 0 0 0 0 0 29 1 66 2 49 5 3 1 12 65 2 44 0 0 0 0 0 0 0 0 0 99 127 4 73 4 74 6 4 28 76 0 0 0 0 0 0 0 0 0 0 0 33 1 58 37 11 44 5 3 1 68 2 53 0 0 0 0 0 0 0 0 0 27 158 91 7 151 97 153 0 0 0 0 0 0 0 0 0 0 0 0 0 0 7 90 1 20 16 17 5 10 82 1 39 17 0 0 0 0 0 0 0 0 0 205 229 99 10 277 0 0 0 0 0 0 0 0 0 0 0 0 0 0 0 0 20 16 17 1 7 89 5 20 17 1 10 85 0 0 0 0 0 0 0 0 0 7 33 1 12 63 15 42 6 3 1 8 60 2 54 0 0 0 0 0 0 0 62 1 9 19 2 43 5 3 1 60 2 41 0 0 0 0 0 0 0 0 0 10 85 1 39 16 17 13 5 7 87 1 7 13 140 0 0 0 0 0 0 0 7 33 1 12 67 2 43 5 3 1 8 59 2 51 0 0 0 0 0 0 0 7 80 1 39 16 17 5 7 83 1 20 93 0 0 0 0 0 0 0 0 0 10 85 1 61 16 10 23 14 5 10 82 1 7 23 242 0 0 0 0 0 0 7 90 1 13 39 16 17 5 10 82 1 20 13 17 0 0 0 0 0 0 0 29 1 19 2 49 5 3 1 18 2 46 0 0 0 0 0 0 0 0 0 0 20 16 17 13 1 7 89 5 40 13 17 1 7 83 0 0 0 0 0 0 0 40 16 10 23 14 1 7 88 5 39 23 14 1 7 80 0 0 0 0 0 0 29 1 12 19 2 48 6 3 1 8 139 2 50 0 0 0 0 0 0 0 0 84 1 13 39 16 17 5 7 87 1 7 13 140 0 0 0 0 0 0 0 0 27 55 4 28 6 4 159 0 0 0 0 0 0 0 0 0 0 0 0 0 0 29 1 8 66 15 25 22 47 5 3 1 67 2 46 0 0 0 0 0 0 0 3 143 120 97 134 165 0 0 0 0 0 0 0 0 0 0 0 0 0 0 0 36 1 8 63 37 11 24 6 3 1 12 65 2 53 0 0 0 0 0 0 0 116 100 91 4 71 4 70 6 4 28 76 0 0 0 0 0 0 0 0 0 0 62 1 12 18 2 41 5 3 1 8 57 2 52 0 0 0 0 0 0 0 0 7 33 1 104 15 25 22 47 6 3 1 60 2 48 0 0 0 0 0 0 0 62 1 8 59 2 43 5 3 1 66 2 53 0 0 0 0 0 0 0 0 0 7 33 1 8 104 2 53 6 3 1 57 9 26 11 24 0 0 0 0 0 0 35 34 1 8 18 2 49 5 3 1 8 57 2 24 0 0 0 0 0 0 0 7 33 1 12 92 2 50 5 3 95 69 2 51 0 0 0 0 0 0 0 0 106 130 4 74 6 4 72 0 0 0 0 0 0 0 0 0 0 0 0 0 0 4 32 31 1 8 60 2 54 5 3 1 12 18 2 53 0 0 0 0 0 0 4 32 31 1 112 2 54 6 3 1 68 2 51 0 0 0 0 0 0 0 0 27 94 4 73 4 28 76 6 72 0 0 0 0 0 0 0 0 0 0 0 0 29 1 8 18 2 53 6 3 103 19 2 47 0 0 0 0 0 0 0 0 0 99 240 123 2 36 2 52 114 0 0 0 0 0 0 0 0 0 0 0 0 0 39 16 17 1 84 5 20 17 1 7 87 0 0 0 0 0 0 0 0 0 0 7 62 1 8 10 81 2 43 6 3 1 12 68 2 46 0 0 0 0 0 0 29 1 12 68 15 42 5 3 1 65 2 46 0 0 0 0 0 0 0 0 0 101 1 58 69 26 98 6 3 1 9 19 2 49 0 0 0 0 0 0 0 0 20 109 10 23 156 122 10 221 0 0 0 0 0 0 0 0 0 0 0 0 0 27 94 115 110 182 169 0 0 0 0 0 0 0 0 0 0 0 0 0 0 0 7 62 1 9 58 15 42 5 3 1 8 66 2 41 0 0 0 0 0 0 0 35 34 1 9 10 81 37 11 44 5 3 1 112 2 47 0 0 0 0 0 0 7 87 1 61 16 13 14 5 10 82 1 40 13 14 0 0 0 0 0 0 0 35 34 1 10 81 37 11 24 6 3 1 63 2 46 0 0 0 0 0 0 0 62 1 63 15 25 79 56 6 3 1 12 21 2 50 0 0 0 0 0 0 0 135 4 73 4 159 6 4 71 0 0 0 0 0 0 0 0 0 0 0 0 0 11 30 1 10 81 69 2 50 6 3 1 9 57 2 56 0 0 0 0 0 0 7 87 1 7 13 14 108 96 5 7 90 1 40 13 14 0 0 0 0 0 0 116 100 91 4 75 4 78 6 28 0 0 0 0 0 0 0 0 0 0 0 0 27 55 4 77 4 71 6 4 78 0 0 0 0 0 0 0 0 0 0 0 0 106 128 91 4 77 4 78 6 4 74 0 0 0 0 0 0 0 0 0 0 0 7 33 1 8 18 15 42 6 3 1 59 2 54 0 0 0 0 0 0 0 0 35 34 1 8 66 2 54 5 3 1 12 18 2 51 0 0 0 0 0 0 0 7 86 1 61 16 17 13 5 7 87 1 64 13 140 0 0 0 0 0 0 0 20 16 17 1 13 10 82 5 40 13 17 1 10 38 0 0 0 0 0 0 0 4 32 31 1 8 66 2 48 6 3 1 12 21 2 41 0 0 0 0 0 0 62 1 8 21 2 45 6 3 103 19 2 53 0 0 0 0 0 0 0 0 0 3 158 91 144 110 166 154 0 0 0 0 0 0 0 0 0 0 0 0 0 0 3 178 22 136 29 15 42 0 0 0 0 0 0 0 0 0 0 0 0 0 0 10 82 1 40 16 10 23 14 5 7 87 1 7 23 242 0 0 0 0 0 0 40 16 17 1 13 7 88 5 64 13 17 1 7 80 0 0 0 0 0 0 0 62 1 9 104 26 98 6 3 1 19 2 44 0 0 0 0 0 0 0 0 0 29 1 12 63 2 45 6 3 1 8 21 2 52 0 0 0 0 0 0 0 0 152 96 10 23 14 1 10 38 5 40 23 14 1 84 0 0 0 0 0 0 0 39 109 17 1 13 10 221 0 0 0 0 0 0 0 0 0 0 0 0 0 0 7 87 1 10 16 10 23 14 64 5 10 82 1 39 23 14 0 0 0 0 0 4 32 31 1 8 66 2 49 6 3 1 12 68 2 51 0 0 0 0 0 0 11 30 1 12 19 37 11 24 6 3 1 9 65 2 54 0 0 0 0 0 0 62 1 66 2 50 6 3 1 9 57 2 45 0 0 0 0 0 0 0 0 0 4 32 31 1 67 26 98 6 3 1 12 18 2 43 0 0 0 0 0 0 0 27 55 10 184 110 133 0 0 0 0 0 0 0 0 0 0 0 0 0 0 0 7 33 1 12 67 2 49 5 3 1 65 2 46 0 0 0 0 0 0 0 0 7 87 1 40 13 14 108 96 5 84 27 1 13 14 0 0 0 0 0 0 0 20 16 1 13 14 10 85 5 39 13 14 1 10 38 0 0 0 0 0 0 0 3 94 4 28 4 74 6 4 70 0 0 0 0 0 0 0 0 0 0 0 0 27 1 234 2 48 142 2 62 0 0 0 0 0 0 0 0 0 0 0 0 0 7 33 1 8 59 2 52 5 3 1 9 117 2 41 0 0 0 0 0 0 0 35 34 1 10 81 69 15 25 22 51 6 3 1 9 68 2 56 0 0 0 0 11 30 1 12 60 2 50 6 3 1 57 2 43 0 0 0 0 0 0 0 0 11 30 1 9 26 63 15 42 5 3 1 19 2 43 0 0 0 0 0 0 0 61 16 17 1 7 83 5 20 17 1 10 38 0 0 0 0 0 0 0 0 0 152 96 10 23 14 1 10 85 5 64 23 14 1 7 90 0 0 0 0 0 0 101 1 12 59 2 51 5 3 1 18 2 49 0 0 0 0 0 0 0 0 0 29 1 66 15 42 5 3 1 58 2 45 0 0 0 0 0 0 0 0 0 0 101 1 9 60 2 43 5 9 22 102 26 11 24 0 0 0 0 0 0 0 0 7 33 1 12 59 2 51 6 3 1 9 104 26 11 24 0 0 0 0 0 0 29 1 21 26 98 6 3 1 8 67 2 48 0 0 0 0 0 0 0 0 0 7 33 1 8 18 2 46 6 3 1 8 60 2 50 0 0 0 0 0 0 0 29 1 9 22 102 2 52 6 3 1 8 68 15 42 0 0 0 0 0 0 0 64 16 17 1 7 90 5 39 17 1 10 82 0 0 0 0 0 0 0 0 0 27 55 4 77 4 71 6 4 72 0 0 0 0 0 0 0 0 0 0 0 0 3 55 91 6 28 76 298 0 0 0 0 0 0 0 0 0 0 0 0 0 0 35 34 1 9 60 2 54 5 3 1 9 117 2 49 0 0 0 0 0 0 0 29 1 12 65 2 45 6 3 1 12 57 26 11 24 0 0 0 0 0 0 0 4 32 31 1 65 2 51 6 3 1 8 58 2 41 0 0 0 0 0 0 0 7 33 1 12 19 2 50 6 3 1 12 57 2 24 0 0 0 0 0 0 0 3 158 91 121 97 134 154 0 0 0 0 0 0 0 0 0 0 0 0 0 0 4 32 31 1 9 63 2 48 6 3 1 12 60 2 49 0 0 0 0 0 0 10 85 1 39 16 13 14 5 7 80 27 1 13 14 0 0 0 0 0 0 0 20 109 10 23 14 122 146 218 0 0 0 0 0 0 0 0 0 0 0 0 0 4 32 31 1 9 21 15 25 22 51 6 3 1 12 57 2 56 0 0 0 0 3 94 4 28 28 76 6 4 75 0 0 0 0 0 0 0 0 0 0 0 0 64 16 17 1 7 86 0 0 0 0 0 0 0 0 0 0 0 0 0 0 0 10 82 1 20 16 17 13 5 10 85 1 40 17 13 0 0 0 0 0 0 0 7 62 1 9 10 81 15 42 5 3 157 26 11 24 0 0 0 0 0 0 0 106 130 4 74 4 72 6 4 73 0 0 0 0 0 0 0 0 0 0 0 0 29 1 8 19 2 51 5 9 108 177 2 50 0 0 0 0 0 0 0 0 0 29 1 8 21 15 25 22 51 5 3 1 19 26 11 24 0 0 0 0 0 0 4 32 31 1 18 15 25 22 47 6 3 1 57 2 51 0 0 0 0 0 0 135 4 74 4 71 6 4 72 0 0 0 0 0 0 0 0 0 0 0 0 0 35 34 1 8 66 2 52 5 3 1 57 2 45 0 0 0 0 0 0 0 0 20 16 10 23 14 1 10 85 5 64 23 14 1 84 0 0 0 0 0 0 0 7 33 1 8 21 37 11 24 5 3 1 9 21 2 50 0 0 0 0 0 0 33 1 59 2 51 6 3 1 9 21 2 53 0 0 0 0 0 0 0 0 0 29 1 10 81 69 2 41 6 3 1 8 19 2 56 0 0 0 0 0 0 0 35 34 1 18 26 98 5 3 1 9 18 2 48 0 0 0 0 0 0 0 0 33 1 63 2 48 5 3 1 112 15 25 79 56 0 0 0 0 0 0 0 0 10 85 1 61 16 10 23 119 5 10 38 1 10 23 14 0 0 0 0 0 0 99 127 38 28 76 6 4 28 0 0 0 0 0 0 0 0 0 0 0 0 0 29 1 67 37 11 46 5 3 1 8 21 26 11 24 0 0 0 0 0 0 0 29 1 8 63 37 11 24 5 3 1 12 60 15 42 0 0 0 0 0 0 0 7 36 1 58 69 37 11 44 5 3 1 8 63 26 11 24 0 0 0 0 0 152 96 10 23 14 1 84 5 39 23 14 1 7 83 0 0 0 0 0 0 0 27 55 4 73 4 72 6 4 74 0 0 0 0 0 0 0 0 0 0 0 0 29 1 9 59 26 98 5 3 1 9 19 2 48 0 0 0 0 0 0 0 0 40 16 17 1 7 86 5 20 93 1 7 88 0 0 0 0 0 0 0 0 0 29 1 9 65 2 49 6 3 1 8 137 2 48 0 0 0 0 0 0 0 0 64 16 17 1 13 7 80 5 20 13 17 1 7 89 0 0 0 0 0 0 0 4 32 31 1 19 37 11 24 5 3 1 12 57 2 45 0 0 0 0 0 0 3 160 171 1 198 22 164 189 250 11 185 0 0 0 0 0 0 0 0 0 0 11 30 1 10 81 69 37 11 46 6 3 1 63 2 43 0 0 0 0 0 0 7 33 1 9 68 2 54 5 3 1 19 2 46 0 0 0 0 0 0 0 0 235 294 116 26 29 0 0 0 0 0 0 0 0 0 0 0 0 0 0 0 0 7 33 1 12 68 15 25 22 51 5 3 95 2 48 0 0 0 0 0 0 0 27 160 146 303 197 22 164 189 15 186 0 0 0 0 0 0 0 0 0 0 0 99 124 4 77 4 74 6 4 78 0 0 0 0 0 0 0 0 0 0 0 0 29 1 8 92 2 54 5 3 1 8 65 26 11 24 0 0 0 0 0 0 0 62 1 65 2 51 6 3 1 58 69 2 50 0 0 0 0 0 0 0 0 0 11 30 1 9 104 26 98 6 3 1 9 66 2 51 0 0 0 0 0 0 0 101 1 9 59 37 11 46 6 3 157 2 52 0 0 0 0 0 0 0 0 0 7 36 1 10 81 69 37 11 46 5 3 1 58 2 49 0 0 0 0 0 0 61 13 14 16 1 7 86 5 39 13 14 1 7 89 0 0 0 0 0 0 0 11 30 1 9 60 2 48 6 3 95 9 2 44 0 0 0 0 0 0 0 0 11 30 1 8 137 15 25 79 56 6 3 1 12 21 2 49 0 0 0 0 0 36 1 9 58 37 11 44 6 3 1 63 26 11 24 0 0 0 0 0 0 0 10 38 1 64 16 13 14 5 7 90 27 1 13 14 0 0 0 0 0 0 0 33 1 67 15 42 5 3 1 12 19 2 54 0 0 0 0 0 0 0 0 0 10 38 1 20 16 10 23 14 5 7 90 27 1 10 23 14 0 0 0 0 0 27 55 10 38 4 78 6 4 28 0 0 0 0 0 0 0 0 0 0 0 0 27 145 120 151 97 150 0 0 0 0 0 0 0 0 0 0 0 0 0 0 0 3 55 4 70 4 77 6 10 38 0 0 0 0 0 0 0 0 0 0 0 0 11 30 1 8 18 2 45 6 3 1 9 63 2 50 0 0 0 0 0 0 0 129 96 10 23 14 1 10 38 5 40 23 14 1 7 90 0 0 0 0 0 0 61 16 17 1 13 10 85 5 64 13 93 1 7 90 0 0 0 0 0 0 0 36 1 21 15 25 22 45 6 3 1 9 57 2 49 0 0 0 0 0 0 0 29 1 8 92 2 50 5 3 1 12 68 2 48 0 0 0 0 0 0 0 0 20 16 17 13 1 7 90 5 39 17 13 1 7 80 0 0 0 0 0 0 0 27 55 4 70 4 78 6 4 28 0 0 0 0 0 0 0 0 0 0 0 0 35 34 1 9 117 2 52 5 3 1 59 15 42 0 0 0 0 0 0 0 0 36 1 21 15 25 22 45 5 3 1 9 21 2 43 0 0 0 0 0 0 0 7 33 1 9 58 37 11 44 5 3 1 12 18 2 54 0 0 0 0 0 0 40 16 17 1 10 85 5 64 93 1 7 80 0 0 0 0 0 0 0 0 0 4 32 31 1 9 21 2 52 5 3 1 65 2 44 0 0 0 0 0 0 0 152 96 10 23 14 1 10 85 5 39 23 14 1 7 86 0 0 0 0 0 0 27 94 4 70 6 4 78 0 0 0 0 0 0 0 0 0 0 0 0 0 0 35 34 1 12 67 2 48 5 3 1 18 15 42 0 0 0 0 0 0 0 0 7 86 1 20 13 14 108 96 5 7 90 1 64 13 14 0 0 0 0 0 0 11 30 1 8 57 15 25 22 45 5 3 1 9 125 2 52 0 0 0 0 0 4 257 131 170 141 4 13 175 0 0 0 0 0 0 0 0 0 0 0 0 0 7 90 1 39 13 14 108 96 5 7 83 1 20 13 14 0 0 0 0 0 0 10 85 1 7 13 14 108 96 5 7 90 1 40 13 14 0 0 0 0 0 0 4 32 31 1 58 8 2 53 6 3 1 12 67 2 52 0 0 0 0 0 0 7 33 1 12 18 15 42 6 3 1 12 92 26 11 24 0 0 0 0 0 0 116 160 146 7 194 161 10 187 6 10 186 1 196 0 0 0 0 0 0 0 0 99 127 4 71 28 76 6 4 77 0 0 0 0 0 0 0 0 0 0 0 0 115 217 122 40 109 10 23 14 0 0 0 0 0 0 0 0 0 0 0 0 0 27 94 10 110 133 169 0 0 0 0 0 0 0 0 0 0 0 0 0 0 0 36 1 9 10 81 37 11 44 6 3 1 69 21 2 51 0 0 0 0 0 0 20 16 17 1 7 89 0 0 0 0 0 0 0 0 0 0 0 0 0 0 0 10 82 1 39 16 17 13 5 7 89 1 61 13 17 0 0 0 0 0 0 0 29 1 8 18 2 49 5 3 1 8 65 2 53 0 0 0 0 0 0 0 0 29 1 12 65 2 52 5 3 1 12 19 2 47 0 0 0 0 0 0 0 0 20 16 17 1 7 87 5 40 93 1 7 89 0 0 0 0 0 0 0 0 0 61 16 17 1 7 90 5 20 17 1 7 80 0 0 0 0 0 0 0 0 0 36 1 8 67 2 49 5 3 1 12 60 15 42 0 0 0 0 0 0 0 0 7 33 1 60 2 53 5 3 1 8 19 2 43 0 0 0 0 0 0 0 0 29 1 9 10 81 2 53 6 3 1 8 18 2 48 0 0 0 0 0 0 0 35 34 1 9 63 2 52 6 3 1 9 68 2 53 0 0 0 0 0 0 0 27 55 120 147 97 162 0 0 0 0 0 0 0 0 0 0 0 0 0 0 0 3 100 4 72 4 74 6 4 28 76 0 0 0 0 0 0 0 0 0 0 0 4 32 31 1 249 26 98 5 3 1 8 66 2 47 0 0 0 0 0 0 0 11 30 1 249 15 25 22 48 5 3 1 12 63 26 11 24 0 0 0 0 0 7 80 1 20 16 17 13 5 7 89 1 39 17 13 0 0 0 0 0 0 0 36 1 9 22 225 26 98 6 3 1 8 21 15 42 0 0 0 0 0 0 0 29 1 63 37 11 46 6 3 1 21 26 11 24 0 0 0 0 0 0 0 0 20 16 17 1 13 10 82 5 20 13 17 1 7 83 0 0 0 0 0 0 0 11 30 1 69 65 15 25 22 47 6 3 1 9 60 2 53 0 0 0 0 0 29 1 8 57 2 53 5 3 1 9 26 63 2 54 0 0 0 0 0 0 0 27 94 4 28 28 76 6 4 77 0 0 0 0 0 0 0 0 0 0 0 0 3 55 4 28 4 71 6 4 75 0 0 0 0 0 0 0 0 0 0 0 0 11 30 1 9 67 37 11 46 5 3 1 8 57 2 54 0 0 0 0 0 0 4 32 31 1 12 59 26 98 5 3 1 8 67 2 54 0 0 0 0 0 0 62 1 8 63 2 50 6 3 1 9 18 15 42 0 0 0 0 0 0 0 0 27 55 91 28 76 4 75 6 4 78 0 0 0 0 0 0 0 0 0 0 0 35 34 1 57 2 54 6 3 1 9 22 102 2 53 0 0 0 0 0 0 0 4 32 31 105 131 9 190 2 49 6 3 1 9 19 2 44 0 0 0 0 0 99 124 4 28 4 78 6 4 70 0 0 0 0 0 0 0 0 0 0 0 0 3 55 91 120 168 97 150 0 0 0 0 0 0 0 0 0 0 0 0 0 0 62 1 8 68 2 41 5 3 1 8 65 2 51 0 0 0 0 0 0 0 0 27 94 4 28 38 6 4 70 0 0 0 0 0 0 0 0 0 0 0 0 0 27 94 4 78 4 72 6 10 38 0 0 0 0 0 0 0 0 0 0 0 0 29 1 9 21 15 25 22 51 6 3 1 57 9 2 44 0 0 0 0 0 0 35 34 1 104 2 48 6 3 1 65 2 52 0 0 0 0 0 0 0 0 0 7 87 1 40 16 10 23 14 5 10 85 27 1 10 23 14 0 0 0 0 0 39 13 14 108 96 1 7 87 5 61 13 14 1 7 90 0 0 0 0 0 0 27 55 7 168 97 155 0 0 0 0 0 0 0 0 0 0 0 0 0 0 0 20 16 1 13 14 10 82 5 27 1 13 14 7 86 0 0 0 0 0 0 0 101 1 9 60 2 53 5 3 1 9 19 15 42 0 0 0 0 0 0 0 0 35 34 1 12 57 2 41 5 3 1 8 58 2 53 0 0 0 0 0 0 0 4 32 31 1 12 18 26 98 6 3 1 8 10 81 2 48 0 0 0 0 0 7 89 1 64 16 17 5 10 38 1 40 93 0 0 0 0 0 0 0 0 0 106 130 10 38 6 4 74 0 0 0 0 0 0 0 0 0 0 0 0 0 0 27 180 173 32 31 2 43 114 0 0 0 0 0 0 0 0 0 0 0 0 0 205 131 99 91 123 2 33 0 0 0 0 0 0 0 0 0 0 0 0 0 0 35 34 1 8 65 2 53 5 3 1 67 15 42 0 0 0 0 0 0 0 0 7 36 1 8 19 37 11 44 5 3 1 9 57 2 51 0 0 0 0 0 0 101 1 60 15 25 22 45 5 3 1 8 65 15 42 0 0 0 0 0 0 0 29 1 8 65 37 11 44 6 3 1 9 21 26 11 24 0 0 0 0 0 0 33 1 66 37 11 44 6 3 1 9 63 2 48 0 0 0 0 0 0 0 0 29 1 8 18 2 45 6 3 1 67 2 52 0 0 0 0 0 0 0 0 0 20 16 17 13 1 7 80 5 20 13 17 1 10 82 0 0 0 0 0 0 0 255 122 40 254 26 29 2 51 142 0 0 0 0 0 0 0 0 0 0 0 0 101 1 8 67 15 25 22 47 5 3 1 12 18 2 45 0 0 0 0 0 0 29 1 12 19 15 111 285 42 6 3 1 8 21 2 48 0 0 0 0 0 0 11 30 1 9 66 37 11 44 6 3 1 12 57 2 51 0 0 0 0 0 0 7 33 1 8 63 37 11 24 6 3 1 8 10 81 2 52 0 0 0 0 0 27 143 120 148 97 150 0 0 0 0 0 0 0 0 0 0 0 0 0 0 0 36 1 9 66 15 25 22 51 5 3 1 12 92 26 11 24 0 0 0 0 0 20 16 17 13 1 7 80 5 39 17 13 1 7 87 0 0 0 0 0 0 0 27 94 4 71 4 73 6 4 77 0 0 0 0 0 0 0 0 0 0 0 0 116 100 91 4 77 10 38 6 4 70 0 0 0 0 0 0 0 0 0 0 0 7 33 1 8 92 26 98 6 3 1 8 10 81 2 50 0 0 0 0 0 0 3 94 4 71 4 78 6 4 70 0 0 0 0 0 0 0 0 0 0 0 0 35 34 1 12 18 2 24 5 3 1 58 69 2 46 0 0 0 0 0 0 0 35 34 1 19 15 25 22 47 6 3 1 9 58 2 54 0 0 0 0 0 0 4 32 31 1 58 8 2 50 5 3 1 9 60 26 11 24 0 0 0 0 0 3 143 115 184 110 182 0 0 0 0 0 0 0 0 0 0 0 0 0 0 0 106 130 4 70 4 77 6 4 28 0 0 0 0 0 0 0 0 0 0 0 0 11 30 1 9 117 2 53 6 3 1 8 19 2 43 0 0 0 0 0 0 0 62 1 63 37 11 46 5 3 1 9 18 2 49 0 0 0 0 0 0 0 0 3 94 4 28 4 74 6 4 72 0 0 0 0 0 0 0 0 0 0 0 0 106 128 91 4 72 4 73 6 10 38 0 0 0 0 0 0 0 0 0 0 0 4 32 31 1 12 63 37 11 24 5 3 1 12 18 2 51 0 0 0 0 0 84 1 64 16 17 5 7 83 1 39 17 0 0 0 0 0 0 0 0 0 0 7 80 1 20 16 17 13 5 7 90 1 64 13 140 0 0 0 0 0 0 0 11 30 1 9 7 102 2 50 5 3 1 8 19 2 46 0 0 0 0 0 0 7 86 1 64 16 17 13 5 7 89 1 40 17 13 0 0 0 0 0 0 0 27 55 4 71 4 73 6 4 74 0 0 0 0 0 0 0 0 0 0 0 0 3 55 91 10 200 110 176 0 0 0 0 0 0 0 0 0 0 0 0 0 0 4 32 31 1 12 66 2 49 6 3 1 9 68 2 45 0 0 0 0 0 0 36 1 9 60 2 45 6 3 1 18 2 46 0 0 0 0 0 0 0 0 0 10 82 1 40 16 10 23 14 5 7 87 1 64 23 14 0 0 0 0 0 0 10 82 1 39 13 14 108 96 5 10 38 1 20 13 14 0 0 0 0 0 0 29 1 12 18 15 25 79 56 6 3 1 12 18 2 45 0 0 0 0 0 0 106 130 10 38 4 73 6 4 74 0 0 0 0 0 0 0 0 0 0 0 0 11 30 1 58 2 24 6 3 1 9 66 2 56 0 0 0 0 0 0 0 0 99 124 4 73 10 38 6 4 70 0 0 0 0 0 0 0 0 0 0 0 0 7 83 1 7 13 14 108 96 5 7 80 1 39 13 14 0 0 0 0 0 0 35 34 1 9 63 15 111 22 11 24 5 3 1 8 66 2 46 0 0 0 0 29 1 8 18 2 50 6 3 1 60 2 54 0 0 0 0 0 0 0 0 0 11 30 1 12 57 2 45 6 3 1 8 67 2 48 0 0 0 0 0 0 0 20 16 10 23 14 1 10 85 5 64 23 14 1 84 0 0 0 0 0 0 0 35 34 1 8 18 2 46 5 3 1 12 19 2 45 0 0 0 0 0 0 0 7 80 1 39 13 14 108 96 5 7 88 1 64 13 14 0 0 0 0 0 0 7 33 1 9 104 26 98 6 3 1 69 21 2 50 0 0 0 0 0 0 0 11 30 1 8 18 2 51 6 3 1 8 60 2 56 0 0 0 0 0 0 0 3 143 121 147 97 153 0 0 0 0 0 0 0 0 0 0 0 0 0 0 0 3 100 4 74 4 72 6 10 38 0 0 0 0 0 0 0 0 0 0 0 0 11 30 1 12 19 2 53 5 3 1 9 125 2 41 0 0 0 0 0 0 0 7 86 1 61 16 17 5 7 83 1 39 17 0 0 0 0 0 0 0 0 0 61 16 17 1 7 90 5 39 17 1 84 0 0 0 0 0 0 0 0 0 0 36 1 8 18 2 52 5 3 1 9 63 2 51 0 0 0 0 0 0 0 0 7 33 1 8 137 2 52 5 3 1 19 15 42 0 0 0 0 0 0 0 0 3 55 4 74 4 77 6 4 70 0 0 0 0 0 0 0 0 0 0 0 0 4 32 31 1 8 19 37 11 24 5 3 1 8 18 26 11 24 0 0 0 0 3 145 120 97 134 174 0 0 0 0 0 0 0 0 0 0 0 0 0 0 0 7 36 1 58 12 15 25 22 47 5 3 1 12 59 2 56 0 0 0 0 0 35 34 1 8 19 15 25 79 56 5 3 1 18 2 54 0 0 0 0 0 0 27 94 4 28 4 74 6 4 73 0 0 0 0 0 0 0 0 0 0 0 0 7 89 1 20 16 17 5 10 85 1 61 17 0 0 0 0 0 0 0 0 0 39 16 10 23 14 1 10 82 5 40 23 14 1 7 90 0 0 0 0 0 0 38 131 191 96 4 23 206 0 0 0 0 0 0 0 0 0 0 0 0 0 0 27 247 121 147 97 153 0 0 0 0 0 0 0 0 0 0 0 0 0 0 0 4 32 31 1 8 104 15 111 22 11 24 6 3 95 9 2 46 0 0 0 0 27 94 4 75 4 74 6 4 78 0 0 0 0 0 0 0 0 0 0 0 0 62 1 21 2 49 6 3 1 8 67 2 46 0 0 0 0 0 0 0 0 0 36 1 8 66 2 48 5 9 22 102 2 56 0 0 0 0 0 0 0 0 0 35 34 1 12 92 2 50 6 3 95 69 15 42 0 0 0 0 0 0 0 0 39 16 17 1 7 86 5 20 93 1 84 0 0 0 0 0 0 0 0 0 0 11 30 1 9 104 37 11 44 6 3 1 12 60 2 50 0 0 0 0 0 0 27 55 4 74 4 73 6 4 72 0 0 0 0 0 0 0 0 0 0 0 0 4 32 31 1 60 15 25 22 47 6 3 1 8 65 2 45 0 0 0 0 0 36 1 9 22 102 2 45 6 3 1 9 68 26 11 24 0 0 0 0 0 0 27 55 4 77 6 4 74 0 0 0 0 0 0 0 0 0 0 0 0 0 0 3 55 4 78 4 74 6 4 71 0 0 0 0 0 0 0 0 0 0 0 0 3 55 4 77 4 75 6 4 28 76 0 0 0 0 0 0 0 0 0 0 0 7 36 1 8 10 81 37 11 24 5 3 1 8 68 15 42 0 0 0 0 0 11 30 1 67 2 52 5 3 1 8 19 2 49 0 0 0 0 0 0 0 0 35 34 1 9 58 2 49 6 3 1 65 2 52 0 0 0 0 0 0 0 0 129 96 10 23 14 1 10 82 5 39 23 14 1 7 83 0 0 0 0 0 0 4 32 31 1 58 15 25 22 48 5 3 1 12 65 2 46 0 0 0 0 0 20 16 17 13 1 7 90 5 61 13 17 1 84 0 0 0 0 0 0 0 0 106 128 91 4 78 4 70 6 10 38 0 0 0 0 0 0 0 0 0 0 0 84 1 40 16 13 14 5 7 86 27 1 13 14 0 0 0 0 0 0 0 0 3 100 4 73 4 159 6 4 75 0 0 0 0 0 0 0 0 0 0 0 0 3 1 198 22 164 2 186 187 0 0 0 0 0 0 0 0 0 0 0 0 0 4 32 31 1 9 22 102 15 25 22 47 5 3 1 8 66 15 42 0 0 0\n\t [[{{node compile_loss/sparse_categorical_crossentropy/SparseSoftmaxCrossEntropyWithLogits/SparseSoftmaxCrossEntropyWithLogits}}]] [Op:__inference_one_step_on_iterator_7352]"
     ]
    }
   ],
   "source": [
    "def simple_model(input_shape, output_sequence_length, english_vocab_size, french_vocab_size):\n",
    "    \n",
    "    #Hyperparameters\n",
    "    learning_rate = 0.005\n",
    "    \n",
    "    # Build the layers\n",
    "    model = Sequential()\n",
    "    model.add(GRU(256, input_shape=input_shape[1:], return_sequences=True))\n",
    "    model.add(TimeDistributed(Dense(1024, activation='relu')))\n",
    "    model.add(Dropout(0.5))\n",
    "    model.add(TimeDistributed(Dense(french_vocab_size, activation='softmax')))\n",
    "    \n",
    "    # Compile model\n",
    "    model.compile(loss = sparse_categorical_crossentropy,\n",
    "                  optimizer = Adam(learning_rate),\n",
    "                  metrics = ['accuracy'])\n",
    "    \n",
    "    return model\n",
    "\n",
    "tmp_x = pad(preproc_english_sentences, max_french_sequence_length)\n",
    "tmp_x = tmp_x.reshape((-1, preproc_french_sentences.shape[-2], 1))\n",
    "\n",
    "#Train the neural network\n",
    "simple_rnn_model = simple_model(\n",
    "    tmp_x.shape,\n",
    "    max_french_sequence_length,\n",
    "    english_vocab_size,\n",
    "    french_vocab_size)\n",
    "\n",
    "simple_rnn_model.fit(tmp_x, preproc_french_sentences, batch_size=1024, epochs=10, validation_split=0.2)"
   ]
  },
  {
   "cell_type": "code",
   "execution_count": null,
   "metadata": {},
   "outputs": [
    {
     "name": "stdout",
     "output_type": "stream",
     "text": [
      "Prediciton:\n",
      "1/1 [==============================] - 0s 448ms/step\n",
      "new jersey est parfois calme en l' et il est il est en en <PAD> <PAD> <PAD> <PAD> <PAD> <PAD> <PAD>\n",
      "\n",
      "Correct Translation:\n",
      "[\"new jersey est parfois calme pendant l' automne , et il est neigeux en avril .\"]\n",
      "\n",
      "Original text:\n",
      "['new jersey is sometimes quiet during autumn , and it is snowy in april .']\n"
     ]
    }
   ],
   "source": [
    "# Print prediction(s)\n",
    "print(\"Prediciton:\")\n",
    "print(logits_to_text(simple_rnn_model.predict(tmp_x[:1])[0], french_tokenizer))\n",
    "\n",
    "print(\"\\nCorrect Translation:\")\n",
    "print(french_sentences[:1])\n",
    "\n",
    "print('\\nOriginal text:')\n",
    "print(english_sentences[:1])"
   ]
  },
  {
   "cell_type": "markdown",
   "metadata": {},
   "source": [
    "### Model 2: Bidirectional RNNs\n",
    "![RNN](images/bidirectional.png)\n",
    "One restriction of a RNN is that it can't see the future input, only the past.  This is where bidirectional recurrent neural networks come in.  They are able to see the future data."
   ]
  },
  {
   "cell_type": "code",
   "execution_count": null,
   "metadata": {},
   "outputs": [
    {
     "name": "stdout",
     "output_type": "stream",
     "text": [
      "Model: \"sequential_1\"\n",
      "_________________________________________________________________\n",
      " Layer (type)                Output Shape              Param #   \n",
      "=================================================================\n",
      " bidirectional (Bidirectiona  (None, 21, 256)          100608    \n",
      " l)                                                              \n",
      "                                                                 \n",
      " time_distributed_2 (TimeDis  (None, 21, 1024)         263168    \n",
      " tributed)                                                       \n",
      "                                                                 \n",
      " dropout_1 (Dropout)         (None, 21, 1024)          0         \n",
      "                                                                 \n",
      " time_distributed_3 (TimeDis  (None, 21, 344)          352600    \n",
      " tributed)                                                       \n",
      "                                                                 \n",
      "=================================================================\n",
      "Total params: 716,376\n",
      "Trainable params: 716,376\n",
      "Non-trainable params: 0\n",
      "_________________________________________________________________\n",
      "None\n",
      "Epoch 1/10\n",
      "108/108 [==============================] - 10s 64ms/step - loss: 1.7555 - accuracy: 0.5752 - val_loss: nan - val_accuracy: 0.6471\n",
      "Epoch 2/10\n",
      "108/108 [==============================] - 7s 67ms/step - loss: 1.1732 - accuracy: 0.6546 - val_loss: nan - val_accuracy: 0.6803\n",
      "Epoch 3/10\n",
      "108/108 [==============================] - 8s 77ms/step - loss: 1.0462 - accuracy: 0.6760 - val_loss: nan - val_accuracy: 0.6886\n",
      "Epoch 4/10\n",
      "108/108 [==============================] - 8s 74ms/step - loss: 0.9696 - accuracy: 0.6871 - val_loss: nan - val_accuracy: 0.7018\n",
      "Epoch 5/10\n",
      "108/108 [==============================] - 8s 73ms/step - loss: 0.9159 - accuracy: 0.6962 - val_loss: nan - val_accuracy: 0.7112\n",
      "Epoch 6/10\n",
      "108/108 [==============================] - 8s 72ms/step - loss: 0.8750 - accuracy: 0.7038 - val_loss: nan - val_accuracy: 0.7172\n",
      "Epoch 7/10\n",
      "108/108 [==============================] - 8s 71ms/step - loss: 0.8414 - accuracy: 0.7113 - val_loss: nan - val_accuracy: 0.7287\n",
      "Epoch 8/10\n",
      "108/108 [==============================] - 8s 74ms/step - loss: 0.8161 - accuracy: 0.7163 - val_loss: nan - val_accuracy: 0.7368\n",
      "Epoch 9/10\n",
      "108/108 [==============================] - 9s 80ms/step - loss: 0.7915 - accuracy: 0.7216 - val_loss: nan - val_accuracy: 0.7339\n",
      "Epoch 10/10\n",
      "108/108 [==============================] - 10s 92ms/step - loss: 0.7849 - accuracy: 0.7222 - val_loss: nan - val_accuracy: 0.7424\n"
     ]
    },
    {
     "data": {
      "text/plain": [
       "<keras.callbacks.History at 0x1220e9f6c10>"
      ]
     },
     "execution_count": 12,
     "metadata": {},
     "output_type": "execute_result"
    }
   ],
   "source": [
    "def bd_model(input_shape, output_sequence_length, english_vocab_size, french_vocab_size):\n",
    "    \n",
    "    #Hyperparameters\n",
    "    learning_rate = 0.005\n",
    "    \n",
    "    # Build the layers\n",
    "    model = Sequential()\n",
    "    model.add(Bidirectional(GRU(128, return_sequences=True), input_shape=input_shape[1:]))\n",
    "    model.add(TimeDistributed(Dense(1024, activation='relu')))\n",
    "    model.add(Dropout(0.5))\n",
    "    model.add(TimeDistributed(Dense(french_vocab_size, activation='softmax')))\n",
    "    \n",
    "    # Compile model\n",
    "    model.compile(loss = sparse_categorical_crossentropy,\n",
    "                  optimizer = Adam(learning_rate),\n",
    "                  metrics = ['accuracy'])\n",
    "    \n",
    "    return model\n",
    "\n",
    "tmp_x = pad(preproc_english_sentences, max_french_sequence_length)\n",
    "tmp_x = tmp_x.reshape((-1, preproc_french_sentences.shape[-2], 1))\n",
    "\n",
    "# Train the neural network\n",
    "bd_rnn_model = bd_model(\n",
    "    tmp_x.shape,\n",
    "    max_french_sequence_length,\n",
    "    english_vocab_size,\n",
    "    french_vocab_size)\n",
    "\n",
    "print(bd_rnn_model.summary())\n",
    "\n",
    "bd_rnn_model.fit(tmp_x, preproc_french_sentences, batch_size=1024, epochs=10, validation_split=0.2)"
   ]
  },
  {
   "cell_type": "code",
   "execution_count": null,
   "metadata": {},
   "outputs": [
    {
     "name": "stdout",
     "output_type": "stream",
     "text": [
      "Prediciton:\n",
      "1/1 [==============================] - 1s 767ms/step\n",
      "new jersey est parfois chaud en l' et il et il est en en <PAD> <PAD> <PAD> <PAD> <PAD> <PAD> <PAD>\n",
      "\n",
      "Correct Translation:\n",
      "[\"new jersey est parfois calme pendant l' automne , et il est neigeux en avril .\"]\n",
      "\n",
      "Original text:\n",
      "['new jersey is sometimes quiet during autumn , and it is snowy in april .']\n"
     ]
    }
   ],
   "source": [
    "# Print prediction(s)\n",
    "print(\"Prediciton:\")\n",
    "print(logits_to_text(bd_rnn_model.predict(tmp_x[:1])[0], french_tokenizer))\n",
    "\n",
    "print(\"\\nCorrect Translation:\")\n",
    "print(french_sentences[:1])\n",
    "\n",
    "print('\\nOriginal text:')\n",
    "print(english_sentences[:1])"
   ]
  },
  {
   "cell_type": "markdown",
   "metadata": {},
   "source": [
    "### Model 3: Embedding\n",
    "![RNN](images/embedding-words.png)\n",
    "You've turned the words into ids, but there's a better representation of a word.  This is called word embeddings.  An embedding is a vector representation of the word that is close to similar words in n-dimensional space, where the n represents the size of the embedding vectors."
   ]
  },
  {
   "cell_type": "code",
   "execution_count": null,
   "metadata": {},
   "outputs": [
    {
     "name": "stdout",
     "output_type": "stream",
     "text": [
      "Model: \"sequential_3\"\n",
      "_________________________________________________________________\n",
      " Layer (type)                Output Shape              Param #   \n",
      "=================================================================\n",
      " embedding_1 (Embedding)     (None, 21, 256)           50944     \n",
      "                                                                 \n",
      " bidirectional_2 (Bidirectio  (None, 21, 512)          789504    \n",
      " nal)                                                            \n",
      "                                                                 \n",
      " time_distributed_4 (TimeDis  (None, 21, 1024)         525312    \n",
      " tributed)                                                       \n",
      "                                                                 \n",
      " dropout_2 (Dropout)         (None, 21, 1024)          0         \n",
      "                                                                 \n",
      " time_distributed_5 (TimeDis  (None, 21, 344)          352600    \n",
      " tributed)                                                       \n",
      "                                                                 \n",
      "=================================================================\n",
      "Total params: 1,718,360\n",
      "Trainable params: 1,718,360\n",
      "Non-trainable params: 0\n",
      "_________________________________________________________________\n",
      "None\n",
      "Epoch 1/10\n",
      "108/108 [==============================] - 17s 113ms/step - loss: 1.1454 - accuracy: 0.7216 - val_loss: nan - val_accuracy: 0.8894\n",
      "Epoch 2/10\n",
      "108/108 [==============================] - 13s 119ms/step - loss: 0.2756 - accuracy: 0.9114 - val_loss: nan - val_accuracy: 0.9438\n",
      "Epoch 3/10\n",
      "108/108 [==============================] - 13s 117ms/step - loss: 0.1623 - accuracy: 0.9489 - val_loss: nan - val_accuracy: 0.9615\n",
      "Epoch 4/10\n",
      "108/108 [==============================] - 13s 124ms/step - loss: 0.1197 - accuracy: 0.9623 - val_loss: nan - val_accuracy: 0.9720\n",
      "Epoch 5/10\n",
      "108/108 [==============================] - 17s 153ms/step - loss: 0.0912 - accuracy: 0.9715 - val_loss: nan - val_accuracy: 0.9761\n",
      "Epoch 6/10\n",
      "108/108 [==============================] - 19s 180ms/step - loss: 0.0783 - accuracy: 0.9756 - val_loss: nan - val_accuracy: 0.9778\n",
      "Epoch 7/10\n",
      "108/108 [==============================] - 21s 194ms/step - loss: 0.0701 - accuracy: 0.9781 - val_loss: nan - val_accuracy: 0.9797\n",
      "Epoch 8/10\n",
      "108/108 [==============================] - 25s 231ms/step - loss: 0.0636 - accuracy: 0.9802 - val_loss: nan - val_accuracy: 0.9802\n",
      "Epoch 9/10\n",
      "108/108 [==============================] - 25s 230ms/step - loss: 0.0593 - accuracy: 0.9814 - val_loss: nan - val_accuracy: 0.9817\n",
      "Epoch 10/10\n",
      "108/108 [==============================] - 25s 232ms/step - loss: 0.0529 - accuracy: 0.9835 - val_loss: nan - val_accuracy: 0.9830\n"
     ]
    },
    {
     "data": {
      "text/plain": [
       "<keras.callbacks.History at 0x1219cfcbe80>"
      ]
     },
     "execution_count": 15,
     "metadata": {},
     "output_type": "execute_result"
    }
   ],
   "source": [
    "def bidirectional_embed_model(input_shape, output_sequence_length, english_vocab_size, french_vocab_size):\n",
    "    \n",
    "    # Hyperparameters\n",
    "    learning_rate = 0.005\n",
    "    \n",
    "    # Build the layers\n",
    "    model = Sequential()\n",
    "    model.add(Embedding(english_vocab_size, 256, input_length=input_shape[1], input_shape=input_shape[1:]))\n",
    "    model.add(Bidirectional(GRU(256, return_sequences=True)))\n",
    "    model.add(TimeDistributed(Dense(1024, activation='relu')))\n",
    "    model.add(Dropout(0.5))\n",
    "    model.add(TimeDistributed(Dense(french_vocab_size, activation='softmax')))\n",
    "    \n",
    "    # Compile model\n",
    "    model.compile(loss = sparse_categorical_crossentropy,\n",
    "                  optimizer = Adam(learning_rate),\n",
    "                  metrics = ['accuracy'])\n",
    "    \n",
    "    return model\n",
    "\n",
    "tmp_x = pad(preproc_english_sentences, max_french_sequence_length)\n",
    "tmp_x = tmp_x.reshape((-1, preproc_french_sentences.shape[-2]))\n",
    "\n",
    "# Build the model\n",
    "embed_rnn_model = bidirectional_embed_model(\n",
    "    tmp_x.shape,\n",
    "    max_french_sequence_length,\n",
    "    english_vocab_size,\n",
    "    french_vocab_size)\n",
    "\n",
    "print(embed_rnn_model.summary())\n",
    "\n",
    "embed_rnn_model.fit(tmp_x, preproc_french_sentences, batch_size=1024, epochs=10, validation_split=0.2)\n",
    "    "
   ]
  },
  {
   "cell_type": "code",
   "execution_count": null,
   "metadata": {},
   "outputs": [
    {
     "name": "stdout",
     "output_type": "stream",
     "text": [
      "Prediciton:\n",
      "1/1 [==============================] - 1s 1s/step\n",
      "new jersey est parfois calme pendant l' automne et il est neigeux en avril <PAD> <PAD> <PAD> <PAD> <PAD> <PAD> <PAD>\n",
      "\n",
      "Correct Translation:\n",
      "[\"new jersey est parfois calme pendant l' automne , et il est neigeux en avril .\"]\n",
      "\n",
      "Original text:\n",
      "['new jersey is sometimes quiet during autumn , and it is snowy in april .']\n"
     ]
    }
   ],
   "source": [
    "# Print prediction(s)\n",
    "print(\"Prediciton:\")\n",
    "print(logits_to_text(embed_rnn_model.predict(tmp_x[:1])[0], french_tokenizer))\n",
    "\n",
    "print(\"\\nCorrect Translation:\")\n",
    "print(french_sentences[:1])\n",
    "\n",
    "print('\\nOriginal text:')\n",
    "print(english_sentences[:1])"
   ]
  },
  {
   "cell_type": "code",
   "execution_count": null,
   "metadata": {},
   "outputs": [
    {
     "name": "stderr",
     "output_type": "stream",
     "text": [
      "WARNING:absl:Found untraced functions such as gru_cell_8_layer_call_fn, gru_cell_8_layer_call_and_return_conditional_losses, gru_cell_9_layer_call_fn, gru_cell_9_layer_call_and_return_conditional_losses while saving (showing 4 of 4). These functions will not be directly callable after loading.\n"
     ]
    },
    {
     "name": "stdout",
     "output_type": "stream",
     "text": [
      "INFO:tensorflow:Assets written to: english_to_french_model\\assets\n"
     ]
    },
    {
     "name": "stderr",
     "output_type": "stream",
     "text": [
      "INFO:tensorflow:Assets written to: english_to_french_model\\assets\n"
     ]
    }
   ],
   "source": [
    "embed_rnn_model.save('english_to_french_model')\n",
    "# Serialize English Tokenizer to JSON\n",
    "with open('english_tokenizer.json', 'w', encoding='utf8') as f:\n",
    "    f.write(json.dumps(english_tokenizer.to_json(), ensure_ascii=False))\n",
    "    \n",
    "# Serialize French Tokenizer to JSON\n",
    "with open('french_tokenizer.json', 'w', encoding='utf8') as f:\n",
    "    f.write(json.dumps(french_tokenizer.to_json(), ensure_ascii=False))\n",
    "    \n",
    "# Save max lengths\n",
    "max_french_sequence_length_json = max_french_sequence_length\n",
    "with open('sequence_length.json', 'w', encoding='utf8') as f:\n",
    "    f.write(json.dumps(max_french_sequence_length_json, ensure_ascii=False))"
   ]
  },
  {
   "cell_type": "code",
   "execution_count": null,
   "metadata": {},
   "outputs": [],
   "source": []
  }
 ],
 "metadata": {
  "kernelspec": {
   "display_name": "Python 3",
   "language": "python",
   "name": "python3"
  },
  "language_info": {
   "codemirror_mode": {
    "name": "ipython",
    "version": 3
   },
   "file_extension": ".py",
   "mimetype": "text/x-python",
   "name": "python",
   "nbconvert_exporter": "python",
   "pygments_lexer": "ipython3",
   "version": "3.9.19"
  }
 },
 "nbformat": 4,
 "nbformat_minor": 1
}
